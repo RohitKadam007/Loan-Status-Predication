{
 "cells": [
  {
   "cell_type": "markdown",
   "id": "6f6b3b4a",
   "metadata": {},
   "source": [
    "# import the required Liberaries"
   ]
  },
  {
   "cell_type": "code",
   "execution_count": 1,
   "id": "6c1d07b8",
   "metadata": {},
   "outputs": [],
   "source": [
    "from warnings import filterwarnings\n",
    "filterwarnings(\"ignore\")\n",
    "import pandas as pd\n",
    "import matplotlib.pyplot as plt\n",
    "import seaborn as sb\n",
    "import numpy as np"
   ]
  },
  {
   "cell_type": "markdown",
   "id": "bb7c7903",
   "metadata": {},
   "source": [
    "# Fetch Data"
   ]
  },
  {
   "cell_type": "code",
   "execution_count": 2,
   "id": "a45baa04",
   "metadata": {},
   "outputs": [],
   "source": [
    "A = pd.read_csv(\"F:download/training_set.csv\")"
   ]
  },
  {
   "cell_type": "code",
   "execution_count": 3,
   "id": "fcde093d",
   "metadata": {},
   "outputs": [
    {
     "data": {
      "text/html": [
       "<div>\n",
       "<style scoped>\n",
       "    .dataframe tbody tr th:only-of-type {\n",
       "        vertical-align: middle;\n",
       "    }\n",
       "\n",
       "    .dataframe tbody tr th {\n",
       "        vertical-align: top;\n",
       "    }\n",
       "\n",
       "    .dataframe thead th {\n",
       "        text-align: right;\n",
       "    }\n",
       "</style>\n",
       "<table border=\"1\" class=\"dataframe\">\n",
       "  <thead>\n",
       "    <tr style=\"text-align: right;\">\n",
       "      <th></th>\n",
       "      <th>Loan_ID</th>\n",
       "      <th>Gender</th>\n",
       "      <th>Married</th>\n",
       "      <th>Dependents</th>\n",
       "      <th>Education</th>\n",
       "      <th>Self_Employed</th>\n",
       "      <th>ApplicantIncome</th>\n",
       "      <th>CoapplicantIncome</th>\n",
       "      <th>LoanAmount</th>\n",
       "      <th>Loan_Amount_Term</th>\n",
       "      <th>Credit_History</th>\n",
       "      <th>Property_Area</th>\n",
       "      <th>Loan_Status</th>\n",
       "    </tr>\n",
       "  </thead>\n",
       "  <tbody>\n",
       "    <tr>\n",
       "      <th>0</th>\n",
       "      <td>LP001002</td>\n",
       "      <td>Male</td>\n",
       "      <td>No</td>\n",
       "      <td>0</td>\n",
       "      <td>Graduate</td>\n",
       "      <td>No</td>\n",
       "      <td>5849.0</td>\n",
       "      <td>0.0</td>\n",
       "      <td>NaN</td>\n",
       "      <td>360.0</td>\n",
       "      <td>1.0</td>\n",
       "      <td>Urban</td>\n",
       "      <td>Y</td>\n",
       "    </tr>\n",
       "    <tr>\n",
       "      <th>1</th>\n",
       "      <td>LP001003</td>\n",
       "      <td>Male</td>\n",
       "      <td>Yes</td>\n",
       "      <td>1</td>\n",
       "      <td>Graduate</td>\n",
       "      <td>No</td>\n",
       "      <td>NaN</td>\n",
       "      <td>1508.0</td>\n",
       "      <td>128.0</td>\n",
       "      <td>360.0</td>\n",
       "      <td>1.0</td>\n",
       "      <td>Rural</td>\n",
       "      <td>N</td>\n",
       "    </tr>\n",
       "    <tr>\n",
       "      <th>2</th>\n",
       "      <td>LP001005</td>\n",
       "      <td>Male</td>\n",
       "      <td>Yes</td>\n",
       "      <td>0</td>\n",
       "      <td>Graduate</td>\n",
       "      <td>Yes</td>\n",
       "      <td>3000.0</td>\n",
       "      <td>0.0</td>\n",
       "      <td>66.0</td>\n",
       "      <td>360.0</td>\n",
       "      <td>1.0</td>\n",
       "      <td>Urban</td>\n",
       "      <td>Y</td>\n",
       "    </tr>\n",
       "    <tr>\n",
       "      <th>3</th>\n",
       "      <td>LP001006</td>\n",
       "      <td>Male</td>\n",
       "      <td>Yes</td>\n",
       "      <td>0</td>\n",
       "      <td>Not Graduate</td>\n",
       "      <td>No</td>\n",
       "      <td>2583.0</td>\n",
       "      <td>2358.0</td>\n",
       "      <td>120.0</td>\n",
       "      <td>360.0</td>\n",
       "      <td>1.0</td>\n",
       "      <td>Urban</td>\n",
       "      <td>Y</td>\n",
       "    </tr>\n",
       "    <tr>\n",
       "      <th>4</th>\n",
       "      <td>LP001008</td>\n",
       "      <td>Male</td>\n",
       "      <td>No</td>\n",
       "      <td>0</td>\n",
       "      <td>Graduate</td>\n",
       "      <td>No</td>\n",
       "      <td>6000.0</td>\n",
       "      <td>0.0</td>\n",
       "      <td>141.0</td>\n",
       "      <td>360.0</td>\n",
       "      <td>1.0</td>\n",
       "      <td>Urban</td>\n",
       "      <td>Y</td>\n",
       "    </tr>\n",
       "  </tbody>\n",
       "</table>\n",
       "</div>"
      ],
      "text/plain": [
       "    Loan_ID Gender Married Dependents     Education Self_Employed  \\\n",
       "0  LP001002   Male      No          0      Graduate            No   \n",
       "1  LP001003   Male     Yes          1      Graduate            No   \n",
       "2  LP001005   Male     Yes          0      Graduate           Yes   \n",
       "3  LP001006   Male     Yes          0  Not Graduate            No   \n",
       "4  LP001008   Male      No          0      Graduate            No   \n",
       "\n",
       "   ApplicantIncome  CoapplicantIncome  LoanAmount  Loan_Amount_Term  \\\n",
       "0           5849.0                0.0         NaN             360.0   \n",
       "1              NaN             1508.0       128.0             360.0   \n",
       "2           3000.0                0.0        66.0             360.0   \n",
       "3           2583.0             2358.0       120.0             360.0   \n",
       "4           6000.0                0.0       141.0             360.0   \n",
       "\n",
       "   Credit_History Property_Area Loan_Status  \n",
       "0             1.0         Urban           Y  \n",
       "1             1.0         Rural           N  \n",
       "2             1.0         Urban           Y  \n",
       "3             1.0         Urban           Y  \n",
       "4             1.0         Urban           Y  "
      ]
     },
     "execution_count": 3,
     "metadata": {},
     "output_type": "execute_result"
    }
   ],
   "source": [
    "A.head()"
   ]
  },
  {
   "cell_type": "code",
   "execution_count": 4,
   "id": "052b6331",
   "metadata": {},
   "outputs": [],
   "source": [
    "A = A.drop([\"Loan_ID\"],axis=1)"
   ]
  },
  {
   "cell_type": "code",
   "execution_count": 5,
   "id": "cf1ff18d",
   "metadata": {},
   "outputs": [
    {
     "data": {
      "text/plain": [
       "(614, 12)"
      ]
     },
     "execution_count": 5,
     "metadata": {},
     "output_type": "execute_result"
    }
   ],
   "source": [
    "A.shape"
   ]
  },
  {
   "cell_type": "code",
   "execution_count": 6,
   "id": "37221868",
   "metadata": {},
   "outputs": [
    {
     "name": "stdout",
     "output_type": "stream",
     "text": [
      "<class 'pandas.core.frame.DataFrame'>\n",
      "RangeIndex: 614 entries, 0 to 613\n",
      "Data columns (total 12 columns):\n",
      " #   Column             Non-Null Count  Dtype  \n",
      "---  ------             --------------  -----  \n",
      " 0   Gender             599 non-null    object \n",
      " 1   Married            611 non-null    object \n",
      " 2   Dependents         599 non-null    object \n",
      " 3   Education          613 non-null    object \n",
      " 4   Self_Employed      582 non-null    object \n",
      " 5   ApplicantIncome    612 non-null    float64\n",
      " 6   CoapplicantIncome  613 non-null    float64\n",
      " 7   LoanAmount         592 non-null    float64\n",
      " 8   Loan_Amount_Term   600 non-null    float64\n",
      " 9   Credit_History     564 non-null    float64\n",
      " 10  Property_Area      614 non-null    object \n",
      " 11  Loan_Status        614 non-null    object \n",
      "dtypes: float64(5), object(7)\n",
      "memory usage: 57.7+ KB\n"
     ]
    }
   ],
   "source": [
    "A.info()"
   ]
  },
  {
   "cell_type": "code",
   "execution_count": 7,
   "id": "09dc7211",
   "metadata": {},
   "outputs": [
    {
     "data": {
      "text/html": [
       "<div>\n",
       "<style scoped>\n",
       "    .dataframe tbody tr th:only-of-type {\n",
       "        vertical-align: middle;\n",
       "    }\n",
       "\n",
       "    .dataframe tbody tr th {\n",
       "        vertical-align: top;\n",
       "    }\n",
       "\n",
       "    .dataframe thead th {\n",
       "        text-align: right;\n",
       "    }\n",
       "</style>\n",
       "<table border=\"1\" class=\"dataframe\">\n",
       "  <thead>\n",
       "    <tr style=\"text-align: right;\">\n",
       "      <th></th>\n",
       "      <th>ApplicantIncome</th>\n",
       "      <th>CoapplicantIncome</th>\n",
       "      <th>LoanAmount</th>\n",
       "      <th>Loan_Amount_Term</th>\n",
       "      <th>Credit_History</th>\n",
       "    </tr>\n",
       "  </thead>\n",
       "  <tbody>\n",
       "    <tr>\n",
       "      <th>count</th>\n",
       "      <td>612.000000</td>\n",
       "      <td>613.000000</td>\n",
       "      <td>592.000000</td>\n",
       "      <td>600.00000</td>\n",
       "      <td>564.000000</td>\n",
       "    </tr>\n",
       "    <tr>\n",
       "      <th>mean</th>\n",
       "      <td>5405.540850</td>\n",
       "      <td>1620.888940</td>\n",
       "      <td>146.412162</td>\n",
       "      <td>342.00000</td>\n",
       "      <td>0.842199</td>\n",
       "    </tr>\n",
       "    <tr>\n",
       "      <th>std</th>\n",
       "      <td>6118.914057</td>\n",
       "      <td>2928.624748</td>\n",
       "      <td>85.587325</td>\n",
       "      <td>65.12041</td>\n",
       "      <td>0.364878</td>\n",
       "    </tr>\n",
       "    <tr>\n",
       "      <th>min</th>\n",
       "      <td>150.000000</td>\n",
       "      <td>0.000000</td>\n",
       "      <td>9.000000</td>\n",
       "      <td>12.00000</td>\n",
       "      <td>0.000000</td>\n",
       "    </tr>\n",
       "    <tr>\n",
       "      <th>25%</th>\n",
       "      <td>2875.750000</td>\n",
       "      <td>0.000000</td>\n",
       "      <td>100.000000</td>\n",
       "      <td>360.00000</td>\n",
       "      <td>1.000000</td>\n",
       "    </tr>\n",
       "    <tr>\n",
       "      <th>50%</th>\n",
       "      <td>3806.000000</td>\n",
       "      <td>1167.000000</td>\n",
       "      <td>128.000000</td>\n",
       "      <td>360.00000</td>\n",
       "      <td>1.000000</td>\n",
       "    </tr>\n",
       "    <tr>\n",
       "      <th>75%</th>\n",
       "      <td>5803.750000</td>\n",
       "      <td>2302.000000</td>\n",
       "      <td>168.000000</td>\n",
       "      <td>360.00000</td>\n",
       "      <td>1.000000</td>\n",
       "    </tr>\n",
       "    <tr>\n",
       "      <th>max</th>\n",
       "      <td>81000.000000</td>\n",
       "      <td>41667.000000</td>\n",
       "      <td>700.000000</td>\n",
       "      <td>480.00000</td>\n",
       "      <td>1.000000</td>\n",
       "    </tr>\n",
       "  </tbody>\n",
       "</table>\n",
       "</div>"
      ],
      "text/plain": [
       "       ApplicantIncome  CoapplicantIncome  LoanAmount  Loan_Amount_Term  \\\n",
       "count       612.000000         613.000000  592.000000         600.00000   \n",
       "mean       5405.540850        1620.888940  146.412162         342.00000   \n",
       "std        6118.914057        2928.624748   85.587325          65.12041   \n",
       "min         150.000000           0.000000    9.000000          12.00000   \n",
       "25%        2875.750000           0.000000  100.000000         360.00000   \n",
       "50%        3806.000000        1167.000000  128.000000         360.00000   \n",
       "75%        5803.750000        2302.000000  168.000000         360.00000   \n",
       "max       81000.000000       41667.000000  700.000000         480.00000   \n",
       "\n",
       "       Credit_History  \n",
       "count      564.000000  \n",
       "mean         0.842199  \n",
       "std          0.364878  \n",
       "min          0.000000  \n",
       "25%          1.000000  \n",
       "50%          1.000000  \n",
       "75%          1.000000  \n",
       "max          1.000000  "
      ]
     },
     "execution_count": 7,
     "metadata": {},
     "output_type": "execute_result"
    }
   ],
   "source": [
    "A.describe()"
   ]
  },
  {
   "cell_type": "code",
   "execution_count": 8,
   "id": "fc154c08",
   "metadata": {},
   "outputs": [
    {
     "data": {
      "text/plain": [
       "Gender               15\n",
       "Married               3\n",
       "Dependents           15\n",
       "Education             1\n",
       "Self_Employed        32\n",
       "ApplicantIncome       2\n",
       "CoapplicantIncome     1\n",
       "LoanAmount           22\n",
       "Loan_Amount_Term     14\n",
       "Credit_History       50\n",
       "Property_Area         0\n",
       "Loan_Status           0\n",
       "dtype: int64"
      ]
     },
     "execution_count": 8,
     "metadata": {},
     "output_type": "execute_result"
    }
   ],
   "source": [
    "A.isna().sum()"
   ]
  },
  {
   "cell_type": "code",
   "execution_count": 9,
   "id": "f2689b46",
   "metadata": {},
   "outputs": [],
   "source": [
    "A[\"Gender\"].fillna(A[\"Gender\"].mode()[0],inplace=True)"
   ]
  },
  {
   "cell_type": "code",
   "execution_count": 10,
   "id": "dadb729b",
   "metadata": {},
   "outputs": [],
   "source": [
    "A[\"Married\"].fillna(A[\"Married\"].mode()[0],inplace=True)\n",
    "A[\"Dependents\"].fillna(A[\"Dependents\"].mode()[0],inplace=True)\n",
    "A[\"Education\"].fillna(A[\"Education\"].mode()[0],inplace=True)\n",
    "A[\"Self_Employed\"].fillna(A[\"Self_Employed\"].mode()[0],inplace=True)\n",
    "A[\"Loan_Amount_Term\"].fillna(A[\"Loan_Amount_Term\"].mode()[0],inplace=True)\n",
    "A[\"Credit_History\"].fillna(A[\"Credit_History\"].mode()[0],inplace=True)"
   ]
  },
  {
   "cell_type": "code",
   "execution_count": 11,
   "id": "55d7f654",
   "metadata": {},
   "outputs": [],
   "source": [
    "A[\"ApplicantIncome\"].fillna(A[\"ApplicantIncome\"].mean(),inplace=True)\n",
    "A[\"CoapplicantIncome\"].fillna(A[\"CoapplicantIncome\"].mean(),inplace=True)\n",
    "A[\"LoanAmount\"].fillna(A[\"LoanAmount\"].mean(),inplace=True)"
   ]
  },
  {
   "cell_type": "code",
   "execution_count": 12,
   "id": "ac734c21",
   "metadata": {},
   "outputs": [
    {
     "data": {
      "text/plain": [
       "Gender               0\n",
       "Married              0\n",
       "Dependents           0\n",
       "Education            0\n",
       "Self_Employed        0\n",
       "ApplicantIncome      0\n",
       "CoapplicantIncome    0\n",
       "LoanAmount           0\n",
       "Loan_Amount_Term     0\n",
       "Credit_History       0\n",
       "Property_Area        0\n",
       "Loan_Status          0\n",
       "dtype: int64"
      ]
     },
     "execution_count": 12,
     "metadata": {},
     "output_type": "execute_result"
    }
   ],
   "source": [
    "A.isna().sum()"
   ]
  },
  {
   "cell_type": "markdown",
   "id": "0337dd51",
   "metadata": {},
   "source": [
    "# Plot the Data\n",
    "using matplotlib library"
   ]
  },
  {
   "cell_type": "code",
   "execution_count": 13,
   "id": "5145df9f",
   "metadata": {},
   "outputs": [
    {
     "data": {
      "text/plain": [
       "<AxesSubplot:xlabel='ApplicantIncome', ylabel='Density'>"
      ]
     },
     "execution_count": 13,
     "metadata": {},
     "output_type": "execute_result"
    },
    {
     "data": {
      "image/png": "[encoded data removed]",
      "text/plain": [
       "<Figure size 432x288 with 1 Axes>"
      ]
     },
     "metadata": {
      "needs_background": "light"
     },
     "output_type": "display_data"
    }
   ],
   "source": [
    "sb.distplot(A.ApplicantIncome)  # in Applicant Income their is skew using log funcaation from numpy we try remove skew"
   ]
  },
  {
   "cell_type": "code",
   "execution_count": 14,
   "id": "fb0f7fe4",
   "metadata": {},
   "outputs": [],
   "source": [
    "A.ApplicantIncome = np.log(A.ApplicantIncome)"
   ]
  },
  {
   "cell_type": "code",
   "execution_count": 15,
   "id": "6fb185ed",
   "metadata": {},
   "outputs": [
    {
     "data": {
      "text/plain": [
       "<AxesSubplot:xlabel='ApplicantIncome', ylabel='Density'>"
      ]
     },
     "execution_count": 15,
     "metadata": {},
     "output_type": "execute_result"
    },
    {
     "data": {
      "image/png": "[encoded data removed]",
      "text/plain": [
       "<Figure size 432x288 with 1 Axes>"
      ]
     },
     "metadata": {
      "needs_background": "light"
     },
     "output_type": "display_data"
    }
   ],
   "source": [
    "sb.distplot(A.ApplicantIncome)"
   ]
  },
  {
   "cell_type": "code",
   "execution_count": null,
   "id": "7ec4f206",
   "metadata": {},
   "outputs": [],
   "source": []
  },
  {
   "cell_type": "code",
   "execution_count": 16,
   "id": "65e8cc79",
   "metadata": {},
   "outputs": [
    {
     "data": {
      "text/plain": [
       "<AxesSubplot:xlabel='LoanAmount', ylabel='Density'>"
      ]
     },
     "execution_count": 16,
     "metadata": {},
     "output_type": "execute_result"
    },
    {
     "data": {
      "image/png": "[encoded data removed]",
      "text/plain": [
       "<Figure size 432x288 with 1 Axes>"
      ]
     },
     "metadata": {
      "needs_background": "light"
     },
     "output_type": "display_data"
    }
   ],
   "source": [
    "sb.distplot(A.LoanAmount)    # in loanAmount their is skew using log funcaation from numpy we try remove skew"
   ]
  },
  {
   "cell_type": "code",
   "execution_count": 17,
   "id": "d7bdc064",
   "metadata": {},
   "outputs": [],
   "source": [
    "A.LoanAmount = np.log(A.LoanAmount)"
   ]
  },
  {
   "cell_type": "code",
   "execution_count": 18,
   "id": "fbc46299",
   "metadata": {},
   "outputs": [
    {
     "data": {
      "text/plain": [
       "<AxesSubplot:xlabel='LoanAmount', ylabel='Density'>"
      ]
     },
     "execution_count": 18,
     "metadata": {},
     "output_type": "execute_result"
    },
    {
     "data": {
      "image/png": "[encoded data removed]",
      "text/plain": [
       "<Figure size 432x288 with 1 Axes>"
      ]
     },
     "metadata": {
      "needs_background": "light"
     },
     "output_type": "display_data"
    }
   ],
   "source": [
    "sb.distplot(A.LoanAmount)"
   ]
  },
  {
   "cell_type": "markdown",
   "id": "8a4df24e",
   "metadata": {},
   "source": [
    "# Plot Boxplot for checking their any outlier"
   ]
  },
  {
   "cell_type": "code",
   "execution_count": 20,
   "id": "b41cdbba",
   "metadata": {},
   "outputs": [
    {
     "data": {
      "text/plain": [
       "<AxesSubplot:>"
      ]
     },
     "execution_count": 20,
     "metadata": {},
     "output_type": "execute_result"
    },
    {
     "data": {
      "image/png": "[encoded data removed]",
      "text/plain": [
       "<Figure size 432x288 with 1 Axes>"
      ]
     },
     "metadata": {
      "needs_background": "light"
     },
     "output_type": "display_data"
    }
   ],
   "source": [
    "A.boxplot([\"ApplicantIncome\"])\n"
   ]
  },
  {
   "cell_type": "code",
   "execution_count": 21,
   "id": "cd007fcb",
   "metadata": {},
   "outputs": [
    {
     "data": {
      "text/plain": [
       "<AxesSubplot:>"
      ]
     },
     "execution_count": 21,
     "metadata": {},
     "output_type": "execute_result"
    },
    {
     "data": {
      "image/png": "[encoded data removed]",
      "text/plain": [
       "<Figure size 432x288 with 1 Axes>"
      ]
     },
     "metadata": {
      "needs_background": "light"
     },
     "output_type": "display_data"
    }
   ],
   "source": [
    "A.boxplot([\"CoapplicantIncome\"])"
   ]
  },
  {
   "cell_type": "code",
   "execution_count": 22,
   "id": "c6441f8f",
   "metadata": {},
   "outputs": [
    {
     "data": {
      "text/plain": [
       "<AxesSubplot:>"
      ]
     },
     "execution_count": 22,
     "metadata": {},
     "output_type": "execute_result"
    },
    {
     "data": {
      "image/png": "[encoded data removed]",
      "text/plain": [
       "<Figure size 432x288 with 1 Axes>"
      ]
     },
     "metadata": {
      "needs_background": "light"
     },
     "output_type": "display_data"
    }
   ],
   "source": [
    "A.boxplot([\"LoanAmount\"])"
   ]
  },
  {
   "cell_type": "markdown",
   "id": "56878525",
   "metadata": {},
   "source": [
    "# Remove the Outlier using IQR"
   ]
  },
  {
   "cell_type": "code",
   "execution_count": 23,
   "id": "1cde2744",
   "metadata": {},
   "outputs": [],
   "source": [
    "Q1,Q3 = A.ApplicantIncome.quantile([0.25,0.75])\n",
    "IQR = Q3-Q1\n",
    "LL = Q1-1.5*IQR\n",
    "UL = Q3+1.5*IQR"
   ]
  },
  {
   "cell_type": "code",
   "execution_count": 24,
   "id": "8983124c",
   "metadata": {},
   "outputs": [
    {
     "data": {
      "text/plain": [
       "9.714858994637867"
      ]
     },
     "execution_count": 24,
     "metadata": {},
     "output_type": "execute_result"
    }
   ],
   "source": [
    "UL"
   ]
  },
  {
   "cell_type": "code",
   "execution_count": 25,
   "id": "080d149d",
   "metadata": {},
   "outputs": [],
   "source": [
    "df = A[A.ApplicantIncome > UL]"
   ]
  },
  {
   "cell_type": "code",
   "execution_count": 26,
   "id": "8da5a372",
   "metadata": {},
   "outputs": [
    {
     "data": {
      "text/plain": [
       "21"
      ]
     },
     "execution_count": 26,
     "metadata": {},
     "output_type": "execute_result"
    }
   ],
   "source": [
    "df.ApplicantIncome.count()"
   ]
  },
  {
   "cell_type": "code",
   "execution_count": 27,
   "id": "3ad0f6b8",
   "metadata": {},
   "outputs": [
    {
     "data": {
      "text/plain": [
       "Y    15\n",
       "N     6\n",
       "Name: Loan_Status, dtype: int64"
      ]
     },
     "execution_count": 27,
     "metadata": {},
     "output_type": "execute_result"
    }
   ],
   "source": [
    "df.Loan_Status.value_counts()"
   ]
  },
  {
   "cell_type": "code",
   "execution_count": 28,
   "id": "c9288220",
   "metadata": {},
   "outputs": [],
   "source": [
    "A.ApplicantIncome = np.where(A.ApplicantIncome > UL, UL, A.ApplicantIncome)"
   ]
  },
  {
   "cell_type": "code",
   "execution_count": 29,
   "id": "0ea18cfb",
   "metadata": {},
   "outputs": [
    {
     "data": {
      "text/plain": [
       "<AxesSubplot:>"
      ]
     },
     "execution_count": 29,
     "metadata": {},
     "output_type": "execute_result"
    },
    {
     "data": {
      "image/png": "[encoded data removed]",
      "text/plain": [
       "<Figure size 432x288 with 1 Axes>"
      ]
     },
     "metadata": {
      "needs_background": "light"
     },
     "output_type": "display_data"
    }
   ],
   "source": [
    "A.boxplot([\"ApplicantIncome\"])"
   ]
  },
  {
   "cell_type": "code",
   "execution_count": 30,
   "id": "8313bbda",
   "metadata": {},
   "outputs": [],
   "source": [
    "Q10,Q30 = A.CoapplicantIncome.quantile([0.25,0.75])\n",
    "IQR1 = Q30-Q10\n",
    "LL1 = Q10-1.5*IQR1\n",
    "UL1 = Q30+1.5*IQR1"
   ]
  },
  {
   "cell_type": "code",
   "execution_count": 31,
   "id": "01736ecc",
   "metadata": {},
   "outputs": [
    {
     "data": {
      "text/plain": [
       "5743.125"
      ]
     },
     "execution_count": 31,
     "metadata": {},
     "output_type": "execute_result"
    }
   ],
   "source": [
    "UL1"
   ]
  },
  {
   "cell_type": "code",
   "execution_count": 32,
   "id": "19efad9b",
   "metadata": {},
   "outputs": [
    {
     "data": {
      "text/plain": [
       "Gender               18\n",
       "Married              18\n",
       "Dependents           18\n",
       "Education            18\n",
       "Self_Employed        18\n",
       "ApplicantIncome      18\n",
       "CoapplicantIncome    18\n",
       "LoanAmount           18\n",
       "Loan_Amount_Term     18\n",
       "Credit_History       18\n",
       "Property_Area        18\n",
       "Loan_Status          18\n",
       "dtype: int64"
      ]
     },
     "execution_count": 32,
     "metadata": {},
     "output_type": "execute_result"
    }
   ],
   "source": [
    "A[A.CoapplicantIncome > UL1].count()"
   ]
  },
  {
   "cell_type": "code",
   "execution_count": 33,
   "id": "367ac465",
   "metadata": {},
   "outputs": [],
   "source": [
    "A.CoapplicantIncome = np.where(A.CoapplicantIncome > UL1, UL1, A.CoapplicantIncome)"
   ]
  },
  {
   "cell_type": "code",
   "execution_count": 34,
   "id": "5b381c56",
   "metadata": {},
   "outputs": [
    {
     "data": {
      "text/plain": [
       "<AxesSubplot:>"
      ]
     },
     "execution_count": 34,
     "metadata": {},
     "output_type": "execute_result"
    },
    {
     "data": {
      "image/png": "[encoded data removed]",
      "text/plain": [
       "<Figure size 432x288 with 1 Axes>"
      ]
     },
     "metadata": {
      "needs_background": "light"
     },
     "output_type": "display_data"
    }
   ],
   "source": [
    "A.boxplot([\"CoapplicantIncome\"])"
   ]
  },
  {
   "cell_type": "code",
   "execution_count": 35,
   "id": "5faec009",
   "metadata": {},
   "outputs": [],
   "source": [
    "Q11,Q31 = A.LoanAmount.quantile([0.25,0.75])\n",
    "IQR2 = Q31-Q11\n",
    "LL2 = Q11-1.5*IQR2\n",
    "UL2 = Q31+1.5*IQR2"
   ]
  },
  {
   "cell_type": "code",
   "execution_count": 36,
   "id": "bb4a1ab1",
   "metadata": {},
   "outputs": [
    {
     "data": {
      "text/plain": [
       "5.849577627901635"
      ]
     },
     "execution_count": 36,
     "metadata": {},
     "output_type": "execute_result"
    }
   ],
   "source": [
    "UL2"
   ]
  },
  {
   "cell_type": "code",
   "execution_count": 37,
   "id": "fd9bc566",
   "metadata": {},
   "outputs": [
    {
     "data": {
      "text/plain": [
       "Gender               21\n",
       "Married              21\n",
       "Dependents           21\n",
       "Education            21\n",
       "Self_Employed        21\n",
       "ApplicantIncome      21\n",
       "CoapplicantIncome    21\n",
       "LoanAmount           21\n",
       "Loan_Amount_Term     21\n",
       "Credit_History       21\n",
       "Property_Area        21\n",
       "Loan_Status          21\n",
       "dtype: int64"
      ]
     },
     "execution_count": 37,
     "metadata": {},
     "output_type": "execute_result"
    }
   ],
   "source": [
    "A[A.LoanAmount > UL2].count()"
   ]
  },
  {
   "cell_type": "code",
   "execution_count": 38,
   "id": "e901d973",
   "metadata": {},
   "outputs": [],
   "source": [
    "A.LoanAmount = np.where(A.LoanAmount > UL2, UL2, A.LoanAmount)"
   ]
  },
  {
   "cell_type": "code",
   "execution_count": 39,
   "id": "d632b893",
   "metadata": {},
   "outputs": [
    {
     "data": {
      "text/plain": [
       "<AxesSubplot:>"
      ]
     },
     "execution_count": 39,
     "metadata": {},
     "output_type": "execute_result"
    },
    {
     "data": {
      "image/png": "[encoded data removed]",
      "text/plain": [
       "<Figure size 432x288 with 1 Axes>"
      ]
     },
     "metadata": {
      "needs_background": "light"
     },
     "output_type": "display_data"
    }
   ],
   "source": [
    "A.boxplot([\"LoanAmount\"])"
   ]
  },
  {
   "cell_type": "markdown",
   "id": "4901f9b1",
   "metadata": {},
   "source": [
    "# plot the categorical variable using countplot"
   ]
  },
  {
   "cell_type": "code",
   "execution_count": 40,
   "id": "66b97a91",
   "metadata": {},
   "outputs": [
    {
     "data": {
      "text/plain": [
       "<AxesSubplot:xlabel='Loan_Status', ylabel='count'>"
      ]
     },
     "execution_count": 40,
     "metadata": {},
     "output_type": "execute_result"
    },
    {
     "data": {
      "image/png": "[encoded data removed]",
      "text/plain": [
       "<Figure size 432x288 with 1 Axes>"
      ]
     },
     "metadata": {
      "needs_background": "light"
     },
     "output_type": "display_data"
    }
   ],
   "source": [
    "sb.countplot(A.Loan_Status,hue=A.Property_Area)"
   ]
  },
  {
   "cell_type": "code",
   "execution_count": 41,
   "id": "abbc740f",
   "metadata": {},
   "outputs": [
    {
     "data": {
      "text/plain": [
       "<AxesSubplot:xlabel='Loan_Status', ylabel='count'>"
      ]
     },
     "execution_count": 41,
     "metadata": {},
     "output_type": "execute_result"
    },
    {
     "data": {
      "image/png": "[encoded data removed]",
      "text/plain": [
       "<Figure size 432x288 with 1 Axes>"
      ]
     },
     "metadata": {
      "needs_background": "light"
     },
     "output_type": "display_data"
    }
   ],
   "source": [
    "sb.countplot(A.Loan_Status,hue=A.Credit_History)"
   ]
  },
  {
   "cell_type": "code",
   "execution_count": 42,
   "id": "9b753176",
   "metadata": {},
   "outputs": [
    {
     "data": {
      "text/plain": [
       "<AxesSubplot:xlabel='Loan_Status', ylabel='count'>"
      ]
     },
     "execution_count": 42,
     "metadata": {},
     "output_type": "execute_result"
    },
    {
     "data": {
      "image/png": "[encoded data removed]",
      "text/plain": [
       "<Figure size 432x288 with 1 Axes>"
      ]
     },
     "metadata": {
      "needs_background": "light"
     },
     "output_type": "display_data"
    }
   ],
   "source": [
    "sb.countplot(A.Loan_Status,hue=A.Loan_Amount_Term)"
   ]
  },
  {
   "cell_type": "code",
   "execution_count": 43,
   "id": "27d222de",
   "metadata": {},
   "outputs": [
    {
     "data": {
      "text/plain": [
       "<AxesSubplot:xlabel='Loan_Status', ylabel='ApplicantIncome'>"
      ]
     },
     "execution_count": 43,
     "metadata": {},
     "output_type": "execute_result"
    },
    {
     "data": {
      "image/png": "[encoded data removed]",
      "text/plain": [
       "<Figure size 432x288 with 1 Axes>"
      ]
     },
     "metadata": {
      "needs_background": "light"
     },
     "output_type": "display_data"
    }
   ],
   "source": [
    "sb.boxplot(A.Loan_Status,A.ApplicantIncome)"
   ]
  },
  {
   "cell_type": "code",
   "execution_count": 44,
   "id": "76aa3104",
   "metadata": {},
   "outputs": [
    {
     "data": {
      "text/plain": [
       "<AxesSubplot:xlabel='Loan_Status', ylabel='CoapplicantIncome'>"
      ]
     },
     "execution_count": 44,
     "metadata": {},
     "output_type": "execute_result"
    },
    {
     "data": {
      "image/png": "[encoded data removed]",
      "text/plain": [
       "<Figure size 432x288 with 1 Axes>"
      ]
     },
     "metadata": {
      "needs_background": "light"
     },
     "output_type": "display_data"
    }
   ],
   "source": [
    "sb.boxplot(A.Loan_Status,A.CoapplicantIncome)"
   ]
  },
  {
   "cell_type": "code",
   "execution_count": 45,
   "id": "8929f7f6",
   "metadata": {},
   "outputs": [
    {
     "data": {
      "text/plain": [
       "<AxesSubplot:xlabel='Loan_Status', ylabel='LoanAmount'>"
      ]
     },
     "execution_count": 45,
     "metadata": {},
     "output_type": "execute_result"
    },
    {
     "data": {
      "image/png": "[encoded data removed]",
      "text/plain": [
       "<Figure size 432x288 with 1 Axes>"
      ]
     },
     "metadata": {
      "needs_background": "light"
     },
     "output_type": "display_data"
    }
   ],
   "source": [
    "sb.boxplot(A.Loan_Status,A.LoanAmount)"
   ]
  },
  {
   "cell_type": "markdown",
   "id": "f315b5dd",
   "metadata": {},
   "source": [
    "# Define X and Y"
   ]
  },
  {
   "cell_type": "code",
   "execution_count": 46,
   "id": "9a0b5068",
   "metadata": {},
   "outputs": [],
   "source": [
    "Y = A[[\"Loan_Status\"]]\n",
    "X = A.drop([\"Loan_Status\"],axis=1)"
   ]
  },
  {
   "cell_type": "code",
   "execution_count": 47,
   "id": "285cba1a",
   "metadata": {},
   "outputs": [
    {
     "data": {
      "text/html": [
       "<div>\n",
       "<style scoped>\n",
       "    .dataframe tbody tr th:only-of-type {\n",
       "        vertical-align: middle;\n",
       "    }\n",
       "\n",
       "    .dataframe tbody tr th {\n",
       "        vertical-align: top;\n",
       "    }\n",
       "\n",
       "    .dataframe thead th {\n",
       "        text-align: right;\n",
       "    }\n",
       "</style>\n",
       "<table border=\"1\" class=\"dataframe\">\n",
       "  <thead>\n",
       "    <tr style=\"text-align: right;\">\n",
       "      <th></th>\n",
       "      <th>Gender</th>\n",
       "      <th>Married</th>\n",
       "      <th>Dependents</th>\n",
       "      <th>Education</th>\n",
       "      <th>Self_Employed</th>\n",
       "      <th>ApplicantIncome</th>\n",
       "      <th>CoapplicantIncome</th>\n",
       "      <th>LoanAmount</th>\n",
       "      <th>Loan_Amount_Term</th>\n",
       "      <th>Credit_History</th>\n",
       "      <th>Property_Area</th>\n",
       "    </tr>\n",
       "  </thead>\n",
       "  <tbody>\n",
       "    <tr>\n",
       "      <th>0</th>\n",
       "      <td>Male</td>\n",
       "      <td>No</td>\n",
       "      <td>0</td>\n",
       "      <td>Graduate</td>\n",
       "      <td>No</td>\n",
       "      <td>8.674026</td>\n",
       "      <td>0.0</td>\n",
       "      <td>4.986426</td>\n",
       "      <td>360.0</td>\n",
       "      <td>1.0</td>\n",
       "      <td>Urban</td>\n",
       "    </tr>\n",
       "    <tr>\n",
       "      <th>1</th>\n",
       "      <td>Male</td>\n",
       "      <td>Yes</td>\n",
       "      <td>1</td>\n",
       "      <td>Graduate</td>\n",
       "      <td>No</td>\n",
       "      <td>8.595180</td>\n",
       "      <td>1508.0</td>\n",
       "      <td>4.852030</td>\n",
       "      <td>360.0</td>\n",
       "      <td>1.0</td>\n",
       "      <td>Rural</td>\n",
       "    </tr>\n",
       "    <tr>\n",
       "      <th>2</th>\n",
       "      <td>Male</td>\n",
       "      <td>Yes</td>\n",
       "      <td>0</td>\n",
       "      <td>Graduate</td>\n",
       "      <td>Yes</td>\n",
       "      <td>8.006368</td>\n",
       "      <td>0.0</td>\n",
       "      <td>4.189655</td>\n",
       "      <td>360.0</td>\n",
       "      <td>1.0</td>\n",
       "      <td>Urban</td>\n",
       "    </tr>\n",
       "    <tr>\n",
       "      <th>3</th>\n",
       "      <td>Male</td>\n",
       "      <td>Yes</td>\n",
       "      <td>0</td>\n",
       "      <td>Not Graduate</td>\n",
       "      <td>No</td>\n",
       "      <td>7.856707</td>\n",
       "      <td>2358.0</td>\n",
       "      <td>4.787492</td>\n",
       "      <td>360.0</td>\n",
       "      <td>1.0</td>\n",
       "      <td>Urban</td>\n",
       "    </tr>\n",
       "    <tr>\n",
       "      <th>4</th>\n",
       "      <td>Male</td>\n",
       "      <td>No</td>\n",
       "      <td>0</td>\n",
       "      <td>Graduate</td>\n",
       "      <td>No</td>\n",
       "      <td>8.699515</td>\n",
       "      <td>0.0</td>\n",
       "      <td>4.948760</td>\n",
       "      <td>360.0</td>\n",
       "      <td>1.0</td>\n",
       "      <td>Urban</td>\n",
       "    </tr>\n",
       "  </tbody>\n",
       "</table>\n",
       "</div>"
      ],
      "text/plain": [
       "  Gender Married Dependents     Education Self_Employed  ApplicantIncome  \\\n",
       "0   Male      No          0      Graduate            No         8.674026   \n",
       "1   Male     Yes          1      Graduate            No         8.595180   \n",
       "2   Male     Yes          0      Graduate           Yes         8.006368   \n",
       "3   Male     Yes          0  Not Graduate            No         7.856707   \n",
       "4   Male      No          0      Graduate            No         8.699515   \n",
       "\n",
       "   CoapplicantIncome  LoanAmount  Loan_Amount_Term  Credit_History  \\\n",
       "0                0.0    4.986426             360.0             1.0   \n",
       "1             1508.0    4.852030             360.0             1.0   \n",
       "2                0.0    4.189655             360.0             1.0   \n",
       "3             2358.0    4.787492             360.0             1.0   \n",
       "4                0.0    4.948760             360.0             1.0   \n",
       "\n",
       "  Property_Area  \n",
       "0         Urban  \n",
       "1         Rural  \n",
       "2         Urban  \n",
       "3         Urban  \n",
       "4         Urban  "
      ]
     },
     "execution_count": 47,
     "metadata": {},
     "output_type": "execute_result"
    }
   ],
   "source": [
    "X.head()"
   ]
  },
  {
   "cell_type": "code",
   "execution_count": 48,
   "id": "05ac3c57",
   "metadata": {},
   "outputs": [
    {
     "name": "stdout",
     "output_type": "stream",
     "text": [
      "<class 'pandas.core.frame.DataFrame'>\n",
      "RangeIndex: 614 entries, 0 to 613\n",
      "Data columns (total 11 columns):\n",
      " #   Column             Non-Null Count  Dtype  \n",
      "---  ------             --------------  -----  \n",
      " 0   Gender             614 non-null    object \n",
      " 1   Married            614 non-null    object \n",
      " 2   Dependents         614 non-null    object \n",
      " 3   Education          614 non-null    object \n",
      " 4   Self_Employed      614 non-null    object \n",
      " 5   ApplicantIncome    614 non-null    float64\n",
      " 6   CoapplicantIncome  614 non-null    float64\n",
      " 7   LoanAmount         614 non-null    float64\n",
      " 8   Loan_Amount_Term   614 non-null    float64\n",
      " 9   Credit_History     614 non-null    float64\n",
      " 10  Property_Area      614 non-null    object \n",
      "dtypes: float64(5), object(6)\n",
      "memory usage: 52.9+ KB\n"
     ]
    }
   ],
   "source": [
    "X.info()"
   ]
  },
  {
   "cell_type": "code",
   "execution_count": 49,
   "id": "0315dc7e",
   "metadata": {},
   "outputs": [
    {
     "data": {
      "text/plain": [
       "Index(['Gender', 'Married', 'Dependents', 'Education', 'Self_Employed',\n",
       "       'ApplicantIncome', 'CoapplicantIncome', 'LoanAmount',\n",
       "       'Loan_Amount_Term', 'Credit_History', 'Property_Area'],\n",
       "      dtype='object')"
      ]
     },
     "execution_count": 49,
     "metadata": {},
     "output_type": "execute_result"
    }
   ],
   "source": [
    "X.columns"
   ]
  },
  {
   "cell_type": "code",
   "execution_count": 50,
   "id": "d2b55d74",
   "metadata": {},
   "outputs": [],
   "source": [
    "con = []\n",
    "cat = []\n",
    "for i in X.columns:\n",
    "    if(X[i].dtypes==\"object\"):\n",
    "        cat.append(i)\n",
    "    else:\n",
    "        con.append(i)"
   ]
  },
  {
   "cell_type": "markdown",
   "id": "7af2039a",
   "metadata": {},
   "source": [
    "# Data Preprocessing \n",
    "using one hot encoding for categorical and standardscaler for continous varibles"
   ]
  },
  {
   "cell_type": "code",
   "execution_count": 51,
   "id": "892592e2",
   "metadata": {},
   "outputs": [],
   "source": [
    "X1 = pd.get_dummies(X[cat])"
   ]
  },
  {
   "cell_type": "code",
   "execution_count": 52,
   "id": "6c36da6a",
   "metadata": {},
   "outputs": [
    {
     "data": {
      "text/html": [
       "<div>\n",
       "<style scoped>\n",
       "    .dataframe tbody tr th:only-of-type {\n",
       "        vertical-align: middle;\n",
       "    }\n",
       "\n",
       "    .dataframe tbody tr th {\n",
       "        vertical-align: top;\n",
       "    }\n",
       "\n",
       "    .dataframe thead th {\n",
       "        text-align: right;\n",
       "    }\n",
       "</style>\n",
       "<table border=\"1\" class=\"dataframe\">\n",
       "  <thead>\n",
       "    <tr style=\"text-align: right;\">\n",
       "      <th></th>\n",
       "      <th>Gender_Female</th>\n",
       "      <th>Gender_Male</th>\n",
       "      <th>Married_No</th>\n",
       "      <th>Married_Yes</th>\n",
       "      <th>Dependents_0</th>\n",
       "      <th>Dependents_1</th>\n",
       "      <th>Dependents_2</th>\n",
       "      <th>Dependents_3+</th>\n",
       "      <th>Education_Graduate</th>\n",
       "      <th>Education_Not Graduate</th>\n",
       "      <th>Self_Employed_No</th>\n",
       "      <th>Self_Employed_Yes</th>\n",
       "      <th>Property_Area_Rural</th>\n",
       "      <th>Property_Area_Semiurban</th>\n",
       "      <th>Property_Area_Urban</th>\n",
       "    </tr>\n",
       "  </thead>\n",
       "  <tbody>\n",
       "    <tr>\n",
       "      <th>0</th>\n",
       "      <td>0</td>\n",
       "      <td>1</td>\n",
       "      <td>1</td>\n",
       "      <td>0</td>\n",
       "      <td>1</td>\n",
       "      <td>0</td>\n",
       "      <td>0</td>\n",
       "      <td>0</td>\n",
       "      <td>1</td>\n",
       "      <td>0</td>\n",
       "      <td>1</td>\n",
       "      <td>0</td>\n",
       "      <td>0</td>\n",
       "      <td>0</td>\n",
       "      <td>1</td>\n",
       "    </tr>\n",
       "    <tr>\n",
       "      <th>1</th>\n",
       "      <td>0</td>\n",
       "      <td>1</td>\n",
       "      <td>0</td>\n",
       "      <td>1</td>\n",
       "      <td>0</td>\n",
       "      <td>1</td>\n",
       "      <td>0</td>\n",
       "      <td>0</td>\n",
       "      <td>1</td>\n",
       "      <td>0</td>\n",
       "      <td>1</td>\n",
       "      <td>0</td>\n",
       "      <td>1</td>\n",
       "      <td>0</td>\n",
       "      <td>0</td>\n",
       "    </tr>\n",
       "    <tr>\n",
       "      <th>2</th>\n",
       "      <td>0</td>\n",
       "      <td>1</td>\n",
       "      <td>0</td>\n",
       "      <td>1</td>\n",
       "      <td>1</td>\n",
       "      <td>0</td>\n",
       "      <td>0</td>\n",
       "      <td>0</td>\n",
       "      <td>1</td>\n",
       "      <td>0</td>\n",
       "      <td>0</td>\n",
       "      <td>1</td>\n",
       "      <td>0</td>\n",
       "      <td>0</td>\n",
       "      <td>1</td>\n",
       "    </tr>\n",
       "    <tr>\n",
       "      <th>3</th>\n",
       "      <td>0</td>\n",
       "      <td>1</td>\n",
       "      <td>0</td>\n",
       "      <td>1</td>\n",
       "      <td>1</td>\n",
       "      <td>0</td>\n",
       "      <td>0</td>\n",
       "      <td>0</td>\n",
       "      <td>0</td>\n",
       "      <td>1</td>\n",
       "      <td>1</td>\n",
       "      <td>0</td>\n",
       "      <td>0</td>\n",
       "      <td>0</td>\n",
       "      <td>1</td>\n",
       "    </tr>\n",
       "    <tr>\n",
       "      <th>4</th>\n",
       "      <td>0</td>\n",
       "      <td>1</td>\n",
       "      <td>1</td>\n",
       "      <td>0</td>\n",
       "      <td>1</td>\n",
       "      <td>0</td>\n",
       "      <td>0</td>\n",
       "      <td>0</td>\n",
       "      <td>1</td>\n",
       "      <td>0</td>\n",
       "      <td>1</td>\n",
       "      <td>0</td>\n",
       "      <td>0</td>\n",
       "      <td>0</td>\n",
       "      <td>1</td>\n",
       "    </tr>\n",
       "  </tbody>\n",
       "</table>\n",
       "</div>"
      ],
      "text/plain": [
       "   Gender_Female  Gender_Male  Married_No  Married_Yes  Dependents_0  \\\n",
       "0              0            1           1            0             1   \n",
       "1              0            1           0            1             0   \n",
       "2              0            1           0            1             1   \n",
       "3              0            1           0            1             1   \n",
       "4              0            1           1            0             1   \n",
       "\n",
       "   Dependents_1  Dependents_2  Dependents_3+  Education_Graduate  \\\n",
       "0             0             0              0                   1   \n",
       "1             1             0              0                   1   \n",
       "2             0             0              0                   1   \n",
       "3             0             0              0                   0   \n",
       "4             0             0              0                   1   \n",
       "\n",
       "   Education_Not Graduate  Self_Employed_No  Self_Employed_Yes  \\\n",
       "0                       0                 1                  0   \n",
       "1                       0                 1                  0   \n",
       "2                       0                 0                  1   \n",
       "3                       1                 1                  0   \n",
       "4                       0                 1                  0   \n",
       "\n",
       "   Property_Area_Rural  Property_Area_Semiurban  Property_Area_Urban  \n",
       "0                    0                        0                    1  \n",
       "1                    1                        0                    0  \n",
       "2                    0                        0                    1  \n",
       "3                    0                        0                    1  \n",
       "4                    0                        0                    1  "
      ]
     },
     "execution_count": 52,
     "metadata": {},
     "output_type": "execute_result"
    }
   ],
   "source": [
    "X1.head()"
   ]
  },
  {
   "cell_type": "code",
   "execution_count": 53,
   "id": "ac1ca5e8",
   "metadata": {},
   "outputs": [],
   "source": [
    "from sklearn.preprocessing import StandardScaler\n",
    "ss = StandardScaler()\n",
    "X2 = pd.DataFrame(ss.fit_transform(X[con]),columns=con)"
   ]
  },
  {
   "cell_type": "code",
   "execution_count": 54,
   "id": "00d29ec8",
   "metadata": {},
   "outputs": [],
   "source": [
    "Xnew = X2.join(X1)"
   ]
  },
  {
   "cell_type": "code",
   "execution_count": 55,
   "id": "c7b454b1",
   "metadata": {},
   "outputs": [
    {
     "data": {
      "text/html": [
       "<div>\n",
       "<style scoped>\n",
       "    .dataframe tbody tr th:only-of-type {\n",
       "        vertical-align: middle;\n",
       "    }\n",
       "\n",
       "    .dataframe tbody tr th {\n",
       "        vertical-align: top;\n",
       "    }\n",
       "\n",
       "    .dataframe thead th {\n",
       "        text-align: right;\n",
       "    }\n",
       "</style>\n",
       "<table border=\"1\" class=\"dataframe\">\n",
       "  <thead>\n",
       "    <tr style=\"text-align: right;\">\n",
       "      <th></th>\n",
       "      <th>ApplicantIncome</th>\n",
       "      <th>CoapplicantIncome</th>\n",
       "      <th>LoanAmount</th>\n",
       "      <th>Loan_Amount_Term</th>\n",
       "      <th>Credit_History</th>\n",
       "      <th>Gender_Female</th>\n",
       "      <th>Gender_Male</th>\n",
       "      <th>Married_No</th>\n",
       "      <th>Married_Yes</th>\n",
       "      <th>Dependents_0</th>\n",
       "      <th>Dependents_1</th>\n",
       "      <th>Dependents_2</th>\n",
       "      <th>Dependents_3+</th>\n",
       "      <th>Education_Graduate</th>\n",
       "      <th>Education_Not Graduate</th>\n",
       "      <th>Self_Employed_No</th>\n",
       "      <th>Self_Employed_Yes</th>\n",
       "      <th>Property_Area_Rural</th>\n",
       "      <th>Property_Area_Semiurban</th>\n",
       "      <th>Property_Area_Urban</th>\n",
       "    </tr>\n",
       "  </thead>\n",
       "  <tbody>\n",
       "    <tr>\n",
       "      <th>0</th>\n",
       "      <td>0.578806</td>\n",
       "      <td>-0.874404</td>\n",
       "      <td>0.285078</td>\n",
       "      <td>0.273231</td>\n",
       "      <td>0.411733</td>\n",
       "      <td>0</td>\n",
       "      <td>1</td>\n",
       "      <td>1</td>\n",
       "      <td>0</td>\n",
       "      <td>1</td>\n",
       "      <td>0</td>\n",
       "      <td>0</td>\n",
       "      <td>0</td>\n",
       "      <td>1</td>\n",
       "      <td>0</td>\n",
       "      <td>1</td>\n",
       "      <td>0</td>\n",
       "      <td>0</td>\n",
       "      <td>0</td>\n",
       "      <td>1</td>\n",
       "    </tr>\n",
       "    <tr>\n",
       "      <th>1</th>\n",
       "      <td>0.447438</td>\n",
       "      <td>0.054617</td>\n",
       "      <td>-0.000133</td>\n",
       "      <td>0.273231</td>\n",
       "      <td>0.411733</td>\n",
       "      <td>0</td>\n",
       "      <td>1</td>\n",
       "      <td>0</td>\n",
       "      <td>1</td>\n",
       "      <td>0</td>\n",
       "      <td>1</td>\n",
       "      <td>0</td>\n",
       "      <td>0</td>\n",
       "      <td>1</td>\n",
       "      <td>0</td>\n",
       "      <td>1</td>\n",
       "      <td>0</td>\n",
       "      <td>1</td>\n",
       "      <td>0</td>\n",
       "      <td>0</td>\n",
       "    </tr>\n",
       "    <tr>\n",
       "      <th>2</th>\n",
       "      <td>-0.533597</td>\n",
       "      <td>-0.874404</td>\n",
       "      <td>-1.405809</td>\n",
       "      <td>0.273231</td>\n",
       "      <td>0.411733</td>\n",
       "      <td>0</td>\n",
       "      <td>1</td>\n",
       "      <td>0</td>\n",
       "      <td>1</td>\n",
       "      <td>1</td>\n",
       "      <td>0</td>\n",
       "      <td>0</td>\n",
       "      <td>0</td>\n",
       "      <td>1</td>\n",
       "      <td>0</td>\n",
       "      <td>0</td>\n",
       "      <td>1</td>\n",
       "      <td>0</td>\n",
       "      <td>0</td>\n",
       "      <td>1</td>\n",
       "    </tr>\n",
       "    <tr>\n",
       "      <th>3</th>\n",
       "      <td>-0.782951</td>\n",
       "      <td>0.578269</td>\n",
       "      <td>-0.137095</td>\n",
       "      <td>0.273231</td>\n",
       "      <td>0.411733</td>\n",
       "      <td>0</td>\n",
       "      <td>1</td>\n",
       "      <td>0</td>\n",
       "      <td>1</td>\n",
       "      <td>1</td>\n",
       "      <td>0</td>\n",
       "      <td>0</td>\n",
       "      <td>0</td>\n",
       "      <td>0</td>\n",
       "      <td>1</td>\n",
       "      <td>1</td>\n",
       "      <td>0</td>\n",
       "      <td>0</td>\n",
       "      <td>0</td>\n",
       "      <td>1</td>\n",
       "    </tr>\n",
       "    <tr>\n",
       "      <th>4</th>\n",
       "      <td>0.621273</td>\n",
       "      <td>-0.874404</td>\n",
       "      <td>0.205144</td>\n",
       "      <td>0.273231</td>\n",
       "      <td>0.411733</td>\n",
       "      <td>0</td>\n",
       "      <td>1</td>\n",
       "      <td>1</td>\n",
       "      <td>0</td>\n",
       "      <td>1</td>\n",
       "      <td>0</td>\n",
       "      <td>0</td>\n",
       "      <td>0</td>\n",
       "      <td>1</td>\n",
       "      <td>0</td>\n",
       "      <td>1</td>\n",
       "      <td>0</td>\n",
       "      <td>0</td>\n",
       "      <td>0</td>\n",
       "      <td>1</td>\n",
       "    </tr>\n",
       "  </tbody>\n",
       "</table>\n",
       "</div>"
      ],
      "text/plain": [
       "   ApplicantIncome  CoapplicantIncome  LoanAmount  Loan_Amount_Term  \\\n",
       "0         0.578806          -0.874404    0.285078          0.273231   \n",
       "1         0.447438           0.054617   -0.000133          0.273231   \n",
       "2        -0.533597          -0.874404   -1.405809          0.273231   \n",
       "3        -0.782951           0.578269   -0.137095          0.273231   \n",
       "4         0.621273          -0.874404    0.205144          0.273231   \n",
       "\n",
       "   Credit_History  Gender_Female  Gender_Male  Married_No  Married_Yes  \\\n",
       "0        0.411733              0            1           1            0   \n",
       "1        0.411733              0            1           0            1   \n",
       "2        0.411733              0            1           0            1   \n",
       "3        0.411733              0            1           0            1   \n",
       "4        0.411733              0            1           1            0   \n",
       "\n",
       "   Dependents_0  Dependents_1  Dependents_2  Dependents_3+  \\\n",
       "0             1             0             0              0   \n",
       "1             0             1             0              0   \n",
       "2             1             0             0              0   \n",
       "3             1             0             0              0   \n",
       "4             1             0             0              0   \n",
       "\n",
       "   Education_Graduate  Education_Not Graduate  Self_Employed_No  \\\n",
       "0                   1                       0                 1   \n",
       "1                   1                       0                 1   \n",
       "2                   1                       0                 0   \n",
       "3                   0                       1                 1   \n",
       "4                   1                       0                 1   \n",
       "\n",
       "   Self_Employed_Yes  Property_Area_Rural  Property_Area_Semiurban  \\\n",
       "0                  0                    0                        0   \n",
       "1                  0                    1                        0   \n",
       "2                  1                    0                        0   \n",
       "3                  0                    0                        0   \n",
       "4                  0                    0                        0   \n",
       "\n",
       "   Property_Area_Urban  \n",
       "0                    1  \n",
       "1                    0  \n",
       "2                    1  \n",
       "3                    1  \n",
       "4                    1  "
      ]
     },
     "execution_count": 55,
     "metadata": {},
     "output_type": "execute_result"
    }
   ],
   "source": [
    "Xnew.head()"
   ]
  },
  {
   "cell_type": "markdown",
   "id": "55d8ebda",
   "metadata": {},
   "source": [
    "# Create Logisctic Regression Model"
   ]
  },
  {
   "cell_type": "code",
   "execution_count": 56,
   "id": "7b9e99b0",
   "metadata": {},
   "outputs": [],
   "source": [
    "from sklearn.model_selection import train_test_split\n",
    "xtrain,xtest,ytrain,ytest = train_test_split(Xnew,Y,test_size=0.2,random_state=21)"
   ]
  },
  {
   "cell_type": "code",
   "execution_count": 57,
   "id": "5d32e8ac",
   "metadata": {},
   "outputs": [],
   "source": [
    "from sklearn.linear_model import LogisticRegression\n",
    "lgr = LogisticRegression()\n",
    "model = lgr.fit(xtrain,ytrain)"
   ]
  },
  {
   "cell_type": "code",
   "execution_count": 58,
   "id": "9f4c0499",
   "metadata": {},
   "outputs": [],
   "source": [
    "pred_tr = model.predict(xtrain)\n",
    "pred_ts = model.predict(xtest)"
   ]
  },
  {
   "cell_type": "code",
   "execution_count": 59,
   "id": "805931a2",
   "metadata": {},
   "outputs": [],
   "source": [
    "from sklearn.metrics import confusion_matrix,accuracy_score\n",
    "tr_acc = accuracy_score(ytrain,pred_tr)\n",
    "ts_acc = accuracy_score(ytest,pred_ts)"
   ]
  },
  {
   "cell_type": "code",
   "execution_count": 60,
   "id": "5b9f0c2a",
   "metadata": {},
   "outputs": [
    {
     "data": {
      "text/plain": [
       "0.8105906313645621"
      ]
     },
     "execution_count": 60,
     "metadata": {},
     "output_type": "execute_result"
    }
   ],
   "source": [
    "tr_acc"
   ]
  },
  {
   "cell_type": "code",
   "execution_count": 61,
   "id": "95ef87c3",
   "metadata": {},
   "outputs": [
    {
     "data": {
      "text/plain": [
       "0.7967479674796748"
      ]
     },
     "execution_count": 61,
     "metadata": {},
     "output_type": "execute_result"
    }
   ],
   "source": [
    "ts_acc"
   ]
  },
  {
   "cell_type": "code",
   "execution_count": 62,
   "id": "e47a698f",
   "metadata": {},
   "outputs": [
    {
     "data": {
      "text/plain": [
       "array([[ 66,  88],\n",
       "       [  5, 332]], dtype=int64)"
      ]
     },
     "execution_count": 62,
     "metadata": {},
     "output_type": "execute_result"
    }
   ],
   "source": [
    "confusion_matrix(ytrain,pred_tr)"
   ]
  },
  {
   "cell_type": "code",
   "execution_count": 63,
   "id": "7c048563",
   "metadata": {},
   "outputs": [
    {
     "data": {
      "text/plain": [
       "array([[20, 18],\n",
       "       [ 7, 78]], dtype=int64)"
      ]
     },
     "execution_count": 63,
     "metadata": {},
     "output_type": "execute_result"
    }
   ],
   "source": [
    "confusion_matrix(ytest,pred_ts)"
   ]
  },
  {
   "cell_type": "markdown",
   "id": "240f7b27",
   "metadata": {},
   "source": [
    "# Create DecisionTree Classifier Model "
   ]
  },
  {
   "cell_type": "code",
   "execution_count": 64,
   "id": "ca71bc5c",
   "metadata": {},
   "outputs": [],
   "source": [
    "from sklearn.tree import DecisionTreeClassifier\n",
    "dtc = DecisionTreeClassifier(random_state=21)\n",
    "model1 = dtc.fit(xtrain,ytrain)\n",
    "predtr1 = model1.predict(xtrain)\n",
    "predts1 = model1.predict(xtest)\n",
    "from sklearn.metrics import accuracy_score\n",
    "tr_acc1 = accuracy_score(ytrain,predtr1)\n",
    "ts_acc1 = accuracy_score(ytest,predts1)"
   ]
  },
  {
   "cell_type": "code",
   "execution_count": 65,
   "id": "1ba1063d",
   "metadata": {},
   "outputs": [
    {
     "data": {
      "text/plain": [
       "1.0"
      ]
     },
     "execution_count": 65,
     "metadata": {},
     "output_type": "execute_result"
    }
   ],
   "source": [
    "tr_acc1"
   ]
  },
  {
   "cell_type": "code",
   "execution_count": 66,
   "id": "ad60ef1d",
   "metadata": {},
   "outputs": [
    {
     "data": {
      "text/plain": [
       "0.6829268292682927"
      ]
     },
     "execution_count": 66,
     "metadata": {},
     "output_type": "execute_result"
    }
   ],
   "source": [
    "ts_acc1"
   ]
  },
  {
   "cell_type": "markdown",
   "id": "d0646476",
   "metadata": {},
   "source": [
    "# decision Tree Model has good training accuracy but give bad testing accuracy model is overfitted\n",
    "so we use prunning to overcome this overfitting, for that we use \"min samples leaf\" Hyperparameter"
   ]
  },
  {
   "cell_type": "code",
   "execution_count": 67,
   "id": "a824716f",
   "metadata": {},
   "outputs": [
    {
     "data": {
      "text/plain": [
       "{'min_samples_leaf': 34}"
      ]
     },
     "execution_count": 67,
     "metadata": {},
     "output_type": "execute_result"
    }
   ],
   "source": [
    "from sklearn.model_selection import GridSearchCV\n",
    "tg = {\"min_samples_leaf\":range(2,60,1)}\n",
    "dtc = DecisionTreeClassifier(random_state=21)\n",
    "cv = GridSearchCV(dtc,tg,scoring=\"accuracy\",cv=4)\n",
    "cvmodel = cv.fit(xtrain,ytrain)\n",
    "cvmodel.best_params_"
   ]
  },
  {
   "cell_type": "code",
   "execution_count": 68,
   "id": "5a1e7551",
   "metadata": {},
   "outputs": [],
   "source": [
    "from sklearn.tree import DecisionTreeClassifier\n",
    "dtc = DecisionTreeClassifier(random_state=21,min_samples_leaf=34)\n",
    "model1 = dtc.fit(xtrain,ytrain)\n",
    "predtr1 = model1.predict(xtrain)\n",
    "predts1 = model1.predict(xtest)\n",
    "from sklearn.metrics import accuracy_score\n",
    "tr_acc1 = accuracy_score(ytrain,predtr1)\n",
    "ts_acc1 = accuracy_score(ytest,predts1)"
   ]
  },
  {
   "cell_type": "code",
   "execution_count": 69,
   "id": "674739ec",
   "metadata": {},
   "outputs": [
    {
     "data": {
      "text/plain": [
       "0.8065173116089613"
      ]
     },
     "execution_count": 69,
     "metadata": {},
     "output_type": "execute_result"
    }
   ],
   "source": [
    "tr_acc1"
   ]
  },
  {
   "cell_type": "code",
   "execution_count": 70,
   "id": "2a84fe47",
   "metadata": {},
   "outputs": [
    {
     "data": {
      "text/plain": [
       "0.8211382113821138"
      ]
     },
     "execution_count": 70,
     "metadata": {},
     "output_type": "execute_result"
    }
   ],
   "source": [
    "ts_acc1"
   ]
  },
  {
   "cell_type": "markdown",
   "id": "3b216b52",
   "metadata": {},
   "source": [
    "# Create Random Forest classifier model"
   ]
  },
  {
   "cell_type": "code",
   "execution_count": 71,
   "id": "da7e00b6",
   "metadata": {},
   "outputs": [],
   "source": [
    "from sklearn.ensemble import RandomForestClassifier\n",
    "rfc = RandomForestClassifier(random_state = 21)\n",
    "model2 = rfc.fit(xtrain,ytrain)\n",
    "predtr2 = model2.predict(xtrain)\n",
    "predts2 = model2.predict(xtest)\n",
    "from sklearn.metrics import accuracy_score\n",
    "tr_acc2 = accuracy_score(ytrain,predtr2)\n",
    "ts_acc2 = accuracy_score(ytest,predts2)"
   ]
  },
  {
   "cell_type": "code",
   "execution_count": 72,
   "id": "97d3838a",
   "metadata": {},
   "outputs": [
    {
     "data": {
      "text/plain": [
       "1.0"
      ]
     },
     "execution_count": 72,
     "metadata": {},
     "output_type": "execute_result"
    }
   ],
   "source": [
    "tr_acc2"
   ]
  },
  {
   "cell_type": "code",
   "execution_count": 73,
   "id": "b7e3b54a",
   "metadata": {},
   "outputs": [
    {
     "data": {
      "text/plain": [
       "0.7642276422764228"
      ]
     },
     "execution_count": 73,
     "metadata": {},
     "output_type": "execute_result"
    }
   ],
   "source": [
    "ts_acc2"
   ]
  },
  {
   "cell_type": "markdown",
   "id": "63c5afc1",
   "metadata": {},
   "source": [
    "# Random Forest Model has good training accuracy but give bad testing accuracy model is overfitted\n",
    "#so we use prunning to overcome this overfitting, for that we use \"n_estimators\" Hyperparameter"
   ]
  },
  {
   "cell_type": "code",
   "execution_count": 74,
   "id": "05aaa0e5",
   "metadata": {},
   "outputs": [
    {
     "data": {
      "text/plain": [
       "{'n_estimators': 65}"
      ]
     },
     "execution_count": 74,
     "metadata": {},
     "output_type": "execute_result"
    }
   ],
   "source": [
    "from sklearn.model_selection import GridSearchCV\n",
    "tg = {\"n_estimators\":range(2,100,1)}\n",
    "rfc = RandomForestClassifier(random_state = 21)\n",
    "cv1 = GridSearchCV(rfc,tg,scoring=\"accuracy\",cv=4)\n",
    "cvmodel1 = cv1.fit(xtrain,ytrain)\n",
    "cvmodel1.best_params_"
   ]
  },
  {
   "cell_type": "code",
   "execution_count": 75,
   "id": "75ff4011",
   "metadata": {},
   "outputs": [],
   "source": [
    "from sklearn.ensemble import RandomForestClassifier\n",
    "rfc = RandomForestClassifier(n_estimators=65,random_state = 21,min_samples_leaf=34)\n",
    "model2 = rfc.fit(xtrain,ytrain)\n",
    "predtr2 = model2.predict(xtrain)\n",
    "predts2 = model2.predict(xtest)\n",
    "from sklearn.metrics import accuracy_score\n",
    "tr_acc2 = accuracy_score(ytrain,predtr2)\n",
    "ts_acc2 = accuracy_score(ytest,predts2)"
   ]
  },
  {
   "cell_type": "code",
   "execution_count": 76,
   "id": "2ca07588",
   "metadata": {},
   "outputs": [
    {
     "data": {
      "text/plain": [
       "0.7596741344195519"
      ]
     },
     "execution_count": 76,
     "metadata": {},
     "output_type": "execute_result"
    }
   ],
   "source": [
    "tr_acc2"
   ]
  },
  {
   "cell_type": "code",
   "execution_count": 77,
   "id": "e3c1fe41",
   "metadata": {},
   "outputs": [
    {
     "data": {
      "text/plain": [
       "0.7398373983739838"
      ]
     },
     "execution_count": 77,
     "metadata": {},
     "output_type": "execute_result"
    }
   ],
   "source": [
    "ts_acc2"
   ]
  },
  {
   "cell_type": "markdown",
   "id": "a62d1bde",
   "metadata": {},
   "source": [
    "# Create Adaboost model"
   ]
  },
  {
   "cell_type": "code",
   "execution_count": 78,
   "id": "4abc47c5",
   "metadata": {},
   "outputs": [],
   "source": [
    "from sklearn.ensemble import AdaBoostClassifier\n",
    "abc = AdaBoostClassifier(DecisionTreeClassifier(random_state=21))\n",
    "model3 = abc.fit(xtrain,ytrain)\n",
    "predtr3 = model3.predict(xtrain)\n",
    "predts3 = model3.predict(xtest)\n",
    "from sklearn.metrics import accuracy_score\n",
    "tr_acc3 = accuracy_score(ytrain,predtr3)\n",
    "ts_acc3 = accuracy_score(ytest,predts3)\n"
   ]
  },
  {
   "cell_type": "code",
   "execution_count": 79,
   "id": "16488a53",
   "metadata": {},
   "outputs": [
    {
     "data": {
      "text/plain": [
       "1.0"
      ]
     },
     "execution_count": 79,
     "metadata": {},
     "output_type": "execute_result"
    }
   ],
   "source": [
    "tr_acc3"
   ]
  },
  {
   "cell_type": "code",
   "execution_count": 80,
   "id": "6c19147d",
   "metadata": {},
   "outputs": [
    {
     "data": {
      "text/plain": [
       "0.6910569105691057"
      ]
     },
     "execution_count": 80,
     "metadata": {},
     "output_type": "execute_result"
    }
   ],
   "source": [
    "ts_acc3"
   ]
  },
  {
   "cell_type": "markdown",
   "id": "28a9070c",
   "metadata": {},
   "source": [
    "# Adaboost Model has good training accuracy but give bad testing accuracy model is overfitted\n",
    "so we use prunning to overcome this overfitting, for that we use \"n_estimators\" Hyperparameter"
   ]
  },
  {
   "cell_type": "code",
   "execution_count": 81,
   "id": "be0c11bf",
   "metadata": {},
   "outputs": [
    {
     "data": {
      "text/plain": [
       "{'n_estimators': 99}"
      ]
     },
     "execution_count": 81,
     "metadata": {},
     "output_type": "execute_result"
    }
   ],
   "source": [
    "from sklearn.model_selection import GridSearchCV\n",
    "tg = {\"n_estimators\":range(2,100,1)}\n",
    "abc = AdaBoostClassifier(DecisionTreeClassifier(random_state=21))\n",
    "cv1 = GridSearchCV(abc,tg,scoring=\"accuracy\",cv=4)\n",
    "cvmodel2 = cv1.fit(xtrain,ytrain)\n",
    "cvmodel2.best_params_"
   ]
  },
  {
   "cell_type": "code",
   "execution_count": 82,
   "id": "52456c46",
   "metadata": {},
   "outputs": [],
   "source": [
    "from sklearn.ensemble import AdaBoostClassifier\n",
    "abc = AdaBoostClassifier(DecisionTreeClassifier(random_state=21,min_samples_leaf=34),n_estimators=99)\n",
    "model3 = abc.fit(xtrain,ytrain)\n",
    "predtr3 = model3.predict(xtrain)\n",
    "predts3 = model3.predict(xtest)\n",
    "from sklearn.metrics import accuracy_score\n",
    "tr_acc3 = accuracy_score(ytrain,predtr3)\n",
    "ts_acc3 = accuracy_score(ytest,predts3)"
   ]
  },
  {
   "cell_type": "code",
   "execution_count": 83,
   "id": "5780995c",
   "metadata": {},
   "outputs": [
    {
     "data": {
      "text/plain": [
       "0.9979633401221996"
      ]
     },
     "execution_count": 83,
     "metadata": {},
     "output_type": "execute_result"
    }
   ],
   "source": [
    "tr_acc3"
   ]
  },
  {
   "cell_type": "code",
   "execution_count": 84,
   "id": "d2e868ba",
   "metadata": {},
   "outputs": [
    {
     "data": {
      "text/plain": [
       "0.7886178861788617"
      ]
     },
     "execution_count": 84,
     "metadata": {},
     "output_type": "execute_result"
    }
   ],
   "source": [
    "ts_acc3"
   ]
  },
  {
   "cell_type": "markdown",
   "id": "9186698f",
   "metadata": {},
   "source": [
    "# Prepare test Data set"
   ]
  },
  {
   "cell_type": "code",
   "execution_count": 85,
   "id": "143a6922",
   "metadata": {},
   "outputs": [],
   "source": [
    "test_data = pd.read_csv(\"F:download/testing_set.csv\")"
   ]
  },
  {
   "cell_type": "code",
   "execution_count": 86,
   "id": "16335e5e",
   "metadata": {},
   "outputs": [
    {
     "data": {
      "text/html": [
       "<div>\n",
       "<style scoped>\n",
       "    .dataframe tbody tr th:only-of-type {\n",
       "        vertical-align: middle;\n",
       "    }\n",
       "\n",
       "    .dataframe tbody tr th {\n",
       "        vertical-align: top;\n",
       "    }\n",
       "\n",
       "    .dataframe thead th {\n",
       "        text-align: right;\n",
       "    }\n",
       "</style>\n",
       "<table border=\"1\" class=\"dataframe\">\n",
       "  <thead>\n",
       "    <tr style=\"text-align: right;\">\n",
       "      <th></th>\n",
       "      <th>Loan_ID</th>\n",
       "      <th>Gender</th>\n",
       "      <th>Married</th>\n",
       "      <th>Dependents</th>\n",
       "      <th>Education</th>\n",
       "      <th>Self_Employed</th>\n",
       "      <th>ApplicantIncome</th>\n",
       "      <th>CoapplicantIncome</th>\n",
       "      <th>LoanAmount</th>\n",
       "      <th>Loan_Amount_Term</th>\n",
       "      <th>Credit_History</th>\n",
       "      <th>Property_Area</th>\n",
       "    </tr>\n",
       "  </thead>\n",
       "  <tbody>\n",
       "    <tr>\n",
       "      <th>0</th>\n",
       "      <td>LP001015</td>\n",
       "      <td>Male</td>\n",
       "      <td>Yes</td>\n",
       "      <td>0</td>\n",
       "      <td>Graduate</td>\n",
       "      <td>No</td>\n",
       "      <td>5720</td>\n",
       "      <td>0</td>\n",
       "      <td>110.0</td>\n",
       "      <td>360.0</td>\n",
       "      <td>1.0</td>\n",
       "      <td>Urban</td>\n",
       "    </tr>\n",
       "    <tr>\n",
       "      <th>1</th>\n",
       "      <td>LP001022</td>\n",
       "      <td>Male</td>\n",
       "      <td>Yes</td>\n",
       "      <td>1</td>\n",
       "      <td>Graduate</td>\n",
       "      <td>No</td>\n",
       "      <td>3076</td>\n",
       "      <td>1500</td>\n",
       "      <td>126.0</td>\n",
       "      <td>360.0</td>\n",
       "      <td>1.0</td>\n",
       "      <td>Urban</td>\n",
       "    </tr>\n",
       "    <tr>\n",
       "      <th>2</th>\n",
       "      <td>LP001031</td>\n",
       "      <td>Male</td>\n",
       "      <td>Yes</td>\n",
       "      <td>2</td>\n",
       "      <td>Graduate</td>\n",
       "      <td>No</td>\n",
       "      <td>5000</td>\n",
       "      <td>1800</td>\n",
       "      <td>208.0</td>\n",
       "      <td>360.0</td>\n",
       "      <td>1.0</td>\n",
       "      <td>Urban</td>\n",
       "    </tr>\n",
       "    <tr>\n",
       "      <th>3</th>\n",
       "      <td>LP001035</td>\n",
       "      <td>Male</td>\n",
       "      <td>Yes</td>\n",
       "      <td>2</td>\n",
       "      <td>Graduate</td>\n",
       "      <td>No</td>\n",
       "      <td>2340</td>\n",
       "      <td>2546</td>\n",
       "      <td>100.0</td>\n",
       "      <td>360.0</td>\n",
       "      <td>NaN</td>\n",
       "      <td>Urban</td>\n",
       "    </tr>\n",
       "    <tr>\n",
       "      <th>4</th>\n",
       "      <td>LP001051</td>\n",
       "      <td>Male</td>\n",
       "      <td>No</td>\n",
       "      <td>0</td>\n",
       "      <td>Not Graduate</td>\n",
       "      <td>No</td>\n",
       "      <td>3276</td>\n",
       "      <td>0</td>\n",
       "      <td>78.0</td>\n",
       "      <td>360.0</td>\n",
       "      <td>1.0</td>\n",
       "      <td>Urban</td>\n",
       "    </tr>\n",
       "  </tbody>\n",
       "</table>\n",
       "</div>"
      ],
      "text/plain": [
       "    Loan_ID Gender Married Dependents     Education Self_Employed  \\\n",
       "0  LP001015   Male     Yes          0      Graduate            No   \n",
       "1  LP001022   Male     Yes          1      Graduate            No   \n",
       "2  LP001031   Male     Yes          2      Graduate            No   \n",
       "3  LP001035   Male     Yes          2      Graduate            No   \n",
       "4  LP001051   Male      No          0  Not Graduate            No   \n",
       "\n",
       "   ApplicantIncome  CoapplicantIncome  LoanAmount  Loan_Amount_Term  \\\n",
       "0             5720                  0       110.0             360.0   \n",
       "1             3076               1500       126.0             360.0   \n",
       "2             5000               1800       208.0             360.0   \n",
       "3             2340               2546       100.0             360.0   \n",
       "4             3276                  0        78.0             360.0   \n",
       "\n",
       "   Credit_History Property_Area  \n",
       "0             1.0         Urban  \n",
       "1             1.0         Urban  \n",
       "2             1.0         Urban  \n",
       "3             NaN         Urban  \n",
       "4             1.0         Urban  "
      ]
     },
     "execution_count": 86,
     "metadata": {},
     "output_type": "execute_result"
    }
   ],
   "source": [
    "test_data.head()"
   ]
  },
  {
   "cell_type": "code",
   "execution_count": 87,
   "id": "bda078f6",
   "metadata": {},
   "outputs": [],
   "source": [
    "test = test_data.drop([\"Loan_ID\"],axis=1)"
   ]
  },
  {
   "cell_type": "code",
   "execution_count": 88,
   "id": "a1def515",
   "metadata": {},
   "outputs": [
    {
     "data": {
      "text/plain": [
       "Gender               11\n",
       "Married               0\n",
       "Dependents           10\n",
       "Education             0\n",
       "Self_Employed        23\n",
       "ApplicantIncome       0\n",
       "CoapplicantIncome     0\n",
       "LoanAmount            5\n",
       "Loan_Amount_Term      6\n",
       "Credit_History       29\n",
       "Property_Area         0\n",
       "dtype: int64"
      ]
     },
     "execution_count": 88,
     "metadata": {},
     "output_type": "execute_result"
    }
   ],
   "source": [
    "test.isna().sum() # check any missing values in data set"
   ]
  },
  {
   "cell_type": "markdown",
   "id": "96489ffc",
   "metadata": {},
   "source": [
    "replace missing values, if missing value is categorical then is mode and for continous use mean value"
   ]
  },
  {
   "cell_type": "code",
   "execution_count": 89,
   "id": "970c618a",
   "metadata": {},
   "outputs": [],
   "source": [
    "test[\"Gender\"].fillna(test[\"Gender\"].mode()[0],inplace=True)\n",
    "test[\"Dependents\"].fillna(test[\"Dependents\"].mode()[0],inplace=True)\n",
    "test[\"Self_Employed\"].fillna(test[\"Self_Employed\"].mode()[0],inplace=True)\n",
    "test[\"Loan_Amount_Term\"].fillna(test[\"Loan_Amount_Term\"].mode()[0],inplace=True)\n",
    "test[\"Credit_History\"].fillna(test[\"Credit_History\"].mode()[0],inplace=True)\n",
    "test[\"LoanAmount\"].fillna(test[\"LoanAmount\"].mean(),inplace=True)"
   ]
  },
  {
   "cell_type": "code",
   "execution_count": 90,
   "id": "29f148e0",
   "metadata": {},
   "outputs": [
    {
     "data": {
      "text/plain": [
       "Gender               0\n",
       "Married              0\n",
       "Dependents           0\n",
       "Education            0\n",
       "Self_Employed        0\n",
       "ApplicantIncome      0\n",
       "CoapplicantIncome    0\n",
       "LoanAmount           0\n",
       "Loan_Amount_Term     0\n",
       "Credit_History       0\n",
       "Property_Area        0\n",
       "dtype: int64"
      ]
     },
     "execution_count": 90,
     "metadata": {},
     "output_type": "execute_result"
    }
   ],
   "source": [
    "test.isna().sum()"
   ]
  },
  {
   "cell_type": "code",
   "execution_count": 91,
   "id": "854e1afe",
   "metadata": {},
   "outputs": [],
   "source": [
    "cat1 = []\n",
    "con1 = []\n",
    "for i in test.columns:\n",
    "    if(test[i].dtypes==\"object\"):\n",
    "        cat1.append(i)\n",
    "    else:\n",
    "        con1.append(i)"
   ]
  },
  {
   "cell_type": "markdown",
   "id": "12ebc23c",
   "metadata": {},
   "source": [
    "# Data Preprocessing on test Data set"
   ]
  },
  {
   "cell_type": "code",
   "execution_count": 92,
   "id": "d192be56",
   "metadata": {},
   "outputs": [],
   "source": [
    "X1 = pd.get_dummies(test[cat1]) #one hot encoding"
   ]
  },
  {
   "cell_type": "code",
   "execution_count": 93,
   "id": "a002b026",
   "metadata": {},
   "outputs": [],
   "source": [
    "X2 = pd.DataFrame(ss.fit_transform(test[con1]),columns=con1) #Standard Scaler for contionus features"
   ]
  },
  {
   "cell_type": "code",
   "execution_count": 94,
   "id": "4f53d4fa",
   "metadata": {},
   "outputs": [],
   "source": [
    "Test = X2.join(X1)"
   ]
  },
  {
   "cell_type": "code",
   "execution_count": 95,
   "id": "710dd5bb",
   "metadata": {},
   "outputs": [
    {
     "data": {
      "text/plain": [
       "(614, 20)"
      ]
     },
     "execution_count": 95,
     "metadata": {},
     "output_type": "execute_result"
    }
   ],
   "source": [
    "Xnew.shape"
   ]
  },
  {
   "cell_type": "code",
   "execution_count": 96,
   "id": "db1571ed",
   "metadata": {},
   "outputs": [
    {
     "data": {
      "text/plain": [
       "(367, 20)"
      ]
     },
     "execution_count": 96,
     "metadata": {},
     "output_type": "execute_result"
    }
   ],
   "source": [
    "Test.shape # check the shape of test data is same as training data feed to model"
   ]
  },
  {
   "cell_type": "code",
   "execution_count": 97,
   "id": "218ae0d0",
   "metadata": {},
   "outputs": [
    {
     "data": {
      "text/plain": [
       "Index(['ApplicantIncome', 'CoapplicantIncome', 'LoanAmount',\n",
       "       'Loan_Amount_Term', 'Credit_History', 'Gender_Female', 'Gender_Male',\n",
       "       'Married_No', 'Married_Yes', 'Dependents_0', 'Dependents_1',\n",
       "       'Dependents_2', 'Dependents_3+', 'Education_Graduate',\n",
       "       'Education_Not Graduate', 'Self_Employed_No', 'Self_Employed_Yes',\n",
       "       'Property_Area_Rural', 'Property_Area_Semiurban',\n",
       "       'Property_Area_Urban'],\n",
       "      dtype='object')"
      ]
     },
     "execution_count": 97,
     "metadata": {},
     "output_type": "execute_result"
    }
   ],
   "source": [
    "Xnew.columns"
   ]
  },
  {
   "cell_type": "code",
   "execution_count": 98,
   "id": "589af192",
   "metadata": {},
   "outputs": [
    {
     "data": {
      "text/plain": [
       "Index(['ApplicantIncome', 'CoapplicantIncome', 'LoanAmount',\n",
       "       'Loan_Amount_Term', 'Credit_History', 'Gender_Female', 'Gender_Male',\n",
       "       'Married_No', 'Married_Yes', 'Dependents_0', 'Dependents_1',\n",
       "       'Dependents_2', 'Dependents_3+', 'Education_Graduate',\n",
       "       'Education_Not Graduate', 'Self_Employed_No', 'Self_Employed_Yes',\n",
       "       'Property_Area_Rural', 'Property_Area_Semiurban',\n",
       "       'Property_Area_Urban'],\n",
       "      dtype='object')"
      ]
     },
     "execution_count": 98,
     "metadata": {},
     "output_type": "execute_result"
    }
   ],
   "source": [
    "Test.columns"
   ]
  },
  {
   "cell_type": "markdown",
   "id": "117d5710",
   "metadata": {},
   "source": [
    "# 1st use Logisstic regression model for predication"
   ]
  },
  {
   "cell_type": "code",
   "execution_count": 99,
   "id": "b428a917",
   "metadata": {},
   "outputs": [],
   "source": [
    "pred_testdata = model.predict(Test)"
   ]
  },
  {
   "cell_type": "code",
   "execution_count": 100,
   "id": "777fa1af",
   "metadata": {},
   "outputs": [],
   "source": [
    "Predication = test_data[[\"Loan_ID\"]]"
   ]
  },
  {
   "cell_type": "code",
   "execution_count": 101,
   "id": "aa7079ea",
   "metadata": {},
   "outputs": [],
   "source": [
    "Predication[\"Loan_Status_predication\"] = pred_testdata"
   ]
  },
  {
   "cell_type": "code",
   "execution_count": 102,
   "id": "91cddac2",
   "metadata": {},
   "outputs": [
    {
     "data": {
      "text/html": [
       "<div>\n",
       "<style scoped>\n",
       "    .dataframe tbody tr th:only-of-type {\n",
       "        vertical-align: middle;\n",
       "    }\n",
       "\n",
       "    .dataframe tbody tr th {\n",
       "        vertical-align: top;\n",
       "    }\n",
       "\n",
       "    .dataframe thead th {\n",
       "        text-align: right;\n",
       "    }\n",
       "</style>\n",
       "<table border=\"1\" class=\"dataframe\">\n",
       "  <thead>\n",
       "    <tr style=\"text-align: right;\">\n",
       "      <th></th>\n",
       "      <th>Loan_ID</th>\n",
       "      <th>Loan_Status_predication</th>\n",
       "    </tr>\n",
       "  </thead>\n",
       "  <tbody>\n",
       "    <tr>\n",
       "      <th>0</th>\n",
       "      <td>LP001015</td>\n",
       "      <td>Y</td>\n",
       "    </tr>\n",
       "    <tr>\n",
       "      <th>1</th>\n",
       "      <td>LP001022</td>\n",
       "      <td>Y</td>\n",
       "    </tr>\n",
       "    <tr>\n",
       "      <th>2</th>\n",
       "      <td>LP001031</td>\n",
       "      <td>Y</td>\n",
       "    </tr>\n",
       "    <tr>\n",
       "      <th>3</th>\n",
       "      <td>LP001035</td>\n",
       "      <td>Y</td>\n",
       "    </tr>\n",
       "    <tr>\n",
       "      <th>4</th>\n",
       "      <td>LP001051</td>\n",
       "      <td>Y</td>\n",
       "    </tr>\n",
       "    <tr>\n",
       "      <th>...</th>\n",
       "      <td>...</td>\n",
       "      <td>...</td>\n",
       "    </tr>\n",
       "    <tr>\n",
       "      <th>362</th>\n",
       "      <td>LP002971</td>\n",
       "      <td>Y</td>\n",
       "    </tr>\n",
       "    <tr>\n",
       "      <th>363</th>\n",
       "      <td>LP002975</td>\n",
       "      <td>Y</td>\n",
       "    </tr>\n",
       "    <tr>\n",
       "      <th>364</th>\n",
       "      <td>LP002980</td>\n",
       "      <td>Y</td>\n",
       "    </tr>\n",
       "    <tr>\n",
       "      <th>365</th>\n",
       "      <td>LP002986</td>\n",
       "      <td>Y</td>\n",
       "    </tr>\n",
       "    <tr>\n",
       "      <th>366</th>\n",
       "      <td>LP002989</td>\n",
       "      <td>Y</td>\n",
       "    </tr>\n",
       "  </tbody>\n",
       "</table>\n",
       "<p>367 rows × 2 columns</p>\n",
       "</div>"
      ],
      "text/plain": [
       "      Loan_ID Loan_Status_predication\n",
       "0    LP001015                       Y\n",
       "1    LP001022                       Y\n",
       "2    LP001031                       Y\n",
       "3    LP001035                       Y\n",
       "4    LP001051                       Y\n",
       "..        ...                     ...\n",
       "362  LP002971                       Y\n",
       "363  LP002975                       Y\n",
       "364  LP002980                       Y\n",
       "365  LP002986                       Y\n",
       "366  LP002989                       Y\n",
       "\n",
       "[367 rows x 2 columns]"
      ]
     },
     "execution_count": 102,
     "metadata": {},
     "output_type": "execute_result"
    }
   ],
   "source": [
    "Predication"
   ]
  },
  {
   "cell_type": "markdown",
   "id": "601d6c4d",
   "metadata": {},
   "source": [
    "# 2nd use DecisionTree model for predication"
   ]
  },
  {
   "cell_type": "code",
   "execution_count": 103,
   "id": "0955a804",
   "metadata": {},
   "outputs": [],
   "source": [
    "pred_decisiontree = model1.predict(Test)"
   ]
  },
  {
   "cell_type": "code",
   "execution_count": 104,
   "id": "674b7911",
   "metadata": {},
   "outputs": [],
   "source": [
    "Predication['LoanStatus_DecisionTree'] = pred_decisiontree"
   ]
  },
  {
   "cell_type": "code",
   "execution_count": 105,
   "id": "d700d56e",
   "metadata": {},
   "outputs": [
    {
     "data": {
      "text/html": [
       "<div>\n",
       "<style scoped>\n",
       "    .dataframe tbody tr th:only-of-type {\n",
       "        vertical-align: middle;\n",
       "    }\n",
       "\n",
       "    .dataframe tbody tr th {\n",
       "        vertical-align: top;\n",
       "    }\n",
       "\n",
       "    .dataframe thead th {\n",
       "        text-align: right;\n",
       "    }\n",
       "</style>\n",
       "<table border=\"1\" class=\"dataframe\">\n",
       "  <thead>\n",
       "    <tr style=\"text-align: right;\">\n",
       "      <th></th>\n",
       "      <th>Loan_ID</th>\n",
       "      <th>Loan_Status_predication</th>\n",
       "      <th>LoanStatus_DecisionTree</th>\n",
       "    </tr>\n",
       "  </thead>\n",
       "  <tbody>\n",
       "    <tr>\n",
       "      <th>0</th>\n",
       "      <td>LP001015</td>\n",
       "      <td>Y</td>\n",
       "      <td>Y</td>\n",
       "    </tr>\n",
       "    <tr>\n",
       "      <th>1</th>\n",
       "      <td>LP001022</td>\n",
       "      <td>Y</td>\n",
       "      <td>Y</td>\n",
       "    </tr>\n",
       "    <tr>\n",
       "      <th>2</th>\n",
       "      <td>LP001031</td>\n",
       "      <td>Y</td>\n",
       "      <td>Y</td>\n",
       "    </tr>\n",
       "    <tr>\n",
       "      <th>3</th>\n",
       "      <td>LP001035</td>\n",
       "      <td>Y</td>\n",
       "      <td>Y</td>\n",
       "    </tr>\n",
       "    <tr>\n",
       "      <th>4</th>\n",
       "      <td>LP001051</td>\n",
       "      <td>Y</td>\n",
       "      <td>Y</td>\n",
       "    </tr>\n",
       "    <tr>\n",
       "      <th>...</th>\n",
       "      <td>...</td>\n",
       "      <td>...</td>\n",
       "      <td>...</td>\n",
       "    </tr>\n",
       "    <tr>\n",
       "      <th>362</th>\n",
       "      <td>LP002971</td>\n",
       "      <td>Y</td>\n",
       "      <td>Y</td>\n",
       "    </tr>\n",
       "    <tr>\n",
       "      <th>363</th>\n",
       "      <td>LP002975</td>\n",
       "      <td>Y</td>\n",
       "      <td>Y</td>\n",
       "    </tr>\n",
       "    <tr>\n",
       "      <th>364</th>\n",
       "      <td>LP002980</td>\n",
       "      <td>Y</td>\n",
       "      <td>Y</td>\n",
       "    </tr>\n",
       "    <tr>\n",
       "      <th>365</th>\n",
       "      <td>LP002986</td>\n",
       "      <td>Y</td>\n",
       "      <td>Y</td>\n",
       "    </tr>\n",
       "    <tr>\n",
       "      <th>366</th>\n",
       "      <td>LP002989</td>\n",
       "      <td>Y</td>\n",
       "      <td>Y</td>\n",
       "    </tr>\n",
       "  </tbody>\n",
       "</table>\n",
       "<p>367 rows × 3 columns</p>\n",
       "</div>"
      ],
      "text/plain": [
       "      Loan_ID Loan_Status_predication LoanStatus_DecisionTree\n",
       "0    LP001015                       Y                       Y\n",
       "1    LP001022                       Y                       Y\n",
       "2    LP001031                       Y                       Y\n",
       "3    LP001035                       Y                       Y\n",
       "4    LP001051                       Y                       Y\n",
       "..        ...                     ...                     ...\n",
       "362  LP002971                       Y                       Y\n",
       "363  LP002975                       Y                       Y\n",
       "364  LP002980                       Y                       Y\n",
       "365  LP002986                       Y                       Y\n",
       "366  LP002989                       Y                       Y\n",
       "\n",
       "[367 rows x 3 columns]"
      ]
     },
     "execution_count": 105,
     "metadata": {},
     "output_type": "execute_result"
    }
   ],
   "source": [
    "Predication"
   ]
  },
  {
   "cell_type": "markdown",
   "id": "df2ea093",
   "metadata": {},
   "source": [
    "#  3rd use random forest model for predication"
   ]
  },
  {
   "cell_type": "code",
   "execution_count": 106,
   "id": "ab4c32d2",
   "metadata": {},
   "outputs": [],
   "source": [
    "pred_randomforest = model2.predict(Test)"
   ]
  },
  {
   "cell_type": "code",
   "execution_count": 107,
   "id": "76de8ad2",
   "metadata": {},
   "outputs": [],
   "source": [
    "Predication[\"LoanStatus_Randomforest\"] = pred_randomforest"
   ]
  },
  {
   "cell_type": "code",
   "execution_count": 108,
   "id": "a29925a3",
   "metadata": {},
   "outputs": [
    {
     "data": {
      "text/html": [
       "<div>\n",
       "<style scoped>\n",
       "    .dataframe tbody tr th:only-of-type {\n",
       "        vertical-align: middle;\n",
       "    }\n",
       "\n",
       "    .dataframe tbody tr th {\n",
       "        vertical-align: top;\n",
       "    }\n",
       "\n",
       "    .dataframe thead th {\n",
       "        text-align: right;\n",
       "    }\n",
       "</style>\n",
       "<table border=\"1\" class=\"dataframe\">\n",
       "  <thead>\n",
       "    <tr style=\"text-align: right;\">\n",
       "      <th></th>\n",
       "      <th>Loan_ID</th>\n",
       "      <th>Loan_Status_predication</th>\n",
       "      <th>LoanStatus_DecisionTree</th>\n",
       "      <th>LoanStatus_Randomforest</th>\n",
       "    </tr>\n",
       "  </thead>\n",
       "  <tbody>\n",
       "    <tr>\n",
       "      <th>0</th>\n",
       "      <td>LP001015</td>\n",
       "      <td>Y</td>\n",
       "      <td>Y</td>\n",
       "      <td>Y</td>\n",
       "    </tr>\n",
       "    <tr>\n",
       "      <th>1</th>\n",
       "      <td>LP001022</td>\n",
       "      <td>Y</td>\n",
       "      <td>Y</td>\n",
       "      <td>Y</td>\n",
       "    </tr>\n",
       "    <tr>\n",
       "      <th>2</th>\n",
       "      <td>LP001031</td>\n",
       "      <td>Y</td>\n",
       "      <td>Y</td>\n",
       "      <td>Y</td>\n",
       "    </tr>\n",
       "    <tr>\n",
       "      <th>3</th>\n",
       "      <td>LP001035</td>\n",
       "      <td>Y</td>\n",
       "      <td>Y</td>\n",
       "      <td>Y</td>\n",
       "    </tr>\n",
       "    <tr>\n",
       "      <th>4</th>\n",
       "      <td>LP001051</td>\n",
       "      <td>Y</td>\n",
       "      <td>Y</td>\n",
       "      <td>Y</td>\n",
       "    </tr>\n",
       "    <tr>\n",
       "      <th>...</th>\n",
       "      <td>...</td>\n",
       "      <td>...</td>\n",
       "      <td>...</td>\n",
       "      <td>...</td>\n",
       "    </tr>\n",
       "    <tr>\n",
       "      <th>362</th>\n",
       "      <td>LP002971</td>\n",
       "      <td>Y</td>\n",
       "      <td>Y</td>\n",
       "      <td>Y</td>\n",
       "    </tr>\n",
       "    <tr>\n",
       "      <th>363</th>\n",
       "      <td>LP002975</td>\n",
       "      <td>Y</td>\n",
       "      <td>Y</td>\n",
       "      <td>Y</td>\n",
       "    </tr>\n",
       "    <tr>\n",
       "      <th>364</th>\n",
       "      <td>LP002980</td>\n",
       "      <td>Y</td>\n",
       "      <td>Y</td>\n",
       "      <td>Y</td>\n",
       "    </tr>\n",
       "    <tr>\n",
       "      <th>365</th>\n",
       "      <td>LP002986</td>\n",
       "      <td>Y</td>\n",
       "      <td>Y</td>\n",
       "      <td>Y</td>\n",
       "    </tr>\n",
       "    <tr>\n",
       "      <th>366</th>\n",
       "      <td>LP002989</td>\n",
       "      <td>Y</td>\n",
       "      <td>Y</td>\n",
       "      <td>Y</td>\n",
       "    </tr>\n",
       "  </tbody>\n",
       "</table>\n",
       "<p>367 rows × 4 columns</p>\n",
       "</div>"
      ],
      "text/plain": [
       "      Loan_ID Loan_Status_predication LoanStatus_DecisionTree  \\\n",
       "0    LP001015                       Y                       Y   \n",
       "1    LP001022                       Y                       Y   \n",
       "2    LP001031                       Y                       Y   \n",
       "3    LP001035                       Y                       Y   \n",
       "4    LP001051                       Y                       Y   \n",
       "..        ...                     ...                     ...   \n",
       "362  LP002971                       Y                       Y   \n",
       "363  LP002975                       Y                       Y   \n",
       "364  LP002980                       Y                       Y   \n",
       "365  LP002986                       Y                       Y   \n",
       "366  LP002989                       Y                       Y   \n",
       "\n",
       "    LoanStatus_Randomforest  \n",
       "0                         Y  \n",
       "1                         Y  \n",
       "2                         Y  \n",
       "3                         Y  \n",
       "4                         Y  \n",
       "..                      ...  \n",
       "362                       Y  \n",
       "363                       Y  \n",
       "364                       Y  \n",
       "365                       Y  \n",
       "366                       Y  \n",
       "\n",
       "[367 rows x 4 columns]"
      ]
     },
     "execution_count": 108,
     "metadata": {},
     "output_type": "execute_result"
    }
   ],
   "source": [
    "Predication"
   ]
  },
  {
   "cell_type": "markdown",
   "id": "95564495",
   "metadata": {},
   "source": [
    "# Create ANN Model"
   ]
  },
  {
   "cell_type": "markdown",
   "id": "fb318cd7",
   "metadata": {},
   "source": [
    "Y column preprocessing\n",
    "ANN model not take output column as categorical"
   ]
  },
  {
   "cell_type": "code",
   "execution_count": 109,
   "id": "81bf28d4",
   "metadata": {},
   "outputs": [],
   "source": [
    "from sklearn.preprocessing import LabelEncoder\n",
    "le = LabelEncoder()\n",
    "Ynew = pd.DataFrame(le.fit_transform(Y),columns=Y.columns)"
   ]
  },
  {
   "cell_type": "markdown",
   "id": "f5831bcd",
   "metadata": {},
   "source": [
    "# Divide Data into Training and Testing set"
   ]
  },
  {
   "cell_type": "code",
   "execution_count": 110,
   "id": "fdf5baa4",
   "metadata": {},
   "outputs": [],
   "source": [
    "from sklearn.model_selection import train_test_split\n",
    "xtrain,xtest,ytrain,ytest = train_test_split(Xnew,Ynew,test_size=0.2,random_state=21)"
   ]
  },
  {
   "cell_type": "markdown",
   "id": "8a713641",
   "metadata": {},
   "source": [
    "# ANN Model"
   ]
  },
  {
   "cell_type": "code",
   "execution_count": 111,
   "id": "f45c3408",
   "metadata": {},
   "outputs": [],
   "source": [
    "from keras.models import Sequential\n",
    "from keras.layers import Dense,Dropout"
   ]
  },
  {
   "cell_type": "code",
   "execution_count": 112,
   "id": "f32e5175",
   "metadata": {},
   "outputs": [],
   "source": [
    "nn = Sequential()\n",
    "nn.add(Dense(200,input_dim=20))\n",
    "nn.add(Dense(200))\n",
    "nn.add(Dropout(0.2))\n",
    "nn.add(Dense(200))\n",
    "nn.add(Dropout(0.2))\n",
    "nn.add(Dense(200))\n",
    "nn.add(Dropout(0.2))\n",
    "nn.add(Dense(1,activation=\"sigmoid\"))"
   ]
  },
  {
   "cell_type": "code",
   "execution_count": 113,
   "id": "aca3b1fb",
   "metadata": {},
   "outputs": [
    {
     "name": "stdout",
     "output_type": "stream",
     "text": [
      "Epoch 1/1000\n",
      "16/16 [==============================] - 2s 7ms/step - loss: 0.5676 - accuracy: 0.7617\n",
      "Epoch 2/1000\n",
      "16/16 [==============================] - 0s 6ms/step - loss: 0.5036 - accuracy: 0.7800\n",
      "Epoch 3/1000\n",
      "16/16 [==============================] - 0s 8ms/step - loss: 0.5079 - accuracy: 0.7902\n",
      "Epoch 4/1000\n",
      "16/16 [==============================] - 0s 6ms/step - loss: 0.4939 - accuracy: 0.7943\n",
      "Epoch 5/1000\n",
      "16/16 [==============================] - 0s 6ms/step - loss: 0.5086 - accuracy: 0.7963\n",
      "Epoch 6/1000\n",
      "16/16 [==============================] - 0s 6ms/step - loss: 0.4762 - accuracy: 0.8045\n",
      "Epoch 7/1000\n",
      "16/16 [==============================] - 0s 6ms/step - loss: 0.5090 - accuracy: 0.7963\n",
      "Epoch 8/1000\n",
      "16/16 [==============================] - 0s 6ms/step - loss: 0.4915 - accuracy: 0.7821\n",
      "Epoch 9/1000\n",
      "16/16 [==============================] - 0s 6ms/step - loss: 0.4997 - accuracy: 0.7984\n",
      "Epoch 10/1000\n",
      "16/16 [==============================] - 0s 8ms/step - loss: 0.4889 - accuracy: 0.7923\n",
      "Epoch 11/1000\n",
      "16/16 [==============================] - 0s 6ms/step - loss: 0.5070 - accuracy: 0.8004\n",
      "Epoch 12/1000\n",
      "16/16 [==============================] - 0s 6ms/step - loss: 0.5082 - accuracy: 0.7780\n",
      "Epoch 13/1000\n",
      "16/16 [==============================] - 0s 7ms/step - loss: 0.4980 - accuracy: 0.8086\n",
      "Epoch 14/1000\n",
      "16/16 [==============================] - 0s 6ms/step - loss: 0.4850 - accuracy: 0.8004\n",
      "Epoch 15/1000\n",
      "16/16 [==============================] - 0s 6ms/step - loss: 0.4885 - accuracy: 0.7963\n",
      "Epoch 16/1000\n",
      "16/16 [==============================] - 0s 6ms/step - loss: 0.4876 - accuracy: 0.7963\n",
      "Epoch 17/1000\n",
      "16/16 [==============================] - 0s 6ms/step - loss: 0.4841 - accuracy: 0.8065\n",
      "Epoch 18/1000\n",
      "16/16 [==============================] - 0s 7ms/step - loss: 0.4832 - accuracy: 0.7984\n",
      "Epoch 19/1000\n",
      "16/16 [==============================] - 0s 6ms/step - loss: 0.4815 - accuracy: 0.8045\n",
      "Epoch 20/1000\n",
      "16/16 [==============================] - 0s 7ms/step - loss: 0.4825 - accuracy: 0.8065\n",
      "Epoch 21/1000\n",
      "16/16 [==============================] - 0s 7ms/step - loss: 0.5139 - accuracy: 0.7862\n",
      "Epoch 22/1000\n",
      "16/16 [==============================] - 0s 7ms/step - loss: 0.4810 - accuracy: 0.7902\n",
      "Epoch 23/1000\n",
      "16/16 [==============================] - 0s 6ms/step - loss: 0.4732 - accuracy: 0.8106\n",
      "Epoch 24/1000\n",
      "16/16 [==============================] - 0s 6ms/step - loss: 0.4842 - accuracy: 0.8004\n",
      "Epoch 25/1000\n",
      "16/16 [==============================] - 0s 6ms/step - loss: 0.4915 - accuracy: 0.7963\n",
      "Epoch 26/1000\n",
      "16/16 [==============================] - 0s 7ms/step - loss: 0.4879 - accuracy: 0.8065\n",
      "Epoch 27/1000\n",
      "16/16 [==============================] - 0s 6ms/step - loss: 0.4796 - accuracy: 0.8065\n",
      "Epoch 28/1000\n",
      "16/16 [==============================] - 0s 6ms/step - loss: 0.4859 - accuracy: 0.8045\n",
      "Epoch 29/1000\n",
      "16/16 [==============================] - 0s 6ms/step - loss: 0.4853 - accuracy: 0.8045\n",
      "Epoch 30/1000\n",
      "16/16 [==============================] - 0s 7ms/step - loss: 0.4794 - accuracy: 0.7984\n",
      "Epoch 31/1000\n",
      "16/16 [==============================] - 0s 6ms/step - loss: 0.4785 - accuracy: 0.7984\n",
      "Epoch 32/1000\n",
      "16/16 [==============================] - 0s 6ms/step - loss: 0.4849 - accuracy: 0.7984\n",
      "Epoch 33/1000\n",
      "16/16 [==============================] - 0s 6ms/step - loss: 0.4809 - accuracy: 0.7923\n",
      "Epoch 34/1000\n",
      "16/16 [==============================] - 0s 6ms/step - loss: 0.4733 - accuracy: 0.8065\n",
      "Epoch 35/1000\n",
      "16/16 [==============================] - 0s 6ms/step - loss: 0.4777 - accuracy: 0.8065\n",
      "Epoch 36/1000\n",
      "16/16 [==============================] - 0s 6ms/step - loss: 0.4726 - accuracy: 0.8187\n",
      "Epoch 37/1000\n",
      "16/16 [==============================] - 0s 7ms/step - loss: 0.4828 - accuracy: 0.8106\n",
      "Epoch 38/1000\n",
      "16/16 [==============================] - 0s 7ms/step - loss: 0.4781 - accuracy: 0.8065\n",
      "Epoch 39/1000\n",
      "16/16 [==============================] - 0s 8ms/step - loss: 0.4654 - accuracy: 0.8106\n",
      "Epoch 40/1000\n",
      "16/16 [==============================] - 0s 8ms/step - loss: 0.4849 - accuracy: 0.8086\n",
      "Epoch 41/1000\n",
      "16/16 [==============================] - 0s 7ms/step - loss: 0.4737 - accuracy: 0.8045\n",
      "Epoch 42/1000\n",
      "16/16 [==============================] - 0s 7ms/step - loss: 0.4739 - accuracy: 0.8065\n",
      "Epoch 43/1000\n",
      "16/16 [==============================] - 0s 7ms/step - loss: 0.4693 - accuracy: 0.8004\n",
      "Epoch 44/1000\n",
      "16/16 [==============================] - 0s 8ms/step - loss: 0.4838 - accuracy: 0.8024\n",
      "Epoch 45/1000\n",
      "16/16 [==============================] - 0s 7ms/step - loss: 0.4841 - accuracy: 0.8065\n",
      "Epoch 46/1000\n",
      "16/16 [==============================] - 0s 7ms/step - loss: 0.4759 - accuracy: 0.7923\n",
      "Epoch 47/1000\n",
      "16/16 [==============================] - 0s 8ms/step - loss: 0.4866 - accuracy: 0.8106\n",
      "Epoch 48/1000\n",
      "16/16 [==============================] - 0s 8ms/step - loss: 0.4675 - accuracy: 0.8086\n",
      "Epoch 49/1000\n",
      "16/16 [==============================] - 0s 7ms/step - loss: 0.4862 - accuracy: 0.8024\n",
      "Epoch 50/1000\n",
      "16/16 [==============================] - 0s 7ms/step - loss: 0.4758 - accuracy: 0.8126\n",
      "Epoch 51/1000\n",
      "16/16 [==============================] - 0s 6ms/step - loss: 0.4683 - accuracy: 0.8024\n",
      "Epoch 52/1000\n",
      "16/16 [==============================] - 0s 6ms/step - loss: 0.4800 - accuracy: 0.8065\n",
      "Epoch 53/1000\n",
      "16/16 [==============================] - 0s 6ms/step - loss: 0.4709 - accuracy: 0.8065\n",
      "Epoch 54/1000\n",
      "16/16 [==============================] - 0s 6ms/step - loss: 0.4591 - accuracy: 0.8024\n",
      "Epoch 55/1000\n",
      "16/16 [==============================] - 0s 9ms/step - loss: 0.4820 - accuracy: 0.8065\n",
      "Epoch 56/1000\n",
      "16/16 [==============================] - 0s 7ms/step - loss: 0.4679 - accuracy: 0.7963\n",
      "Epoch 57/1000\n",
      "16/16 [==============================] - 0s 6ms/step - loss: 0.4746 - accuracy: 0.8024\n",
      "Epoch 58/1000\n",
      "16/16 [==============================] - 0s 6ms/step - loss: 0.4725 - accuracy: 0.8024\n",
      "Epoch 59/1000\n",
      "16/16 [==============================] - 0s 7ms/step - loss: 0.4705 - accuracy: 0.8024\n",
      "Epoch 60/1000\n",
      "16/16 [==============================] - 0s 6ms/step - loss: 0.4686 - accuracy: 0.8024\n",
      "Epoch 61/1000\n",
      "16/16 [==============================] - 0s 6ms/step - loss: 0.4725 - accuracy: 0.8024\n",
      "Epoch 62/1000\n",
      "16/16 [==============================] - 0s 6ms/step - loss: 0.4723 - accuracy: 0.7984\n",
      "Epoch 63/1000\n",
      "16/16 [==============================] - 0s 6ms/step - loss: 0.4687 - accuracy: 0.8086\n",
      "Epoch 64/1000\n",
      "16/16 [==============================] - 0s 6ms/step - loss: 0.4716 - accuracy: 0.8045\n",
      "Epoch 65/1000\n",
      "16/16 [==============================] - 0s 6ms/step - loss: 0.4730 - accuracy: 0.8106\n",
      "Epoch 66/1000\n",
      "16/16 [==============================] - 0s 7ms/step - loss: 0.4734 - accuracy: 0.8065\n",
      "Epoch 67/1000\n",
      "16/16 [==============================] - 0s 7ms/step - loss: 0.4693 - accuracy: 0.8065\n",
      "Epoch 68/1000\n",
      "16/16 [==============================] - 0s 7ms/step - loss: 0.4649 - accuracy: 0.8106\n",
      "Epoch 69/1000\n",
      "16/16 [==============================] - 0s 6ms/step - loss: 0.4685 - accuracy: 0.8045\n",
      "Epoch 70/1000\n",
      "16/16 [==============================] - 0s 6ms/step - loss: 0.4636 - accuracy: 0.8126\n",
      "Epoch 71/1000\n",
      "16/16 [==============================] - 0s 6ms/step - loss: 0.4673 - accuracy: 0.8126\n",
      "Epoch 72/1000\n",
      "16/16 [==============================] - 0s 7ms/step - loss: 0.4722 - accuracy: 0.8086\n",
      "Epoch 73/1000\n",
      "16/16 [==============================] - 0s 7ms/step - loss: 0.4677 - accuracy: 0.8065\n",
      "Epoch 74/1000\n",
      "16/16 [==============================] - 0s 7ms/step - loss: 0.4777 - accuracy: 0.8086\n",
      "Epoch 75/1000\n",
      "16/16 [==============================] - 0s 7ms/step - loss: 0.4598 - accuracy: 0.8065\n",
      "Epoch 76/1000\n",
      "16/16 [==============================] - 0s 6ms/step - loss: 0.4702 - accuracy: 0.8045\n",
      "Epoch 77/1000\n",
      "16/16 [==============================] - 0s 6ms/step - loss: 0.4671 - accuracy: 0.8065\n",
      "Epoch 78/1000\n",
      "16/16 [==============================] - 0s 6ms/step - loss: 0.4715 - accuracy: 0.8126\n",
      "Epoch 79/1000\n",
      "16/16 [==============================] - 0s 7ms/step - loss: 0.4653 - accuracy: 0.8167\n",
      "Epoch 80/1000\n",
      "16/16 [==============================] - 0s 6ms/step - loss: 0.4726 - accuracy: 0.8065\n",
      "Epoch 81/1000\n",
      "16/16 [==============================] - 0s 6ms/step - loss: 0.4694 - accuracy: 0.8126\n",
      "Epoch 82/1000\n",
      "16/16 [==============================] - 0s 7ms/step - loss: 0.4662 - accuracy: 0.8086\n",
      "Epoch 83/1000\n",
      "16/16 [==============================] - 0s 6ms/step - loss: 0.4689 - accuracy: 0.8167\n",
      "Epoch 84/1000\n",
      "16/16 [==============================] - 0s 6ms/step - loss: 0.4641 - accuracy: 0.8004\n",
      "Epoch 85/1000\n",
      "16/16 [==============================] - 0s 6ms/step - loss: 0.4658 - accuracy: 0.8065\n",
      "Epoch 86/1000\n",
      "16/16 [==============================] - 0s 8ms/step - loss: 0.4796 - accuracy: 0.8065\n",
      "Epoch 87/1000\n",
      "16/16 [==============================] - 0s 6ms/step - loss: 0.4674 - accuracy: 0.8086\n",
      "Epoch 88/1000\n",
      "16/16 [==============================] - 0s 9ms/step - loss: 0.4648 - accuracy: 0.8045\n",
      "Epoch 89/1000\n",
      "16/16 [==============================] - 0s 11ms/step - loss: 0.4739 - accuracy: 0.8004\n",
      "Epoch 90/1000\n",
      "16/16 [==============================] - 0s 5ms/step - loss: 0.4686 - accuracy: 0.8024\n",
      "Epoch 91/1000\n",
      "16/16 [==============================] - 0s 5ms/step - loss: 0.4605 - accuracy: 0.8086\n",
      "Epoch 92/1000\n",
      "16/16 [==============================] - 0s 5ms/step - loss: 0.4763 - accuracy: 0.8024\n",
      "Epoch 93/1000\n",
      "16/16 [==============================] - 0s 5ms/step - loss: 0.4648 - accuracy: 0.8004\n",
      "Epoch 94/1000\n",
      "16/16 [==============================] - 0s 5ms/step - loss: 0.4708 - accuracy: 0.8126\n",
      "Epoch 95/1000\n",
      "16/16 [==============================] - 0s 5ms/step - loss: 0.4749 - accuracy: 0.8024\n",
      "Epoch 96/1000\n",
      "16/16 [==============================] - 0s 6ms/step - loss: 0.4608 - accuracy: 0.8065\n",
      "Epoch 97/1000\n",
      "16/16 [==============================] - 0s 7ms/step - loss: 0.4635 - accuracy: 0.8065\n",
      "Epoch 98/1000\n",
      "16/16 [==============================] - 0s 6ms/step - loss: 0.4614 - accuracy: 0.8086\n",
      "Epoch 99/1000\n",
      "16/16 [==============================] - 0s 5ms/step - loss: 0.4629 - accuracy: 0.8126\n",
      "Epoch 100/1000\n",
      "16/16 [==============================] - 0s 5ms/step - loss: 0.4599 - accuracy: 0.8167\n",
      "Epoch 101/1000\n",
      "16/16 [==============================] - 0s 5ms/step - loss: 0.4715 - accuracy: 0.8187\n",
      "Epoch 102/1000\n",
      "16/16 [==============================] - 0s 6ms/step - loss: 0.4638 - accuracy: 0.8086\n",
      "Epoch 103/1000\n",
      "16/16 [==============================] - 0s 5ms/step - loss: 0.4700 - accuracy: 0.8147\n",
      "Epoch 104/1000\n",
      "16/16 [==============================] - 0s 5ms/step - loss: 0.4693 - accuracy: 0.8106\n",
      "Epoch 105/1000\n",
      "16/16 [==============================] - 0s 5ms/step - loss: 0.4603 - accuracy: 0.8045\n",
      "Epoch 106/1000\n",
      "16/16 [==============================] - 0s 5ms/step - loss: 0.4580 - accuracy: 0.8106\n",
      "Epoch 107/1000\n",
      "16/16 [==============================] - 0s 6ms/step - loss: 0.4627 - accuracy: 0.8045\n",
      "Epoch 108/1000\n",
      "16/16 [==============================] - 0s 5ms/step - loss: 0.4676 - accuracy: 0.8106\n",
      "Epoch 109/1000\n",
      "16/16 [==============================] - 0s 5ms/step - loss: 0.4685 - accuracy: 0.8106\n",
      "Epoch 110/1000\n",
      "16/16 [==============================] - 0s 5ms/step - loss: 0.4635 - accuracy: 0.8147\n",
      "Epoch 111/1000\n",
      "16/16 [==============================] - 0s 5ms/step - loss: 0.4598 - accuracy: 0.8106\n",
      "Epoch 112/1000\n",
      "16/16 [==============================] - 0s 5ms/step - loss: 0.4651 - accuracy: 0.8086\n",
      "Epoch 113/1000\n",
      "16/16 [==============================] - 0s 5ms/step - loss: 0.4634 - accuracy: 0.8106\n",
      "Epoch 114/1000\n",
      "16/16 [==============================] - 0s 5ms/step - loss: 0.4622 - accuracy: 0.8106\n",
      "Epoch 115/1000\n",
      "16/16 [==============================] - 0s 5ms/step - loss: 0.4613 - accuracy: 0.8106\n",
      "Epoch 116/1000\n",
      "16/16 [==============================] - 0s 5ms/step - loss: 0.4640 - accuracy: 0.8086\n",
      "Epoch 117/1000\n",
      "16/16 [==============================] - 0s 5ms/step - loss: 0.4577 - accuracy: 0.8086\n",
      "Epoch 118/1000\n",
      "16/16 [==============================] - 0s 5ms/step - loss: 0.4623 - accuracy: 0.8045\n",
      "Epoch 119/1000\n",
      "16/16 [==============================] - 0s 5ms/step - loss: 0.4643 - accuracy: 0.8086\n",
      "Epoch 120/1000\n",
      "16/16 [==============================] - 0s 5ms/step - loss: 0.4652 - accuracy: 0.8126\n",
      "Epoch 121/1000\n",
      "16/16 [==============================] - 0s 6ms/step - loss: 0.4581 - accuracy: 0.8167\n",
      "Epoch 122/1000\n",
      "16/16 [==============================] - 0s 5ms/step - loss: 0.4682 - accuracy: 0.8086\n",
      "Epoch 123/1000\n",
      "16/16 [==============================] - 0s 5ms/step - loss: 0.4616 - accuracy: 0.8106\n",
      "Epoch 124/1000\n",
      "16/16 [==============================] - 0s 5ms/step - loss: 0.4544 - accuracy: 0.8045\n",
      "Epoch 125/1000\n",
      "16/16 [==============================] - 0s 5ms/step - loss: 0.4693 - accuracy: 0.8126\n",
      "Epoch 126/1000\n",
      "16/16 [==============================] - 0s 6ms/step - loss: 0.4602 - accuracy: 0.8086\n",
      "Epoch 127/1000\n",
      "16/16 [==============================] - 0s 6ms/step - loss: 0.4631 - accuracy: 0.8045\n",
      "Epoch 128/1000\n",
      "16/16 [==============================] - 0s 5ms/step - loss: 0.4618 - accuracy: 0.8045\n",
      "Epoch 129/1000\n",
      "16/16 [==============================] - 0s 5ms/step - loss: 0.4598 - accuracy: 0.8086\n",
      "Epoch 130/1000\n",
      "16/16 [==============================] - 0s 5ms/step - loss: 0.4674 - accuracy: 0.8065\n",
      "Epoch 131/1000\n",
      "16/16 [==============================] - 0s 5ms/step - loss: 0.4606 - accuracy: 0.8004\n",
      "Epoch 132/1000\n",
      "16/16 [==============================] - 0s 5ms/step - loss: 0.4768 - accuracy: 0.8086\n",
      "Epoch 133/1000\n",
      "16/16 [==============================] - 0s 5ms/step - loss: 0.4556 - accuracy: 0.8045\n",
      "Epoch 134/1000\n",
      "16/16 [==============================] - 0s 5ms/step - loss: 0.4607 - accuracy: 0.8086\n",
      "Epoch 135/1000\n",
      "16/16 [==============================] - 0s 5ms/step - loss: 0.4618 - accuracy: 0.8126\n",
      "Epoch 136/1000\n",
      "16/16 [==============================] - 0s 5ms/step - loss: 0.4621 - accuracy: 0.8045\n",
      "Epoch 137/1000\n",
      "16/16 [==============================] - 0s 5ms/step - loss: 0.4543 - accuracy: 0.8086\n",
      "Epoch 138/1000\n",
      "16/16 [==============================] - 0s 8ms/step - loss: 0.4615 - accuracy: 0.8086\n",
      "Epoch 139/1000\n",
      "16/16 [==============================] - 0s 6ms/step - loss: 0.4539 - accuracy: 0.8106\n",
      "Epoch 140/1000\n",
      "16/16 [==============================] - 0s 6ms/step - loss: 0.4635 - accuracy: 0.8126\n",
      "Epoch 141/1000\n",
      "16/16 [==============================] - 0s 6ms/step - loss: 0.4611 - accuracy: 0.8086\n",
      "Epoch 142/1000\n",
      "16/16 [==============================] - 0s 6ms/step - loss: 0.4673 - accuracy: 0.8126\n",
      "Epoch 143/1000\n",
      "16/16 [==============================] - 0s 6ms/step - loss: 0.4542 - accuracy: 0.8004\n",
      "Epoch 144/1000\n",
      "16/16 [==============================] - 0s 6ms/step - loss: 0.4629 - accuracy: 0.8086\n",
      "Epoch 145/1000\n",
      "16/16 [==============================] - 0s 8ms/step - loss: 0.4585 - accuracy: 0.8004\n",
      "Epoch 146/1000\n",
      "16/16 [==============================] - 0s 8ms/step - loss: 0.4575 - accuracy: 0.8086\n",
      "Epoch 147/1000\n",
      "16/16 [==============================] - 0s 7ms/step - loss: 0.4738 - accuracy: 0.8126\n",
      "Epoch 148/1000\n",
      "16/16 [==============================] - 0s 9ms/step - loss: 0.4647 - accuracy: 0.8045\n",
      "Epoch 149/1000\n",
      "16/16 [==============================] - 0s 9ms/step - loss: 0.4590 - accuracy: 0.8106\n",
      "Epoch 150/1000\n",
      "16/16 [==============================] - 0s 8ms/step - loss: 0.4627 - accuracy: 0.8106\n",
      "Epoch 151/1000\n",
      "16/16 [==============================] - 0s 8ms/step - loss: 0.4598 - accuracy: 0.8167\n",
      "Epoch 152/1000\n",
      "16/16 [==============================] - 0s 6ms/step - loss: 0.4589 - accuracy: 0.8106\n",
      "Epoch 153/1000\n",
      "16/16 [==============================] - 0s 6ms/step - loss: 0.4652 - accuracy: 0.8086\n",
      "Epoch 154/1000\n",
      "16/16 [==============================] - 0s 6ms/step - loss: 0.4602 - accuracy: 0.8106\n",
      "Epoch 155/1000\n",
      "16/16 [==============================] - 0s 6ms/step - loss: 0.4588 - accuracy: 0.8126\n",
      "Epoch 156/1000\n",
      "16/16 [==============================] - 0s 6ms/step - loss: 0.4629 - accuracy: 0.8065\n",
      "Epoch 157/1000\n",
      "16/16 [==============================] - 0s 6ms/step - loss: 0.4591 - accuracy: 0.8106\n",
      "Epoch 158/1000\n",
      "16/16 [==============================] - 0s 6ms/step - loss: 0.4595 - accuracy: 0.8086\n",
      "Epoch 159/1000\n",
      "16/16 [==============================] - 0s 6ms/step - loss: 0.4612 - accuracy: 0.8126\n",
      "Epoch 160/1000\n",
      "16/16 [==============================] - 0s 6ms/step - loss: 0.4611 - accuracy: 0.8086\n",
      "Epoch 161/1000\n",
      "16/16 [==============================] - 0s 5ms/step - loss: 0.4657 - accuracy: 0.8065\n",
      "Epoch 162/1000\n",
      "16/16 [==============================] - 0s 5ms/step - loss: 0.4515 - accuracy: 0.8065\n",
      "Epoch 163/1000\n",
      "16/16 [==============================] - 0s 6ms/step - loss: 0.4645 - accuracy: 0.8106\n",
      "Epoch 164/1000\n",
      "16/16 [==============================] - 0s 8ms/step - loss: 0.4559 - accuracy: 0.8147\n",
      "Epoch 165/1000\n",
      "16/16 [==============================] - 0s 6ms/step - loss: 0.4598 - accuracy: 0.8106\n",
      "Epoch 166/1000\n",
      "16/16 [==============================] - 0s 8ms/step - loss: 0.4516 - accuracy: 0.8126\n",
      "Epoch 167/1000\n",
      "16/16 [==============================] - 0s 8ms/step - loss: 0.4612 - accuracy: 0.8086\n",
      "Epoch 168/1000\n",
      "16/16 [==============================] - 0s 8ms/step - loss: 0.4641 - accuracy: 0.8086\n",
      "Epoch 169/1000\n",
      "16/16 [==============================] - 0s 7ms/step - loss: 0.4598 - accuracy: 0.8106\n",
      "Epoch 170/1000\n",
      "16/16 [==============================] - 0s 5ms/step - loss: 0.4597 - accuracy: 0.8106\n",
      "Epoch 171/1000\n",
      "16/16 [==============================] - 0s 5ms/step - loss: 0.4713 - accuracy: 0.8065\n",
      "Epoch 172/1000\n",
      "16/16 [==============================] - 0s 5ms/step - loss: 0.4661 - accuracy: 0.8106\n",
      "Epoch 173/1000\n",
      "16/16 [==============================] - 0s 5ms/step - loss: 0.4628 - accuracy: 0.8126\n",
      "Epoch 174/1000\n",
      "16/16 [==============================] - 0s 5ms/step - loss: 0.4626 - accuracy: 0.8086\n",
      "Epoch 175/1000\n",
      "16/16 [==============================] - 0s 5ms/step - loss: 0.4608 - accuracy: 0.8106\n",
      "Epoch 176/1000\n",
      "16/16 [==============================] - 0s 5ms/step - loss: 0.4578 - accuracy: 0.8126\n",
      "Epoch 177/1000\n",
      "16/16 [==============================] - 0s 5ms/step - loss: 0.4593 - accuracy: 0.8106\n",
      "Epoch 178/1000\n",
      "16/16 [==============================] - 0s 5ms/step - loss: 0.4634 - accuracy: 0.8106\n",
      "Epoch 179/1000\n",
      "16/16 [==============================] - 0s 5ms/step - loss: 0.4585 - accuracy: 0.8045\n",
      "Epoch 180/1000\n",
      "16/16 [==============================] - 0s 5ms/step - loss: 0.4660 - accuracy: 0.8086\n",
      "Epoch 181/1000\n",
      "16/16 [==============================] - 0s 5ms/step - loss: 0.4579 - accuracy: 0.8126\n",
      "Epoch 182/1000\n",
      "16/16 [==============================] - 0s 5ms/step - loss: 0.4545 - accuracy: 0.8106\n",
      "Epoch 183/1000\n",
      "16/16 [==============================] - 0s 6ms/step - loss: 0.4608 - accuracy: 0.8126\n",
      "Epoch 184/1000\n",
      "16/16 [==============================] - 0s 7ms/step - loss: 0.4597 - accuracy: 0.8126\n",
      "Epoch 185/1000\n",
      "16/16 [==============================] - 0s 6ms/step - loss: 0.4618 - accuracy: 0.8126\n",
      "Epoch 186/1000\n",
      "16/16 [==============================] - 0s 5ms/step - loss: 0.4588 - accuracy: 0.8086\n",
      "Epoch 187/1000\n",
      "16/16 [==============================] - 0s 5ms/step - loss: 0.4581 - accuracy: 0.8086\n",
      "Epoch 188/1000\n",
      "16/16 [==============================] - 0s 5ms/step - loss: 0.4603 - accuracy: 0.8106\n",
      "Epoch 189/1000\n",
      "16/16 [==============================] - 0s 5ms/step - loss: 0.4579 - accuracy: 0.8106\n",
      "Epoch 190/1000\n",
      "16/16 [==============================] - 0s 5ms/step - loss: 0.4671 - accuracy: 0.8147\n",
      "Epoch 191/1000\n",
      "16/16 [==============================] - 0s 7ms/step - loss: 0.4663 - accuracy: 0.8106\n",
      "Epoch 192/1000\n",
      "16/16 [==============================] - 0s 6ms/step - loss: 0.4569 - accuracy: 0.8086\n",
      "Epoch 193/1000\n",
      "16/16 [==============================] - 0s 5ms/step - loss: 0.4610 - accuracy: 0.8106\n",
      "Epoch 194/1000\n",
      "16/16 [==============================] - 0s 7ms/step - loss: 0.4627 - accuracy: 0.8086\n",
      "Epoch 195/1000\n",
      "16/16 [==============================] - 0s 7ms/step - loss: 0.4623 - accuracy: 0.8126\n",
      "Epoch 196/1000\n",
      "16/16 [==============================] - 0s 7ms/step - loss: 0.4703 - accuracy: 0.8106\n",
      "Epoch 197/1000\n",
      "16/16 [==============================] - 0s 6ms/step - loss: 0.4585 - accuracy: 0.8045\n",
      "Epoch 198/1000\n",
      "16/16 [==============================] - 0s 5ms/step - loss: 0.4668 - accuracy: 0.8065\n",
      "Epoch 199/1000\n",
      "16/16 [==============================] - 0s 5ms/step - loss: 0.4570 - accuracy: 0.8106\n",
      "Epoch 200/1000\n",
      "16/16 [==============================] - 0s 5ms/step - loss: 0.4622 - accuracy: 0.8126\n",
      "Epoch 201/1000\n",
      "16/16 [==============================] - 0s 5ms/step - loss: 0.4671 - accuracy: 0.8126\n",
      "Epoch 202/1000\n",
      "16/16 [==============================] - 0s 5ms/step - loss: 0.4595 - accuracy: 0.8086\n",
      "Epoch 203/1000\n",
      "16/16 [==============================] - 0s 5ms/step - loss: 0.4615 - accuracy: 0.8126\n",
      "Epoch 204/1000\n",
      "16/16 [==============================] - 0s 5ms/step - loss: 0.4654 - accuracy: 0.8106\n",
      "Epoch 205/1000\n",
      "16/16 [==============================] - 0s 6ms/step - loss: 0.4628 - accuracy: 0.8024\n",
      "Epoch 206/1000\n",
      "16/16 [==============================] - 0s 7ms/step - loss: 0.4641 - accuracy: 0.8086\n",
      "Epoch 207/1000\n",
      "16/16 [==============================] - 0s 5ms/step - loss: 0.4666 - accuracy: 0.8126\n",
      "Epoch 208/1000\n",
      "16/16 [==============================] - 0s 7ms/step - loss: 0.4567 - accuracy: 0.8106\n",
      "Epoch 209/1000\n",
      "16/16 [==============================] - 0s 6ms/step - loss: 0.4555 - accuracy: 0.8065\n",
      "Epoch 210/1000\n",
      "16/16 [==============================] - 0s 7ms/step - loss: 0.4595 - accuracy: 0.8147\n",
      "Epoch 211/1000\n",
      "16/16 [==============================] - 0s 7ms/step - loss: 0.4617 - accuracy: 0.8045\n",
      "Epoch 212/1000\n",
      "16/16 [==============================] - 0s 5ms/step - loss: 0.4574 - accuracy: 0.8106\n",
      "Epoch 213/1000\n",
      "16/16 [==============================] - 0s 5ms/step - loss: 0.4705 - accuracy: 0.8106\n",
      "Epoch 214/1000\n",
      "16/16 [==============================] - 0s 5ms/step - loss: 0.4590 - accuracy: 0.8126\n",
      "Epoch 215/1000\n",
      "16/16 [==============================] - 0s 5ms/step - loss: 0.4579 - accuracy: 0.8106\n",
      "Epoch 216/1000\n",
      "16/16 [==============================] - 0s 5ms/step - loss: 0.4650 - accuracy: 0.8126\n",
      "Epoch 217/1000\n",
      "16/16 [==============================] - 0s 5ms/step - loss: 0.4726 - accuracy: 0.8065\n",
      "Epoch 218/1000\n",
      "16/16 [==============================] - 0s 5ms/step - loss: 0.4631 - accuracy: 0.8126\n",
      "Epoch 219/1000\n",
      "16/16 [==============================] - 0s 5ms/step - loss: 0.4574 - accuracy: 0.8086\n",
      "Epoch 220/1000\n",
      "16/16 [==============================] - 0s 5ms/step - loss: 0.4548 - accuracy: 0.8065\n",
      "Epoch 221/1000\n",
      "16/16 [==============================] - 0s 5ms/step - loss: 0.4593 - accuracy: 0.8106\n",
      "Epoch 222/1000\n",
      "16/16 [==============================] - 0s 5ms/step - loss: 0.4633 - accuracy: 0.8045\n",
      "Epoch 223/1000\n",
      "16/16 [==============================] - 0s 5ms/step - loss: 0.4632 - accuracy: 0.8086\n",
      "Epoch 224/1000\n",
      "16/16 [==============================] - 0s 6ms/step - loss: 0.4550 - accuracy: 0.8086\n",
      "Epoch 225/1000\n",
      "16/16 [==============================] - 0s 6ms/step - loss: 0.4594 - accuracy: 0.8167\n",
      "Epoch 226/1000\n",
      "16/16 [==============================] - 0s 5ms/step - loss: 0.4577 - accuracy: 0.8086\n",
      "Epoch 227/1000\n",
      "16/16 [==============================] - 0s 9ms/step - loss: 0.4593 - accuracy: 0.8065\n",
      "Epoch 228/1000\n",
      "16/16 [==============================] - 0s 7ms/step - loss: 0.4555 - accuracy: 0.8086\n",
      "Epoch 229/1000\n",
      "16/16 [==============================] - 0s 7ms/step - loss: 0.4568 - accuracy: 0.8126\n",
      "Epoch 230/1000\n",
      "16/16 [==============================] - 0s 5ms/step - loss: 0.4575 - accuracy: 0.8126\n",
      "Epoch 231/1000\n",
      "16/16 [==============================] - 0s 5ms/step - loss: 0.4528 - accuracy: 0.8086\n",
      "Epoch 232/1000\n",
      "16/16 [==============================] - 0s 5ms/step - loss: 0.4662 - accuracy: 0.8086\n",
      "Epoch 233/1000\n",
      "16/16 [==============================] - 0s 5ms/step - loss: 0.4578 - accuracy: 0.8086\n",
      "Epoch 234/1000\n",
      "16/16 [==============================] - 0s 5ms/step - loss: 0.4621 - accuracy: 0.8106\n",
      "Epoch 235/1000\n",
      "16/16 [==============================] - 0s 5ms/step - loss: 0.4558 - accuracy: 0.8065\n",
      "Epoch 236/1000\n",
      "16/16 [==============================] - 0s 5ms/step - loss: 0.4593 - accuracy: 0.8126\n",
      "Epoch 237/1000\n",
      "16/16 [==============================] - 0s 5ms/step - loss: 0.4581 - accuracy: 0.8126\n",
      "Epoch 238/1000\n",
      "16/16 [==============================] - 0s 5ms/step - loss: 0.4740 - accuracy: 0.8045\n",
      "Epoch 239/1000\n",
      "16/16 [==============================] - 0s 5ms/step - loss: 0.4549 - accuracy: 0.8147\n",
      "Epoch 240/1000\n",
      "16/16 [==============================] - 0s 5ms/step - loss: 0.4700 - accuracy: 0.8126\n",
      "Epoch 241/1000\n",
      "16/16 [==============================] - 0s 5ms/step - loss: 0.4599 - accuracy: 0.8126\n",
      "Epoch 242/1000\n",
      "16/16 [==============================] - 0s 5ms/step - loss: 0.4659 - accuracy: 0.8106\n",
      "Epoch 243/1000\n",
      "16/16 [==============================] - 0s 5ms/step - loss: 0.4625 - accuracy: 0.8065\n",
      "Epoch 244/1000\n",
      "16/16 [==============================] - 0s 5ms/step - loss: 0.4526 - accuracy: 0.8167\n",
      "Epoch 245/1000\n",
      "16/16 [==============================] - 0s 5ms/step - loss: 0.4677 - accuracy: 0.8086\n",
      "Epoch 246/1000\n",
      "16/16 [==============================] - 0s 5ms/step - loss: 0.4702 - accuracy: 0.8106\n",
      "Epoch 247/1000\n",
      "16/16 [==============================] - 0s 5ms/step - loss: 0.4579 - accuracy: 0.8065\n",
      "Epoch 248/1000\n",
      "16/16 [==============================] - 0s 5ms/step - loss: 0.4643 - accuracy: 0.8086\n",
      "Epoch 249/1000\n",
      "16/16 [==============================] - 0s 5ms/step - loss: 0.4630 - accuracy: 0.8086\n",
      "Epoch 250/1000\n",
      "16/16 [==============================] - 0s 5ms/step - loss: 0.4579 - accuracy: 0.8167\n",
      "Epoch 251/1000\n",
      "16/16 [==============================] - 0s 5ms/step - loss: 0.4558 - accuracy: 0.8086\n",
      "Epoch 252/1000\n",
      "16/16 [==============================] - 0s 5ms/step - loss: 0.4614 - accuracy: 0.8147\n",
      "Epoch 253/1000\n",
      "16/16 [==============================] - 0s 5ms/step - loss: 0.4645 - accuracy: 0.8086\n",
      "Epoch 254/1000\n",
      "16/16 [==============================] - 0s 5ms/step - loss: 0.4647 - accuracy: 0.8106\n",
      "Epoch 255/1000\n",
      "16/16 [==============================] - 0s 5ms/step - loss: 0.4602 - accuracy: 0.8106\n",
      "Epoch 256/1000\n",
      "16/16 [==============================] - 0s 5ms/step - loss: 0.4632 - accuracy: 0.8086\n",
      "Epoch 257/1000\n",
      "16/16 [==============================] - 0s 5ms/step - loss: 0.4585 - accuracy: 0.8106\n",
      "Epoch 258/1000\n",
      "16/16 [==============================] - 0s 5ms/step - loss: 0.4600 - accuracy: 0.8106\n",
      "Epoch 259/1000\n",
      "16/16 [==============================] - 0s 5ms/step - loss: 0.4505 - accuracy: 0.8126\n",
      "Epoch 260/1000\n",
      "16/16 [==============================] - 0s 5ms/step - loss: 0.4650 - accuracy: 0.8126\n",
      "Epoch 261/1000\n",
      "16/16 [==============================] - 0s 5ms/step - loss: 0.4573 - accuracy: 0.8106\n",
      "Epoch 262/1000\n",
      "16/16 [==============================] - 0s 5ms/step - loss: 0.4561 - accuracy: 0.8086\n",
      "Epoch 263/1000\n",
      "16/16 [==============================] - 0s 7ms/step - loss: 0.4693 - accuracy: 0.8086\n",
      "Epoch 264/1000\n",
      "16/16 [==============================] - 0s 6ms/step - loss: 0.4641 - accuracy: 0.8086\n",
      "Epoch 265/1000\n",
      "16/16 [==============================] - 0s 5ms/step - loss: 0.4544 - accuracy: 0.8106\n",
      "Epoch 266/1000\n",
      "16/16 [==============================] - 0s 5ms/step - loss: 0.4730 - accuracy: 0.8065\n",
      "Epoch 267/1000\n",
      "16/16 [==============================] - 0s 6ms/step - loss: 0.4594 - accuracy: 0.8126\n",
      "Epoch 268/1000\n",
      "16/16 [==============================] - 0s 7ms/step - loss: 0.4637 - accuracy: 0.8065\n",
      "Epoch 269/1000\n",
      "16/16 [==============================] - 0s 5ms/step - loss: 0.4584 - accuracy: 0.8106\n",
      "Epoch 270/1000\n",
      "16/16 [==============================] - 0s 5ms/step - loss: 0.4555 - accuracy: 0.8086\n",
      "Epoch 271/1000\n",
      "16/16 [==============================] - 0s 5ms/step - loss: 0.4525 - accuracy: 0.8086\n",
      "Epoch 272/1000\n",
      "16/16 [==============================] - 0s 5ms/step - loss: 0.4519 - accuracy: 0.8126\n",
      "Epoch 273/1000\n",
      "16/16 [==============================] - 0s 5ms/step - loss: 0.4561 - accuracy: 0.8045\n",
      "Epoch 274/1000\n",
      "16/16 [==============================] - 0s 5ms/step - loss: 0.4550 - accuracy: 0.8086\n",
      "Epoch 275/1000\n",
      "16/16 [==============================] - 0s 5ms/step - loss: 0.4584 - accuracy: 0.8106\n",
      "Epoch 276/1000\n",
      "16/16 [==============================] - 0s 5ms/step - loss: 0.4582 - accuracy: 0.8106\n",
      "Epoch 277/1000\n",
      "16/16 [==============================] - 0s 5ms/step - loss: 0.4602 - accuracy: 0.8086\n",
      "Epoch 278/1000\n",
      "16/16 [==============================] - 0s 5ms/step - loss: 0.4717 - accuracy: 0.8106\n",
      "Epoch 279/1000\n",
      "16/16 [==============================] - 0s 5ms/step - loss: 0.4527 - accuracy: 0.8126\n",
      "Epoch 280/1000\n",
      "16/16 [==============================] - 0s 5ms/step - loss: 0.4510 - accuracy: 0.8106\n",
      "Epoch 281/1000\n",
      "16/16 [==============================] - 0s 5ms/step - loss: 0.4598 - accuracy: 0.8167\n",
      "Epoch 282/1000\n",
      "16/16 [==============================] - 0s 5ms/step - loss: 0.4635 - accuracy: 0.8065\n",
      "Epoch 283/1000\n",
      "16/16 [==============================] - 0s 5ms/step - loss: 0.4644 - accuracy: 0.8106\n",
      "Epoch 284/1000\n",
      "16/16 [==============================] - 0s 5ms/step - loss: 0.4595 - accuracy: 0.8126\n",
      "Epoch 285/1000\n",
      "16/16 [==============================] - 0s 5ms/step - loss: 0.4645 - accuracy: 0.8126\n",
      "Epoch 286/1000\n",
      "16/16 [==============================] - 0s 5ms/step - loss: 0.4585 - accuracy: 0.8106\n",
      "Epoch 287/1000\n",
      "16/16 [==============================] - 0s 6ms/step - loss: 0.4579 - accuracy: 0.8106\n",
      "Epoch 288/1000\n",
      "16/16 [==============================] - 0s 5ms/step - loss: 0.4506 - accuracy: 0.8106\n",
      "Epoch 289/1000\n",
      "16/16 [==============================] - 0s 6ms/step - loss: 0.4614 - accuracy: 0.8086\n",
      "Epoch 290/1000\n",
      "16/16 [==============================] - 0s 6ms/step - loss: 0.4585 - accuracy: 0.8106\n",
      "Epoch 291/1000\n",
      "16/16 [==============================] - 0s 6ms/step - loss: 0.4641 - accuracy: 0.8086\n",
      "Epoch 292/1000\n",
      "16/16 [==============================] - 0s 5ms/step - loss: 0.4599 - accuracy: 0.8126\n",
      "Epoch 293/1000\n",
      "16/16 [==============================] - 0s 5ms/step - loss: 0.4607 - accuracy: 0.8147\n",
      "Epoch 294/1000\n",
      "16/16 [==============================] - 0s 5ms/step - loss: 0.4625 - accuracy: 0.8106\n",
      "Epoch 295/1000\n",
      "16/16 [==============================] - 0s 6ms/step - loss: 0.4607 - accuracy: 0.8147\n",
      "Epoch 296/1000\n",
      "16/16 [==============================] - 0s 6ms/step - loss: 0.4630 - accuracy: 0.8045\n",
      "Epoch 297/1000\n",
      "16/16 [==============================] - 0s 5ms/step - loss: 0.4614 - accuracy: 0.8086\n",
      "Epoch 298/1000\n",
      "16/16 [==============================] - 0s 5ms/step - loss: 0.4620 - accuracy: 0.8065\n",
      "Epoch 299/1000\n",
      "16/16 [==============================] - 0s 6ms/step - loss: 0.4597 - accuracy: 0.8147\n",
      "Epoch 300/1000\n",
      "16/16 [==============================] - 0s 6ms/step - loss: 0.4661 - accuracy: 0.8086\n",
      "Epoch 301/1000\n",
      "16/16 [==============================] - 0s 5ms/step - loss: 0.4570 - accuracy: 0.8086\n",
      "Epoch 302/1000\n",
      "16/16 [==============================] - 0s 5ms/step - loss: 0.4608 - accuracy: 0.8126\n",
      "Epoch 303/1000\n",
      "16/16 [==============================] - 0s 5ms/step - loss: 0.4597 - accuracy: 0.8086\n",
      "Epoch 304/1000\n",
      "16/16 [==============================] - 0s 6ms/step - loss: 0.4639 - accuracy: 0.8086\n",
      "Epoch 305/1000\n",
      "16/16 [==============================] - 0s 7ms/step - loss: 0.4580 - accuracy: 0.8106\n",
      "Epoch 306/1000\n",
      "16/16 [==============================] - 0s 6ms/step - loss: 0.4574 - accuracy: 0.8126\n",
      "Epoch 307/1000\n",
      "16/16 [==============================] - 0s 8ms/step - loss: 0.4590 - accuracy: 0.8126\n",
      "Epoch 308/1000\n",
      "16/16 [==============================] - 0s 6ms/step - loss: 0.4586 - accuracy: 0.8065\n",
      "Epoch 309/1000\n",
      "16/16 [==============================] - 0s 7ms/step - loss: 0.4562 - accuracy: 0.8126\n",
      "Epoch 310/1000\n",
      "16/16 [==============================] - 0s 6ms/step - loss: 0.4602 - accuracy: 0.8065\n",
      "Epoch 311/1000\n",
      "16/16 [==============================] - 0s 6ms/step - loss: 0.4587 - accuracy: 0.8065\n",
      "Epoch 312/1000\n",
      "16/16 [==============================] - 0s 6ms/step - loss: 0.4604 - accuracy: 0.8086\n",
      "Epoch 313/1000\n",
      "16/16 [==============================] - 0s 6ms/step - loss: 0.4587 - accuracy: 0.8147\n",
      "Epoch 314/1000\n",
      "16/16 [==============================] - 0s 6ms/step - loss: 0.4637 - accuracy: 0.8106\n",
      "Epoch 315/1000\n",
      "16/16 [==============================] - 0s 6ms/step - loss: 0.4607 - accuracy: 0.8106\n",
      "Epoch 316/1000\n",
      "16/16 [==============================] - 0s 6ms/step - loss: 0.4566 - accuracy: 0.8086\n",
      "Epoch 317/1000\n",
      "16/16 [==============================] - 0s 6ms/step - loss: 0.4665 - accuracy: 0.8065\n",
      "Epoch 318/1000\n",
      "16/16 [==============================] - 0s 5ms/step - loss: 0.4620 - accuracy: 0.8065\n",
      "Epoch 319/1000\n",
      "16/16 [==============================] - 0s 7ms/step - loss: 0.4676 - accuracy: 0.8086\n",
      "Epoch 320/1000\n",
      "16/16 [==============================] - 0s 6ms/step - loss: 0.4573 - accuracy: 0.8106\n",
      "Epoch 321/1000\n",
      "16/16 [==============================] - 0s 6ms/step - loss: 0.4568 - accuracy: 0.8086\n",
      "Epoch 322/1000\n",
      "16/16 [==============================] - 0s 5ms/step - loss: 0.4642 - accuracy: 0.8106\n",
      "Epoch 323/1000\n",
      "16/16 [==============================] - 0s 6ms/step - loss: 0.4655 - accuracy: 0.8065\n",
      "Epoch 324/1000\n",
      "16/16 [==============================] - 0s 6ms/step - loss: 0.4614 - accuracy: 0.8086\n",
      "Epoch 325/1000\n",
      "16/16 [==============================] - 0s 5ms/step - loss: 0.4599 - accuracy: 0.8065\n",
      "Epoch 326/1000\n",
      "16/16 [==============================] - 0s 7ms/step - loss: 0.4646 - accuracy: 0.8106\n",
      "Epoch 327/1000\n",
      "16/16 [==============================] - 0s 7ms/step - loss: 0.4516 - accuracy: 0.8086\n",
      "Epoch 328/1000\n",
      "16/16 [==============================] - 0s 6ms/step - loss: 0.4635 - accuracy: 0.8086\n",
      "Epoch 329/1000\n",
      "16/16 [==============================] - 0s 6ms/step - loss: 0.4612 - accuracy: 0.8086\n",
      "Epoch 330/1000\n",
      "16/16 [==============================] - 0s 10ms/step - loss: 0.4673 - accuracy: 0.8126\n",
      "Epoch 331/1000\n",
      "16/16 [==============================] - 0s 7ms/step - loss: 0.4585 - accuracy: 0.8086\n",
      "Epoch 332/1000\n",
      "16/16 [==============================] - 0s 7ms/step - loss: 0.4556 - accuracy: 0.8126\n",
      "Epoch 333/1000\n",
      "16/16 [==============================] - 0s 8ms/step - loss: 0.4577 - accuracy: 0.8187\n",
      "Epoch 334/1000\n",
      "16/16 [==============================] - 0s 6ms/step - loss: 0.4623 - accuracy: 0.8126\n",
      "Epoch 335/1000\n",
      "16/16 [==============================] - 0s 7ms/step - loss: 0.4613 - accuracy: 0.8086\n",
      "Epoch 336/1000\n",
      "16/16 [==============================] - 0s 7ms/step - loss: 0.4603 - accuracy: 0.8086\n",
      "Epoch 337/1000\n",
      "16/16 [==============================] - 0s 6ms/step - loss: 0.4545 - accuracy: 0.8126\n",
      "Epoch 338/1000\n",
      "16/16 [==============================] - 0s 7ms/step - loss: 0.4565 - accuracy: 0.8147\n",
      "Epoch 339/1000\n",
      "16/16 [==============================] - 0s 7ms/step - loss: 0.4621 - accuracy: 0.8147\n",
      "Epoch 340/1000\n",
      "16/16 [==============================] - 0s 6ms/step - loss: 0.4601 - accuracy: 0.8086\n",
      "Epoch 341/1000\n",
      "16/16 [==============================] - 0s 7ms/step - loss: 0.4578 - accuracy: 0.8106\n",
      "Epoch 342/1000\n",
      "16/16 [==============================] - 0s 7ms/step - loss: 0.4541 - accuracy: 0.8106\n",
      "Epoch 343/1000\n",
      "16/16 [==============================] - 0s 6ms/step - loss: 0.4635 - accuracy: 0.8065\n",
      "Epoch 344/1000\n",
      "16/16 [==============================] - 0s 6ms/step - loss: 0.4644 - accuracy: 0.8065\n",
      "Epoch 345/1000\n",
      "16/16 [==============================] - 0s 7ms/step - loss: 0.4622 - accuracy: 0.8126\n",
      "Epoch 346/1000\n",
      "16/16 [==============================] - 0s 6ms/step - loss: 0.4634 - accuracy: 0.8065\n",
      "Epoch 347/1000\n",
      "16/16 [==============================] - 0s 5ms/step - loss: 0.4520 - accuracy: 0.8106\n",
      "Epoch 348/1000\n",
      "16/16 [==============================] - 0s 8ms/step - loss: 0.4665 - accuracy: 0.8126\n",
      "Epoch 349/1000\n",
      "16/16 [==============================] - 0s 5ms/step - loss: 0.4545 - accuracy: 0.8045\n",
      "Epoch 350/1000\n",
      "16/16 [==============================] - 0s 6ms/step - loss: 0.4533 - accuracy: 0.8106\n",
      "Epoch 351/1000\n",
      "16/16 [==============================] - 0s 6ms/step - loss: 0.4588 - accuracy: 0.8065\n",
      "Epoch 352/1000\n",
      "16/16 [==============================] - 0s 6ms/step - loss: 0.4534 - accuracy: 0.8106\n",
      "Epoch 353/1000\n",
      "16/16 [==============================] - 0s 6ms/step - loss: 0.4615 - accuracy: 0.8126\n",
      "Epoch 354/1000\n",
      "16/16 [==============================] - 0s 5ms/step - loss: 0.4578 - accuracy: 0.8086\n",
      "Epoch 355/1000\n",
      "16/16 [==============================] - 0s 6ms/step - loss: 0.4553 - accuracy: 0.8086\n",
      "Epoch 356/1000\n",
      "16/16 [==============================] - 0s 6ms/step - loss: 0.4590 - accuracy: 0.8126\n",
      "Epoch 357/1000\n",
      "16/16 [==============================] - 0s 6ms/step - loss: 0.4603 - accuracy: 0.8065\n",
      "Epoch 358/1000\n",
      "16/16 [==============================] - 0s 6ms/step - loss: 0.4561 - accuracy: 0.8126\n",
      "Epoch 359/1000\n",
      "16/16 [==============================] - 0s 5ms/step - loss: 0.4645 - accuracy: 0.8187\n",
      "Epoch 360/1000\n",
      "16/16 [==============================] - 0s 6ms/step - loss: 0.4590 - accuracy: 0.8106\n",
      "Epoch 361/1000\n",
      "16/16 [==============================] - 0s 6ms/step - loss: 0.4554 - accuracy: 0.8106\n",
      "Epoch 362/1000\n",
      "16/16 [==============================] - 0s 5ms/step - loss: 0.4650 - accuracy: 0.8086\n",
      "Epoch 363/1000\n",
      "16/16 [==============================] - 0s 6ms/step - loss: 0.4683 - accuracy: 0.8126\n",
      "Epoch 364/1000\n",
      "16/16 [==============================] - 0s 6ms/step - loss: 0.4556 - accuracy: 0.8106\n",
      "Epoch 365/1000\n",
      "16/16 [==============================] - 0s 6ms/step - loss: 0.4590 - accuracy: 0.8106\n",
      "Epoch 366/1000\n",
      "16/16 [==============================] - 0s 6ms/step - loss: 0.4527 - accuracy: 0.8126\n",
      "Epoch 367/1000\n",
      "16/16 [==============================] - 0s 6ms/step - loss: 0.4561 - accuracy: 0.8106\n",
      "Epoch 368/1000\n",
      "16/16 [==============================] - 0s 6ms/step - loss: 0.4594 - accuracy: 0.8065\n",
      "Epoch 369/1000\n",
      "16/16 [==============================] - 0s 6ms/step - loss: 0.4558 - accuracy: 0.8147\n",
      "Epoch 370/1000\n",
      "16/16 [==============================] - 0s 6ms/step - loss: 0.4582 - accuracy: 0.8086\n",
      "Epoch 371/1000\n",
      "16/16 [==============================] - 0s 6ms/step - loss: 0.4586 - accuracy: 0.8106\n",
      "Epoch 372/1000\n",
      "16/16 [==============================] - 0s 6ms/step - loss: 0.4542 - accuracy: 0.8065\n",
      "Epoch 373/1000\n",
      "16/16 [==============================] - 0s 6ms/step - loss: 0.4657 - accuracy: 0.8147\n",
      "Epoch 374/1000\n",
      "16/16 [==============================] - 0s 6ms/step - loss: 0.4627 - accuracy: 0.8106\n",
      "Epoch 375/1000\n",
      "16/16 [==============================] - 0s 6ms/step - loss: 0.4537 - accuracy: 0.8147\n",
      "Epoch 376/1000\n",
      "16/16 [==============================] - 0s 6ms/step - loss: 0.4629 - accuracy: 0.8086\n",
      "Epoch 377/1000\n",
      "16/16 [==============================] - 0s 8ms/step - loss: 0.4600 - accuracy: 0.8086\n",
      "Epoch 378/1000\n",
      "16/16 [==============================] - 0s 7ms/step - loss: 0.4596 - accuracy: 0.8126\n",
      "Epoch 379/1000\n",
      "16/16 [==============================] - 0s 7ms/step - loss: 0.4661 - accuracy: 0.8086\n",
      "Epoch 380/1000\n",
      "16/16 [==============================] - 0s 7ms/step - loss: 0.4601 - accuracy: 0.8086\n",
      "Epoch 381/1000\n",
      "16/16 [==============================] - 0s 6ms/step - loss: 0.4624 - accuracy: 0.8086\n",
      "Epoch 382/1000\n",
      "16/16 [==============================] - 0s 6ms/step - loss: 0.4631 - accuracy: 0.8086\n",
      "Epoch 383/1000\n",
      "16/16 [==============================] - 0s 7ms/step - loss: 0.4635 - accuracy: 0.8126\n",
      "Epoch 384/1000\n",
      "16/16 [==============================] - 0s 6ms/step - loss: 0.4607 - accuracy: 0.8187\n",
      "Epoch 385/1000\n",
      "16/16 [==============================] - 0s 6ms/step - loss: 0.4613 - accuracy: 0.8106\n",
      "Epoch 386/1000\n",
      "16/16 [==============================] - 0s 8ms/step - loss: 0.4568 - accuracy: 0.8126\n",
      "Epoch 387/1000\n",
      "16/16 [==============================] - 0s 6ms/step - loss: 0.4570 - accuracy: 0.8065\n",
      "Epoch 388/1000\n",
      "16/16 [==============================] - 0s 6ms/step - loss: 0.4529 - accuracy: 0.8106\n",
      "Epoch 389/1000\n",
      "16/16 [==============================] - 0s 6ms/step - loss: 0.4637 - accuracy: 0.8126\n",
      "Epoch 390/1000\n",
      "16/16 [==============================] - 0s 5ms/step - loss: 0.4550 - accuracy: 0.8147\n",
      "Epoch 391/1000\n",
      "16/16 [==============================] - 0s 6ms/step - loss: 0.4548 - accuracy: 0.8167\n",
      "Epoch 392/1000\n",
      "16/16 [==============================] - 0s 5ms/step - loss: 0.4621 - accuracy: 0.8106\n",
      "Epoch 393/1000\n",
      "16/16 [==============================] - 0s 5ms/step - loss: 0.4545 - accuracy: 0.8126\n",
      "Epoch 394/1000\n",
      "16/16 [==============================] - 0s 5ms/step - loss: 0.4624 - accuracy: 0.8126\n",
      "Epoch 395/1000\n",
      "16/16 [==============================] - 0s 6ms/step - loss: 0.4591 - accuracy: 0.8147\n",
      "Epoch 396/1000\n",
      "16/16 [==============================] - 0s 8ms/step - loss: 0.4599 - accuracy: 0.8065\n",
      "Epoch 397/1000\n",
      "16/16 [==============================] - 0s 7ms/step - loss: 0.4577 - accuracy: 0.8147\n",
      "Epoch 398/1000\n",
      "16/16 [==============================] - 0s 8ms/step - loss: 0.4566 - accuracy: 0.8106\n",
      "Epoch 399/1000\n",
      "16/16 [==============================] - 0s 8ms/step - loss: 0.4534 - accuracy: 0.8065\n",
      "Epoch 400/1000\n",
      "16/16 [==============================] - 0s 6ms/step - loss: 0.4592 - accuracy: 0.8004\n",
      "Epoch 401/1000\n",
      "16/16 [==============================] - 0s 6ms/step - loss: 0.4665 - accuracy: 0.8126\n",
      "Epoch 402/1000\n",
      "16/16 [==============================] - 0s 6ms/step - loss: 0.4595 - accuracy: 0.8065\n",
      "Epoch 403/1000\n",
      "16/16 [==============================] - 0s 6ms/step - loss: 0.4612 - accuracy: 0.8106\n",
      "Epoch 404/1000\n",
      "16/16 [==============================] - 0s 7ms/step - loss: 0.4554 - accuracy: 0.8126\n",
      "Epoch 405/1000\n",
      "16/16 [==============================] - 0s 6ms/step - loss: 0.4614 - accuracy: 0.8086\n",
      "Epoch 406/1000\n",
      "16/16 [==============================] - 0s 6ms/step - loss: 0.4571 - accuracy: 0.8086\n",
      "Epoch 407/1000\n",
      "16/16 [==============================] - 0s 6ms/step - loss: 0.4556 - accuracy: 0.8106\n",
      "Epoch 408/1000\n",
      "16/16 [==============================] - 0s 6ms/step - loss: 0.4566 - accuracy: 0.8106\n",
      "Epoch 409/1000\n",
      "16/16 [==============================] - 0s 6ms/step - loss: 0.4527 - accuracy: 0.8024\n",
      "Epoch 410/1000\n",
      "16/16 [==============================] - 0s 6ms/step - loss: 0.4554 - accuracy: 0.8106\n",
      "Epoch 411/1000\n",
      "16/16 [==============================] - 0s 6ms/step - loss: 0.4637 - accuracy: 0.8106\n",
      "Epoch 412/1000\n",
      "16/16 [==============================] - 0s 6ms/step - loss: 0.4565 - accuracy: 0.8147\n",
      "Epoch 413/1000\n",
      "16/16 [==============================] - 0s 6ms/step - loss: 0.4608 - accuracy: 0.8106\n",
      "Epoch 414/1000\n",
      "16/16 [==============================] - 0s 7ms/step - loss: 0.4581 - accuracy: 0.7984\n",
      "Epoch 415/1000\n",
      "16/16 [==============================] - 0s 7ms/step - loss: 0.4585 - accuracy: 0.8126\n",
      "Epoch 416/1000\n",
      "16/16 [==============================] - 0s 7ms/step - loss: 0.4639 - accuracy: 0.8106\n",
      "Epoch 417/1000\n",
      "16/16 [==============================] - 0s 7ms/step - loss: 0.4590 - accuracy: 0.8065\n",
      "Epoch 418/1000\n",
      "16/16 [==============================] - 0s 6ms/step - loss: 0.4571 - accuracy: 0.8086\n",
      "Epoch 419/1000\n",
      "16/16 [==============================] - 0s 7ms/step - loss: 0.4600 - accuracy: 0.8086\n",
      "Epoch 420/1000\n",
      "16/16 [==============================] - 0s 6ms/step - loss: 0.4641 - accuracy: 0.8106\n",
      "Epoch 421/1000\n",
      "16/16 [==============================] - 0s 9ms/step - loss: 0.4560 - accuracy: 0.8086\n",
      "Epoch 422/1000\n",
      "16/16 [==============================] - 0s 5ms/step - loss: 0.4596 - accuracy: 0.8065\n",
      "Epoch 423/1000\n",
      "16/16 [==============================] - 0s 5ms/step - loss: 0.4571 - accuracy: 0.8106\n",
      "Epoch 424/1000\n",
      "16/16 [==============================] - 0s 5ms/step - loss: 0.4609 - accuracy: 0.8106\n",
      "Epoch 425/1000\n",
      "16/16 [==============================] - 0s 5ms/step - loss: 0.4539 - accuracy: 0.8086\n",
      "Epoch 426/1000\n",
      "16/16 [==============================] - 0s 5ms/step - loss: 0.4637 - accuracy: 0.8106\n",
      "Epoch 427/1000\n",
      "16/16 [==============================] - 0s 8ms/step - loss: 0.4591 - accuracy: 0.8106\n",
      "Epoch 428/1000\n",
      "16/16 [==============================] - 0s 5ms/step - loss: 0.4594 - accuracy: 0.8086\n",
      "Epoch 429/1000\n",
      "16/16 [==============================] - 0s 5ms/step - loss: 0.4617 - accuracy: 0.8126\n",
      "Epoch 430/1000\n",
      "16/16 [==============================] - 0s 5ms/step - loss: 0.4574 - accuracy: 0.8024\n",
      "Epoch 431/1000\n",
      "16/16 [==============================] - 0s 5ms/step - loss: 0.4727 - accuracy: 0.8086\n",
      "Epoch 432/1000\n",
      "16/16 [==============================] - 0s 5ms/step - loss: 0.4584 - accuracy: 0.8106\n",
      "Epoch 433/1000\n",
      "16/16 [==============================] - 0s 5ms/step - loss: 0.4542 - accuracy: 0.8106\n",
      "Epoch 434/1000\n",
      "16/16 [==============================] - 0s 5ms/step - loss: 0.4608 - accuracy: 0.8045\n",
      "Epoch 435/1000\n",
      "16/16 [==============================] - 0s 5ms/step - loss: 0.4615 - accuracy: 0.8086\n",
      "Epoch 436/1000\n",
      "16/16 [==============================] - 0s 5ms/step - loss: 0.4551 - accuracy: 0.8106\n",
      "Epoch 437/1000\n",
      "16/16 [==============================] - 0s 5ms/step - loss: 0.4609 - accuracy: 0.8086\n",
      "Epoch 438/1000\n",
      "16/16 [==============================] - 0s 6ms/step - loss: 0.4548 - accuracy: 0.8086\n",
      "Epoch 439/1000\n",
      "16/16 [==============================] - 0s 5ms/step - loss: 0.4586 - accuracy: 0.8126\n",
      "Epoch 440/1000\n",
      "16/16 [==============================] - 0s 5ms/step - loss: 0.4548 - accuracy: 0.8126\n",
      "Epoch 441/1000\n",
      "16/16 [==============================] - 0s 5ms/step - loss: 0.4689 - accuracy: 0.8126\n",
      "Epoch 442/1000\n",
      "16/16 [==============================] - 0s 6ms/step - loss: 0.4610 - accuracy: 0.8147\n",
      "Epoch 443/1000\n",
      "16/16 [==============================] - 0s 5ms/step - loss: 0.4513 - accuracy: 0.8086\n",
      "Epoch 444/1000\n",
      "16/16 [==============================] - 0s 5ms/step - loss: 0.4588 - accuracy: 0.8126\n",
      "Epoch 445/1000\n",
      "16/16 [==============================] - 0s 5ms/step - loss: 0.4581 - accuracy: 0.8147\n",
      "Epoch 446/1000\n",
      "16/16 [==============================] - 0s 5ms/step - loss: 0.4563 - accuracy: 0.8065\n",
      "Epoch 447/1000\n",
      "16/16 [==============================] - 0s 5ms/step - loss: 0.4597 - accuracy: 0.8167\n",
      "Epoch 448/1000\n",
      "16/16 [==============================] - 0s 5ms/step - loss: 0.4596 - accuracy: 0.8065\n",
      "Epoch 449/1000\n",
      "16/16 [==============================] - 0s 6ms/step - loss: 0.4582 - accuracy: 0.8106\n",
      "Epoch 450/1000\n",
      "16/16 [==============================] - 0s 5ms/step - loss: 0.4560 - accuracy: 0.8045\n",
      "Epoch 451/1000\n",
      "16/16 [==============================] - 0s 5ms/step - loss: 0.4551 - accuracy: 0.8065\n",
      "Epoch 452/1000\n",
      "16/16 [==============================] - 0s 5ms/step - loss: 0.4557 - accuracy: 0.8045\n",
      "Epoch 453/1000\n",
      "16/16 [==============================] - 0s 5ms/step - loss: 0.4558 - accuracy: 0.8126\n",
      "Epoch 454/1000\n",
      "16/16 [==============================] - 0s 5ms/step - loss: 0.4580 - accuracy: 0.8086\n",
      "Epoch 455/1000\n",
      "16/16 [==============================] - 0s 5ms/step - loss: 0.4542 - accuracy: 0.8106\n",
      "Epoch 456/1000\n",
      "16/16 [==============================] - 0s 5ms/step - loss: 0.4548 - accuracy: 0.8106\n",
      "Epoch 457/1000\n",
      "16/16 [==============================] - 0s 5ms/step - loss: 0.4568 - accuracy: 0.8086\n",
      "Epoch 458/1000\n",
      "16/16 [==============================] - 0s 5ms/step - loss: 0.4612 - accuracy: 0.8065\n",
      "Epoch 459/1000\n",
      "16/16 [==============================] - 0s 5ms/step - loss: 0.4575 - accuracy: 0.8106\n",
      "Epoch 460/1000\n",
      "16/16 [==============================] - 0s 5ms/step - loss: 0.4579 - accuracy: 0.8065\n",
      "Epoch 461/1000\n",
      "16/16 [==============================] - 0s 5ms/step - loss: 0.4607 - accuracy: 0.8106\n",
      "Epoch 462/1000\n",
      "16/16 [==============================] - 0s 5ms/step - loss: 0.4563 - accuracy: 0.8065\n",
      "Epoch 463/1000\n",
      "16/16 [==============================] - 0s 8ms/step - loss: 0.4618 - accuracy: 0.8126\n",
      "Epoch 464/1000\n",
      "16/16 [==============================] - 0s 6ms/step - loss: 0.4572 - accuracy: 0.8106\n",
      "Epoch 465/1000\n",
      "16/16 [==============================] - 0s 6ms/step - loss: 0.4605 - accuracy: 0.8045\n",
      "Epoch 466/1000\n",
      "16/16 [==============================] - 0s 6ms/step - loss: 0.4598 - accuracy: 0.8126\n",
      "Epoch 467/1000\n",
      "16/16 [==============================] - 0s 6ms/step - loss: 0.4554 - accuracy: 0.8126\n",
      "Epoch 468/1000\n",
      "16/16 [==============================] - 0s 5ms/step - loss: 0.4644 - accuracy: 0.8086\n",
      "Epoch 469/1000\n",
      "16/16 [==============================] - 0s 6ms/step - loss: 0.4548 - accuracy: 0.8106\n",
      "Epoch 470/1000\n",
      "16/16 [==============================] - 0s 7ms/step - loss: 0.4478 - accuracy: 0.8086\n",
      "Epoch 471/1000\n",
      "16/16 [==============================] - 0s 7ms/step - loss: 0.4618 - accuracy: 0.8147\n",
      "Epoch 472/1000\n",
      "16/16 [==============================] - 0s 6ms/step - loss: 0.4633 - accuracy: 0.8045\n",
      "Epoch 473/1000\n",
      "16/16 [==============================] - 0s 9ms/step - loss: 0.4512 - accuracy: 0.8106\n",
      "Epoch 474/1000\n",
      "16/16 [==============================] - 0s 6ms/step - loss: 0.4639 - accuracy: 0.8126\n",
      "Epoch 475/1000\n",
      "16/16 [==============================] - 0s 6ms/step - loss: 0.4614 - accuracy: 0.8045\n",
      "Epoch 476/1000\n",
      "16/16 [==============================] - 0s 6ms/step - loss: 0.4606 - accuracy: 0.8065\n",
      "Epoch 477/1000\n",
      "16/16 [==============================] - 0s 5ms/step - loss: 0.4594 - accuracy: 0.8086\n",
      "Epoch 478/1000\n",
      "16/16 [==============================] - 0s 5ms/step - loss: 0.4700 - accuracy: 0.8106\n",
      "Epoch 479/1000\n",
      "16/16 [==============================] - 0s 6ms/step - loss: 0.4630 - accuracy: 0.8106\n",
      "Epoch 480/1000\n",
      "16/16 [==============================] - 0s 7ms/step - loss: 0.4600 - accuracy: 0.8106\n",
      "Epoch 481/1000\n",
      "16/16 [==============================] - 0s 6ms/step - loss: 0.4547 - accuracy: 0.8106\n",
      "Epoch 482/1000\n",
      "16/16 [==============================] - 0s 6ms/step - loss: 0.4616 - accuracy: 0.8126\n",
      "Epoch 483/1000\n",
      "16/16 [==============================] - 0s 6ms/step - loss: 0.4591 - accuracy: 0.8167\n",
      "Epoch 484/1000\n",
      "16/16 [==============================] - 0s 6ms/step - loss: 0.4522 - accuracy: 0.8106\n",
      "Epoch 485/1000\n",
      "16/16 [==============================] - 0s 6ms/step - loss: 0.4579 - accuracy: 0.8086\n",
      "Epoch 486/1000\n",
      "16/16 [==============================] - 0s 6ms/step - loss: 0.4608 - accuracy: 0.8086\n",
      "Epoch 487/1000\n",
      "16/16 [==============================] - 0s 5ms/step - loss: 0.4606 - accuracy: 0.8106\n",
      "Epoch 488/1000\n",
      "16/16 [==============================] - 0s 6ms/step - loss: 0.4620 - accuracy: 0.8065\n",
      "Epoch 489/1000\n",
      "16/16 [==============================] - 0s 6ms/step - loss: 0.4574 - accuracy: 0.8106\n",
      "Epoch 490/1000\n",
      "16/16 [==============================] - 0s 6ms/step - loss: 0.4539 - accuracy: 0.8106\n",
      "Epoch 491/1000\n",
      "16/16 [==============================] - 0s 6ms/step - loss: 0.4547 - accuracy: 0.8126\n",
      "Epoch 492/1000\n",
      "16/16 [==============================] - 0s 5ms/step - loss: 0.4565 - accuracy: 0.8106\n",
      "Epoch 493/1000\n",
      "16/16 [==============================] - 0s 6ms/step - loss: 0.4569 - accuracy: 0.8065\n",
      "Epoch 494/1000\n",
      "16/16 [==============================] - 0s 5ms/step - loss: 0.4630 - accuracy: 0.8147\n",
      "Epoch 495/1000\n",
      "16/16 [==============================] - 0s 5ms/step - loss: 0.4581 - accuracy: 0.8086\n",
      "Epoch 496/1000\n",
      "16/16 [==============================] - 0s 5ms/step - loss: 0.4513 - accuracy: 0.8086\n",
      "Epoch 497/1000\n",
      "16/16 [==============================] - 0s 5ms/step - loss: 0.4509 - accuracy: 0.8126\n",
      "Epoch 498/1000\n",
      "16/16 [==============================] - 0s 5ms/step - loss: 0.4663 - accuracy: 0.8126\n",
      "Epoch 499/1000\n",
      "16/16 [==============================] - 0s 5ms/step - loss: 0.4587 - accuracy: 0.8126\n",
      "Epoch 500/1000\n",
      "16/16 [==============================] - 0s 5ms/step - loss: 0.4606 - accuracy: 0.8086\n",
      "Epoch 501/1000\n",
      "16/16 [==============================] - 0s 5ms/step - loss: 0.4596 - accuracy: 0.8147\n",
      "Epoch 502/1000\n",
      "16/16 [==============================] - 0s 5ms/step - loss: 0.4621 - accuracy: 0.8126\n",
      "Epoch 503/1000\n",
      "16/16 [==============================] - 0s 6ms/step - loss: 0.4590 - accuracy: 0.8086\n",
      "Epoch 504/1000\n",
      "16/16 [==============================] - 0s 5ms/step - loss: 0.4606 - accuracy: 0.8147\n",
      "Epoch 505/1000\n",
      "16/16 [==============================] - 0s 5ms/step - loss: 0.4498 - accuracy: 0.8147\n",
      "Epoch 506/1000\n",
      "16/16 [==============================] - 0s 5ms/step - loss: 0.4611 - accuracy: 0.8187\n",
      "Epoch 507/1000\n",
      "16/16 [==============================] - 0s 5ms/step - loss: 0.4608 - accuracy: 0.8065\n",
      "Epoch 508/1000\n",
      "16/16 [==============================] - 0s 5ms/step - loss: 0.4571 - accuracy: 0.8065\n",
      "Epoch 509/1000\n",
      "16/16 [==============================] - 0s 5ms/step - loss: 0.4612 - accuracy: 0.8086\n",
      "Epoch 510/1000\n",
      "16/16 [==============================] - 0s 5ms/step - loss: 0.4608 - accuracy: 0.8045\n",
      "Epoch 511/1000\n",
      "16/16 [==============================] - 0s 6ms/step - loss: 0.4512 - accuracy: 0.8126\n",
      "Epoch 512/1000\n",
      "16/16 [==============================] - 0s 6ms/step - loss: 0.4571 - accuracy: 0.8065\n",
      "Epoch 513/1000\n",
      "16/16 [==============================] - 0s 6ms/step - loss: 0.4627 - accuracy: 0.8106\n",
      "Epoch 514/1000\n",
      "16/16 [==============================] - 0s 5ms/step - loss: 0.4607 - accuracy: 0.8126\n",
      "Epoch 515/1000\n",
      "16/16 [==============================] - 0s 6ms/step - loss: 0.4646 - accuracy: 0.8065\n",
      "Epoch 516/1000\n",
      "16/16 [==============================] - 0s 6ms/step - loss: 0.4636 - accuracy: 0.8147\n",
      "Epoch 517/1000\n",
      "16/16 [==============================] - 0s 5ms/step - loss: 0.4598 - accuracy: 0.8106\n",
      "Epoch 518/1000\n",
      "16/16 [==============================] - 0s 5ms/step - loss: 0.4572 - accuracy: 0.8045\n",
      "Epoch 519/1000\n",
      "16/16 [==============================] - 0s 5ms/step - loss: 0.4637 - accuracy: 0.8147\n",
      "Epoch 520/1000\n",
      "16/16 [==============================] - 0s 8ms/step - loss: 0.4626 - accuracy: 0.8065\n",
      "Epoch 521/1000\n",
      "16/16 [==============================] - 0s 8ms/step - loss: 0.4557 - accuracy: 0.8126\n",
      "Epoch 522/1000\n",
      "16/16 [==============================] - 0s 6ms/step - loss: 0.4570 - accuracy: 0.8147\n",
      "Epoch 523/1000\n",
      "16/16 [==============================] - 0s 6ms/step - loss: 0.4560 - accuracy: 0.8126\n",
      "Epoch 524/1000\n",
      "16/16 [==============================] - 0s 6ms/step - loss: 0.4614 - accuracy: 0.8045\n",
      "Epoch 525/1000\n",
      "16/16 [==============================] - 0s 6ms/step - loss: 0.4556 - accuracy: 0.8126\n",
      "Epoch 526/1000\n",
      "16/16 [==============================] - 0s 6ms/step - loss: 0.4573 - accuracy: 0.8167\n",
      "Epoch 527/1000\n",
      "16/16 [==============================] - 0s 6ms/step - loss: 0.4553 - accuracy: 0.8086\n",
      "Epoch 528/1000\n",
      "16/16 [==============================] - 0s 7ms/step - loss: 0.4599 - accuracy: 0.8065\n",
      "Epoch 529/1000\n",
      "16/16 [==============================] - 0s 7ms/step - loss: 0.4501 - accuracy: 0.8045\n",
      "Epoch 530/1000\n",
      "16/16 [==============================] - 0s 8ms/step - loss: 0.4721 - accuracy: 0.8106\n",
      "Epoch 531/1000\n",
      "16/16 [==============================] - 0s 7ms/step - loss: 0.4550 - accuracy: 0.8065\n",
      "Epoch 532/1000\n",
      "16/16 [==============================] - 0s 7ms/step - loss: 0.4565 - accuracy: 0.8065\n",
      "Epoch 533/1000\n",
      "16/16 [==============================] - 0s 6ms/step - loss: 0.4595 - accuracy: 0.8086\n",
      "Epoch 534/1000\n",
      "16/16 [==============================] - 0s 6ms/step - loss: 0.4617 - accuracy: 0.8106\n",
      "Epoch 535/1000\n",
      "16/16 [==============================] - 0s 6ms/step - loss: 0.4589 - accuracy: 0.8086\n",
      "Epoch 536/1000\n",
      "16/16 [==============================] - 0s 6ms/step - loss: 0.4510 - accuracy: 0.8065\n",
      "Epoch 537/1000\n",
      "16/16 [==============================] - 0s 6ms/step - loss: 0.4542 - accuracy: 0.8147\n",
      "Epoch 538/1000\n",
      "16/16 [==============================] - 0s 6ms/step - loss: 0.4597 - accuracy: 0.8126\n",
      "Epoch 539/1000\n",
      "16/16 [==============================] - 0s 6ms/step - loss: 0.4497 - accuracy: 0.8086\n",
      "Epoch 540/1000\n",
      "16/16 [==============================] - 0s 5ms/step - loss: 0.4583 - accuracy: 0.8126\n",
      "Epoch 541/1000\n",
      "16/16 [==============================] - 0s 6ms/step - loss: 0.4632 - accuracy: 0.8086\n",
      "Epoch 542/1000\n",
      "16/16 [==============================] - 0s 6ms/step - loss: 0.4599 - accuracy: 0.8086\n",
      "Epoch 543/1000\n",
      "16/16 [==============================] - 0s 6ms/step - loss: 0.4584 - accuracy: 0.8106\n",
      "Epoch 544/1000\n",
      "16/16 [==============================] - 0s 6ms/step - loss: 0.4479 - accuracy: 0.8065\n",
      "Epoch 545/1000\n",
      "16/16 [==============================] - 0s 6ms/step - loss: 0.4587 - accuracy: 0.8106\n",
      "Epoch 546/1000\n",
      "16/16 [==============================] - 0s 6ms/step - loss: 0.4570 - accuracy: 0.8086\n",
      "Epoch 547/1000\n",
      "16/16 [==============================] - 0s 6ms/step - loss: 0.4520 - accuracy: 0.8086\n",
      "Epoch 548/1000\n",
      "16/16 [==============================] - 0s 6ms/step - loss: 0.4577 - accuracy: 0.8106\n",
      "Epoch 549/1000\n",
      "16/16 [==============================] - 0s 6ms/step - loss: 0.4563 - accuracy: 0.8126\n",
      "Epoch 550/1000\n",
      "16/16 [==============================] - 0s 6ms/step - loss: 0.4562 - accuracy: 0.8126\n",
      "Epoch 551/1000\n",
      "16/16 [==============================] - 0s 7ms/step - loss: 0.4592 - accuracy: 0.8126\n",
      "Epoch 552/1000\n",
      "16/16 [==============================] - 0s 6ms/step - loss: 0.4549 - accuracy: 0.8065\n",
      "Epoch 553/1000\n",
      "16/16 [==============================] - 0s 6ms/step - loss: 0.4640 - accuracy: 0.8065\n",
      "Epoch 554/1000\n",
      "16/16 [==============================] - 0s 7ms/step - loss: 0.4579 - accuracy: 0.8126\n",
      "Epoch 555/1000\n",
      "16/16 [==============================] - 0s 6ms/step - loss: 0.4566 - accuracy: 0.8045\n",
      "Epoch 556/1000\n",
      "16/16 [==============================] - 0s 6ms/step - loss: 0.4596 - accuracy: 0.8045\n",
      "Epoch 557/1000\n",
      "16/16 [==============================] - 0s 6ms/step - loss: 0.4595 - accuracy: 0.8106\n",
      "Epoch 558/1000\n",
      "16/16 [==============================] - 0s 7ms/step - loss: 0.4537 - accuracy: 0.8086\n",
      "Epoch 559/1000\n",
      "16/16 [==============================] - 0s 9ms/step - loss: 0.4620 - accuracy: 0.8065\n",
      "Epoch 560/1000\n",
      "16/16 [==============================] - 0s 7ms/step - loss: 0.4571 - accuracy: 0.8106\n",
      "Epoch 561/1000\n",
      "16/16 [==============================] - 0s 7ms/step - loss: 0.4574 - accuracy: 0.8065\n",
      "Epoch 562/1000\n",
      "16/16 [==============================] - 0s 6ms/step - loss: 0.4596 - accuracy: 0.8106\n",
      "Epoch 563/1000\n",
      "16/16 [==============================] - 0s 6ms/step - loss: 0.4621 - accuracy: 0.8086\n",
      "Epoch 564/1000\n",
      "16/16 [==============================] - 0s 6ms/step - loss: 0.4592 - accuracy: 0.8106\n",
      "Epoch 565/1000\n",
      "16/16 [==============================] - 0s 6ms/step - loss: 0.4549 - accuracy: 0.8106\n",
      "Epoch 566/1000\n",
      "16/16 [==============================] - 0s 6ms/step - loss: 0.4520 - accuracy: 0.8106\n",
      "Epoch 567/1000\n",
      "16/16 [==============================] - 0s 6ms/step - loss: 0.4596 - accuracy: 0.8065\n",
      "Epoch 568/1000\n",
      "16/16 [==============================] - 0s 6ms/step - loss: 0.4618 - accuracy: 0.8167\n",
      "Epoch 569/1000\n",
      "16/16 [==============================] - 0s 6ms/step - loss: 0.4629 - accuracy: 0.8126\n",
      "Epoch 570/1000\n",
      "16/16 [==============================] - 0s 6ms/step - loss: 0.4540 - accuracy: 0.8126\n",
      "Epoch 571/1000\n",
      "16/16 [==============================] - 0s 6ms/step - loss: 0.4554 - accuracy: 0.8106\n",
      "Epoch 572/1000\n",
      "16/16 [==============================] - 0s 6ms/step - loss: 0.4533 - accuracy: 0.8086\n",
      "Epoch 573/1000\n",
      "16/16 [==============================] - 0s 6ms/step - loss: 0.4611 - accuracy: 0.8126\n",
      "Epoch 574/1000\n",
      "16/16 [==============================] - 0s 5ms/step - loss: 0.4600 - accuracy: 0.8106\n",
      "Epoch 575/1000\n",
      "16/16 [==============================] - 0s 6ms/step - loss: 0.4554 - accuracy: 0.8106\n",
      "Epoch 576/1000\n",
      "16/16 [==============================] - 0s 6ms/step - loss: 0.4577 - accuracy: 0.8147\n",
      "Epoch 577/1000\n",
      "16/16 [==============================] - 0s 6ms/step - loss: 0.4602 - accuracy: 0.8065\n",
      "Epoch 578/1000\n",
      "16/16 [==============================] - 0s 5ms/step - loss: 0.4525 - accuracy: 0.8126\n",
      "Epoch 579/1000\n",
      "16/16 [==============================] - 0s 5ms/step - loss: 0.4531 - accuracy: 0.8147\n",
      "Epoch 580/1000\n",
      "16/16 [==============================] - 0s 6ms/step - loss: 0.4604 - accuracy: 0.8086\n",
      "Epoch 581/1000\n",
      "16/16 [==============================] - 0s 7ms/step - loss: 0.4604 - accuracy: 0.8106\n",
      "Epoch 582/1000\n",
      "16/16 [==============================] - 0s 5ms/step - loss: 0.4533 - accuracy: 0.8126\n",
      "Epoch 583/1000\n",
      "16/16 [==============================] - 0s 6ms/step - loss: 0.4598 - accuracy: 0.8167\n",
      "Epoch 584/1000\n",
      "16/16 [==============================] - 0s 7ms/step - loss: 0.4580 - accuracy: 0.8086\n",
      "Epoch 585/1000\n",
      "16/16 [==============================] - 0s 8ms/step - loss: 0.4586 - accuracy: 0.8086\n",
      "Epoch 586/1000\n",
      "16/16 [==============================] - 0s 6ms/step - loss: 0.4504 - accuracy: 0.8086\n",
      "Epoch 587/1000\n",
      "16/16 [==============================] - 0s 6ms/step - loss: 0.4625 - accuracy: 0.8106\n",
      "Epoch 588/1000\n",
      "16/16 [==============================] - 0s 6ms/step - loss: 0.4596 - accuracy: 0.8065\n",
      "Epoch 589/1000\n",
      "16/16 [==============================] - 0s 6ms/step - loss: 0.4538 - accuracy: 0.8086\n",
      "Epoch 590/1000\n",
      "16/16 [==============================] - 0s 6ms/step - loss: 0.4572 - accuracy: 0.8086\n",
      "Epoch 591/1000\n",
      "16/16 [==============================] - 0s 6ms/step - loss: 0.4566 - accuracy: 0.8106\n",
      "Epoch 592/1000\n",
      "16/16 [==============================] - 0s 6ms/step - loss: 0.4657 - accuracy: 0.8106\n",
      "Epoch 593/1000\n",
      "16/16 [==============================] - 0s 7ms/step - loss: 0.4566 - accuracy: 0.8147\n",
      "Epoch 594/1000\n",
      "16/16 [==============================] - 0s 7ms/step - loss: 0.4555 - accuracy: 0.8065\n",
      "Epoch 595/1000\n",
      "16/16 [==============================] - 0s 6ms/step - loss: 0.4568 - accuracy: 0.8086\n",
      "Epoch 596/1000\n",
      "16/16 [==============================] - 0s 6ms/step - loss: 0.4537 - accuracy: 0.8045\n",
      "Epoch 597/1000\n",
      "16/16 [==============================] - 0s 7ms/step - loss: 0.4585 - accuracy: 0.8106\n",
      "Epoch 598/1000\n",
      "16/16 [==============================] - 0s 8ms/step - loss: 0.4633 - accuracy: 0.8106\n",
      "Epoch 599/1000\n",
      "16/16 [==============================] - 0s 7ms/step - loss: 0.4620 - accuracy: 0.8106\n",
      "Epoch 600/1000\n",
      "16/16 [==============================] - 0s 8ms/step - loss: 0.4626 - accuracy: 0.8106\n",
      "Epoch 601/1000\n",
      "16/16 [==============================] - 0s 7ms/step - loss: 0.4597 - accuracy: 0.8147\n",
      "Epoch 602/1000\n",
      "16/16 [==============================] - 0s 6ms/step - loss: 0.4604 - accuracy: 0.8126\n",
      "Epoch 603/1000\n",
      "16/16 [==============================] - 0s 8ms/step - loss: 0.4543 - accuracy: 0.8024\n",
      "Epoch 604/1000\n",
      "16/16 [==============================] - 0s 7ms/step - loss: 0.4544 - accuracy: 0.8024\n",
      "Epoch 605/1000\n",
      "16/16 [==============================] - 0s 6ms/step - loss: 0.4605 - accuracy: 0.8086\n",
      "Epoch 606/1000\n",
      "16/16 [==============================] - 0s 6ms/step - loss: 0.4555 - accuracy: 0.8065\n",
      "Epoch 607/1000\n",
      "16/16 [==============================] - 0s 6ms/step - loss: 0.4580 - accuracy: 0.8086\n",
      "Epoch 608/1000\n",
      "16/16 [==============================] - 0s 6ms/step - loss: 0.4582 - accuracy: 0.8106\n",
      "Epoch 609/1000\n",
      "16/16 [==============================] - 0s 6ms/step - loss: 0.4602 - accuracy: 0.8147\n",
      "Epoch 610/1000\n",
      "16/16 [==============================] - 0s 6ms/step - loss: 0.4569 - accuracy: 0.8065\n",
      "Epoch 611/1000\n",
      "16/16 [==============================] - 0s 6ms/step - loss: 0.4566 - accuracy: 0.8086\n",
      "Epoch 612/1000\n",
      "16/16 [==============================] - 0s 9ms/step - loss: 0.4615 - accuracy: 0.8086\n",
      "Epoch 613/1000\n",
      "16/16 [==============================] - 0s 6ms/step - loss: 0.4600 - accuracy: 0.8126\n",
      "Epoch 614/1000\n",
      "16/16 [==============================] - 0s 6ms/step - loss: 0.4626 - accuracy: 0.8086\n",
      "Epoch 615/1000\n",
      "16/16 [==============================] - 0s 7ms/step - loss: 0.4607 - accuracy: 0.8106\n",
      "Epoch 616/1000\n",
      "16/16 [==============================] - 0s 6ms/step - loss: 0.4590 - accuracy: 0.8086\n",
      "Epoch 617/1000\n",
      "16/16 [==============================] - 0s 6ms/step - loss: 0.4522 - accuracy: 0.8106\n",
      "Epoch 618/1000\n",
      "16/16 [==============================] - 0s 12ms/step - loss: 0.4607 - accuracy: 0.8106\n",
      "Epoch 619/1000\n",
      "16/16 [==============================] - 0s 8ms/step - loss: 0.4566 - accuracy: 0.8086\n",
      "Epoch 620/1000\n",
      "16/16 [==============================] - 0s 8ms/step - loss: 0.4596 - accuracy: 0.8086\n",
      "Epoch 621/1000\n",
      "16/16 [==============================] - 0s 7ms/step - loss: 0.4620 - accuracy: 0.8106\n",
      "Epoch 622/1000\n",
      "16/16 [==============================] - 0s 6ms/step - loss: 0.4553 - accuracy: 0.8086\n",
      "Epoch 623/1000\n",
      "16/16 [==============================] - 0s 6ms/step - loss: 0.4531 - accuracy: 0.8106\n",
      "Epoch 624/1000\n",
      "16/16 [==============================] - 0s 6ms/step - loss: 0.4650 - accuracy: 0.8086\n",
      "Epoch 625/1000\n",
      "16/16 [==============================] - 0s 7ms/step - loss: 0.4586 - accuracy: 0.8086\n",
      "Epoch 626/1000\n",
      "16/16 [==============================] - 0s 6ms/step - loss: 0.4598 - accuracy: 0.8086\n",
      "Epoch 627/1000\n",
      "16/16 [==============================] - 0s 6ms/step - loss: 0.4631 - accuracy: 0.8065\n",
      "Epoch 628/1000\n",
      "16/16 [==============================] - 0s 6ms/step - loss: 0.4643 - accuracy: 0.8045\n",
      "Epoch 629/1000\n",
      "16/16 [==============================] - 0s 7ms/step - loss: 0.4592 - accuracy: 0.8086\n",
      "Epoch 630/1000\n",
      "16/16 [==============================] - 0s 6ms/step - loss: 0.4542 - accuracy: 0.8086\n",
      "Epoch 631/1000\n",
      "16/16 [==============================] - 0s 6ms/step - loss: 0.4553 - accuracy: 0.8126\n",
      "Epoch 632/1000\n",
      "16/16 [==============================] - 0s 6ms/step - loss: 0.4613 - accuracy: 0.8045\n",
      "Epoch 633/1000\n",
      "16/16 [==============================] - 0s 7ms/step - loss: 0.4587 - accuracy: 0.8045\n",
      "Epoch 634/1000\n",
      "16/16 [==============================] - 0s 7ms/step - loss: 0.4594 - accuracy: 0.8086\n",
      "Epoch 635/1000\n",
      "16/16 [==============================] - 0s 8ms/step - loss: 0.4684 - accuracy: 0.8086\n",
      "Epoch 636/1000\n",
      "16/16 [==============================] - 0s 7ms/step - loss: 0.4552 - accuracy: 0.8106\n",
      "Epoch 637/1000\n",
      "16/16 [==============================] - 0s 7ms/step - loss: 0.4596 - accuracy: 0.8147\n",
      "Epoch 638/1000\n",
      "16/16 [==============================] - 0s 8ms/step - loss: 0.4559 - accuracy: 0.8126\n",
      "Epoch 639/1000\n",
      "16/16 [==============================] - 0s 7ms/step - loss: 0.4574 - accuracy: 0.8065\n",
      "Epoch 640/1000\n",
      "16/16 [==============================] - 0s 6ms/step - loss: 0.4543 - accuracy: 0.8126\n",
      "Epoch 641/1000\n",
      "16/16 [==============================] - 0s 5ms/step - loss: 0.4569 - accuracy: 0.8086\n",
      "Epoch 642/1000\n",
      "16/16 [==============================] - 0s 6ms/step - loss: 0.4603 - accuracy: 0.8065\n",
      "Epoch 643/1000\n",
      "16/16 [==============================] - 0s 6ms/step - loss: 0.4573 - accuracy: 0.8106\n",
      "Epoch 644/1000\n",
      "16/16 [==============================] - 0s 6ms/step - loss: 0.4520 - accuracy: 0.8086\n",
      "Epoch 645/1000\n",
      "16/16 [==============================] - 0s 6ms/step - loss: 0.4529 - accuracy: 0.8147\n",
      "Epoch 646/1000\n",
      "16/16 [==============================] - 0s 6ms/step - loss: 0.4636 - accuracy: 0.8126\n",
      "Epoch 647/1000\n",
      "16/16 [==============================] - 0s 6ms/step - loss: 0.4568 - accuracy: 0.8126\n",
      "Epoch 648/1000\n",
      "16/16 [==============================] - 0s 6ms/step - loss: 0.4580 - accuracy: 0.8167\n",
      "Epoch 649/1000\n",
      "16/16 [==============================] - 0s 6ms/step - loss: 0.4532 - accuracy: 0.8106\n",
      "Epoch 650/1000\n",
      "16/16 [==============================] - 0s 7ms/step - loss: 0.4650 - accuracy: 0.8086\n",
      "Epoch 651/1000\n",
      "16/16 [==============================] - 0s 5ms/step - loss: 0.4550 - accuracy: 0.8086\n",
      "Epoch 652/1000\n",
      "16/16 [==============================] - 0s 5ms/step - loss: 0.4608 - accuracy: 0.8086\n",
      "Epoch 653/1000\n",
      "16/16 [==============================] - 0s 6ms/step - loss: 0.4581 - accuracy: 0.8086\n",
      "Epoch 654/1000\n",
      "16/16 [==============================] - 0s 5ms/step - loss: 0.4532 - accuracy: 0.8086\n",
      "Epoch 655/1000\n",
      "16/16 [==============================] - 0s 5ms/step - loss: 0.4555 - accuracy: 0.8065\n",
      "Epoch 656/1000\n",
      "16/16 [==============================] - 0s 5ms/step - loss: 0.4560 - accuracy: 0.8086\n",
      "Epoch 657/1000\n",
      "16/16 [==============================] - 0s 5ms/step - loss: 0.4523 - accuracy: 0.8065\n",
      "Epoch 658/1000\n",
      "16/16 [==============================] - 0s 7ms/step - loss: 0.4596 - accuracy: 0.8086\n",
      "Epoch 659/1000\n",
      "16/16 [==============================] - 0s 5ms/step - loss: 0.4575 - accuracy: 0.8126\n",
      "Epoch 660/1000\n",
      "16/16 [==============================] - 0s 5ms/step - loss: 0.4532 - accuracy: 0.8126\n",
      "Epoch 661/1000\n",
      "16/16 [==============================] - 0s 5ms/step - loss: 0.4605 - accuracy: 0.8126\n",
      "Epoch 662/1000\n",
      "16/16 [==============================] - 0s 5ms/step - loss: 0.4539 - accuracy: 0.8106\n",
      "Epoch 663/1000\n",
      "16/16 [==============================] - 0s 6ms/step - loss: 0.4557 - accuracy: 0.8147\n",
      "Epoch 664/1000\n",
      "16/16 [==============================] - 0s 7ms/step - loss: 0.4583 - accuracy: 0.8147\n",
      "Epoch 665/1000\n",
      "16/16 [==============================] - 0s 6ms/step - loss: 0.4535 - accuracy: 0.8086\n",
      "Epoch 666/1000\n",
      "16/16 [==============================] - 0s 11ms/step - loss: 0.4649 - accuracy: 0.8086\n",
      "Epoch 667/1000\n",
      "16/16 [==============================] - 0s 6ms/step - loss: 0.4622 - accuracy: 0.8065\n",
      "Epoch 668/1000\n",
      "16/16 [==============================] - 0s 7ms/step - loss: 0.4607 - accuracy: 0.8106\n",
      "Epoch 669/1000\n",
      "16/16 [==============================] - 0s 7ms/step - loss: 0.4573 - accuracy: 0.8086\n",
      "Epoch 670/1000\n",
      "16/16 [==============================] - 0s 7ms/step - loss: 0.4623 - accuracy: 0.8126\n",
      "Epoch 671/1000\n",
      "16/16 [==============================] - 0s 6ms/step - loss: 0.4521 - accuracy: 0.8065\n",
      "Epoch 672/1000\n",
      "16/16 [==============================] - 0s 7ms/step - loss: 0.4552 - accuracy: 0.8126\n",
      "Epoch 673/1000\n",
      "16/16 [==============================] - 0s 6ms/step - loss: 0.4530 - accuracy: 0.8147\n",
      "Epoch 674/1000\n",
      "16/16 [==============================] - 0s 6ms/step - loss: 0.4619 - accuracy: 0.8147\n",
      "Epoch 675/1000\n",
      "16/16 [==============================] - 0s 5ms/step - loss: 0.4608 - accuracy: 0.8086\n",
      "Epoch 676/1000\n",
      "16/16 [==============================] - 0s 6ms/step - loss: 0.4587 - accuracy: 0.8086\n",
      "Epoch 677/1000\n",
      "16/16 [==============================] - 0s 6ms/step - loss: 0.4619 - accuracy: 0.8065\n",
      "Epoch 678/1000\n",
      "16/16 [==============================] - 0s 5ms/step - loss: 0.4576 - accuracy: 0.8086\n",
      "Epoch 679/1000\n",
      "16/16 [==============================] - 0s 6ms/step - loss: 0.4548 - accuracy: 0.8126\n",
      "Epoch 680/1000\n",
      "16/16 [==============================] - 0s 6ms/step - loss: 0.4558 - accuracy: 0.8045\n",
      "Epoch 681/1000\n",
      "16/16 [==============================] - 0s 6ms/step - loss: 0.4599 - accuracy: 0.8045\n",
      "Epoch 682/1000\n",
      "16/16 [==============================] - 0s 7ms/step - loss: 0.4594 - accuracy: 0.8126\n",
      "Epoch 683/1000\n",
      "16/16 [==============================] - 0s 7ms/step - loss: 0.4549 - accuracy: 0.8106\n",
      "Epoch 684/1000\n",
      "16/16 [==============================] - 0s 6ms/step - loss: 0.4535 - accuracy: 0.8086\n",
      "Epoch 685/1000\n",
      "16/16 [==============================] - 0s 6ms/step - loss: 0.4615 - accuracy: 0.8086\n",
      "Epoch 686/1000\n",
      "16/16 [==============================] - 0s 6ms/step - loss: 0.4547 - accuracy: 0.8106\n",
      "Epoch 687/1000\n",
      "16/16 [==============================] - 0s 6ms/step - loss: 0.4592 - accuracy: 0.8086\n",
      "Epoch 688/1000\n",
      "16/16 [==============================] - 0s 6ms/step - loss: 0.4613 - accuracy: 0.8086\n",
      "Epoch 689/1000\n",
      "16/16 [==============================] - 0s 6ms/step - loss: 0.4611 - accuracy: 0.8086\n",
      "Epoch 690/1000\n",
      "16/16 [==============================] - 0s 6ms/step - loss: 0.4582 - accuracy: 0.8106\n",
      "Epoch 691/1000\n",
      "16/16 [==============================] - 0s 6ms/step - loss: 0.4485 - accuracy: 0.8065\n",
      "Epoch 692/1000\n",
      "16/16 [==============================] - 0s 6ms/step - loss: 0.4580 - accuracy: 0.8086\n",
      "Epoch 693/1000\n",
      "16/16 [==============================] - 0s 7ms/step - loss: 0.4636 - accuracy: 0.8126\n",
      "Epoch 694/1000\n",
      "16/16 [==============================] - 0s 7ms/step - loss: 0.4545 - accuracy: 0.8065\n",
      "Epoch 695/1000\n",
      "16/16 [==============================] - 0s 6ms/step - loss: 0.4567 - accuracy: 0.8126\n",
      "Epoch 696/1000\n",
      "16/16 [==============================] - 0s 6ms/step - loss: 0.4573 - accuracy: 0.8086\n",
      "Epoch 697/1000\n",
      "16/16 [==============================] - 0s 6ms/step - loss: 0.4609 - accuracy: 0.8147\n",
      "Epoch 698/1000\n",
      "16/16 [==============================] - 0s 6ms/step - loss: 0.4441 - accuracy: 0.8086\n",
      "Epoch 699/1000\n",
      "16/16 [==============================] - 0s 6ms/step - loss: 0.4690 - accuracy: 0.8086\n",
      "Epoch 700/1000\n",
      "16/16 [==============================] - 0s 6ms/step - loss: 0.4557 - accuracy: 0.8065\n",
      "Epoch 701/1000\n",
      "16/16 [==============================] - 0s 5ms/step - loss: 0.4538 - accuracy: 0.8045\n",
      "Epoch 702/1000\n",
      "16/16 [==============================] - 0s 6ms/step - loss: 0.4570 - accuracy: 0.8106\n",
      "Epoch 703/1000\n",
      "16/16 [==============================] - 0s 6ms/step - loss: 0.4570 - accuracy: 0.8106\n",
      "Epoch 704/1000\n",
      "16/16 [==============================] - 0s 6ms/step - loss: 0.4625 - accuracy: 0.8126\n",
      "Epoch 705/1000\n",
      "16/16 [==============================] - 0s 6ms/step - loss: 0.4532 - accuracy: 0.8106\n",
      "Epoch 706/1000\n",
      "16/16 [==============================] - 0s 6ms/step - loss: 0.4656 - accuracy: 0.8024\n",
      "Epoch 707/1000\n",
      "16/16 [==============================] - 0s 6ms/step - loss: 0.4544 - accuracy: 0.8106\n",
      "Epoch 708/1000\n",
      "16/16 [==============================] - 0s 6ms/step - loss: 0.4596 - accuracy: 0.8106\n",
      "Epoch 709/1000\n",
      "16/16 [==============================] - 0s 6ms/step - loss: 0.4532 - accuracy: 0.8106\n",
      "Epoch 710/1000\n",
      "16/16 [==============================] - 0s 6ms/step - loss: 0.4538 - accuracy: 0.8106\n",
      "Epoch 711/1000\n",
      "16/16 [==============================] - 0s 6ms/step - loss: 0.4571 - accuracy: 0.8086\n",
      "Epoch 712/1000\n",
      "16/16 [==============================] - 0s 6ms/step - loss: 0.4615 - accuracy: 0.8024\n",
      "Epoch 713/1000\n",
      "16/16 [==============================] - 0s 6ms/step - loss: 0.4600 - accuracy: 0.8086\n",
      "Epoch 714/1000\n",
      "16/16 [==============================] - 0s 6ms/step - loss: 0.4545 - accuracy: 0.8147\n",
      "Epoch 715/1000\n",
      "16/16 [==============================] - 0s 7ms/step - loss: 0.4601 - accuracy: 0.8167\n",
      "Epoch 716/1000\n",
      "16/16 [==============================] - 0s 6ms/step - loss: 0.4551 - accuracy: 0.8086\n",
      "Epoch 717/1000\n",
      "16/16 [==============================] - 0s 6ms/step - loss: 0.4539 - accuracy: 0.8024\n",
      "Epoch 718/1000\n",
      "16/16 [==============================] - 0s 6ms/step - loss: 0.4553 - accuracy: 0.8126\n",
      "Epoch 719/1000\n",
      "16/16 [==============================] - 0s 6ms/step - loss: 0.4568 - accuracy: 0.8126\n",
      "Epoch 720/1000\n",
      "16/16 [==============================] - 0s 6ms/step - loss: 0.4552 - accuracy: 0.8126\n",
      "Epoch 721/1000\n",
      "16/16 [==============================] - 0s 6ms/step - loss: 0.4556 - accuracy: 0.8106\n",
      "Epoch 722/1000\n",
      "16/16 [==============================] - 0s 6ms/step - loss: 0.4510 - accuracy: 0.8045\n",
      "Epoch 723/1000\n",
      "16/16 [==============================] - 0s 6ms/step - loss: 0.4637 - accuracy: 0.8126\n",
      "Epoch 724/1000\n",
      "16/16 [==============================] - 0s 6ms/step - loss: 0.4594 - accuracy: 0.8065\n",
      "Epoch 725/1000\n",
      "16/16 [==============================] - 0s 5ms/step - loss: 0.4575 - accuracy: 0.8106\n",
      "Epoch 726/1000\n",
      "16/16 [==============================] - 0s 6ms/step - loss: 0.4587 - accuracy: 0.8126\n",
      "Epoch 727/1000\n",
      "16/16 [==============================] - 0s 9ms/step - loss: 0.4678 - accuracy: 0.8106\n",
      "Epoch 728/1000\n",
      "16/16 [==============================] - 0s 6ms/step - loss: 0.4530 - accuracy: 0.8147\n",
      "Epoch 729/1000\n",
      "16/16 [==============================] - 0s 6ms/step - loss: 0.4596 - accuracy: 0.8106\n",
      "Epoch 730/1000\n",
      "16/16 [==============================] - 0s 6ms/step - loss: 0.4613 - accuracy: 0.8045\n",
      "Epoch 731/1000\n",
      "16/16 [==============================] - 0s 7ms/step - loss: 0.4545 - accuracy: 0.8086\n",
      "Epoch 732/1000\n",
      "16/16 [==============================] - 0s 6ms/step - loss: 0.4496 - accuracy: 0.8147\n",
      "Epoch 733/1000\n",
      "16/16 [==============================] - 0s 6ms/step - loss: 0.4594 - accuracy: 0.8147\n",
      "Epoch 734/1000\n",
      "16/16 [==============================] - 0s 6ms/step - loss: 0.4636 - accuracy: 0.8086\n",
      "Epoch 735/1000\n",
      "16/16 [==============================] - 0s 5ms/step - loss: 0.4560 - accuracy: 0.8126\n",
      "Epoch 736/1000\n",
      "16/16 [==============================] - 0s 6ms/step - loss: 0.4573 - accuracy: 0.8086\n",
      "Epoch 737/1000\n",
      "16/16 [==============================] - 0s 5ms/step - loss: 0.4613 - accuracy: 0.8106\n",
      "Epoch 738/1000\n",
      "16/16 [==============================] - 0s 5ms/step - loss: 0.4547 - accuracy: 0.8086\n",
      "Epoch 739/1000\n",
      "16/16 [==============================] - 0s 5ms/step - loss: 0.4587 - accuracy: 0.8086\n",
      "Epoch 740/1000\n",
      "16/16 [==============================] - 0s 8ms/step - loss: 0.4617 - accuracy: 0.8086\n",
      "Epoch 741/1000\n",
      "16/16 [==============================] - 0s 7ms/step - loss: 0.4593 - accuracy: 0.8126\n",
      "Epoch 742/1000\n",
      "16/16 [==============================] - 0s 8ms/step - loss: 0.4558 - accuracy: 0.8106\n",
      "Epoch 743/1000\n",
      "16/16 [==============================] - 0s 5ms/step - loss: 0.4554 - accuracy: 0.8126\n",
      "Epoch 744/1000\n",
      "16/16 [==============================] - 0s 6ms/step - loss: 0.4577 - accuracy: 0.8126\n",
      "Epoch 745/1000\n",
      "16/16 [==============================] - 0s 5ms/step - loss: 0.4552 - accuracy: 0.8086\n",
      "Epoch 746/1000\n",
      "16/16 [==============================] - 0s 5ms/step - loss: 0.4567 - accuracy: 0.8126\n",
      "Epoch 747/1000\n",
      "16/16 [==============================] - 0s 6ms/step - loss: 0.4535 - accuracy: 0.8106\n",
      "Epoch 748/1000\n",
      "16/16 [==============================] - 0s 6ms/step - loss: 0.4558 - accuracy: 0.8024\n",
      "Epoch 749/1000\n",
      "16/16 [==============================] - 0s 6ms/step - loss: 0.4539 - accuracy: 0.8045\n",
      "Epoch 750/1000\n",
      "16/16 [==============================] - 0s 7ms/step - loss: 0.4617 - accuracy: 0.8086\n",
      "Epoch 751/1000\n",
      "16/16 [==============================] - 0s 6ms/step - loss: 0.4548 - accuracy: 0.8086\n",
      "Epoch 752/1000\n",
      "16/16 [==============================] - 0s 5ms/step - loss: 0.4507 - accuracy: 0.8147\n",
      "Epoch 753/1000\n",
      "16/16 [==============================] - 0s 6ms/step - loss: 0.4633 - accuracy: 0.8106\n",
      "Epoch 754/1000\n",
      "16/16 [==============================] - 0s 6ms/step - loss: 0.4604 - accuracy: 0.8065\n",
      "Epoch 755/1000\n",
      "16/16 [==============================] - 0s 6ms/step - loss: 0.4580 - accuracy: 0.8126\n",
      "Epoch 756/1000\n",
      "16/16 [==============================] - 0s 6ms/step - loss: 0.4535 - accuracy: 0.8106\n",
      "Epoch 757/1000\n",
      "16/16 [==============================] - 0s 6ms/step - loss: 0.4591 - accuracy: 0.8126\n",
      "Epoch 758/1000\n",
      "16/16 [==============================] - 0s 5ms/step - loss: 0.4550 - accuracy: 0.8106\n",
      "Epoch 759/1000\n",
      "16/16 [==============================] - 0s 6ms/step - loss: 0.4555 - accuracy: 0.8086\n",
      "Epoch 760/1000\n",
      "16/16 [==============================] - 0s 6ms/step - loss: 0.4620 - accuracy: 0.8086\n",
      "Epoch 761/1000\n",
      "16/16 [==============================] - 0s 6ms/step - loss: 0.4544 - accuracy: 0.8086\n",
      "Epoch 762/1000\n",
      "16/16 [==============================] - 0s 6ms/step - loss: 0.4586 - accuracy: 0.8106\n",
      "Epoch 763/1000\n",
      "16/16 [==============================] - 0s 6ms/step - loss: 0.4584 - accuracy: 0.8187\n",
      "Epoch 764/1000\n",
      "16/16 [==============================] - 0s 6ms/step - loss: 0.4508 - accuracy: 0.8065\n",
      "Epoch 765/1000\n",
      "16/16 [==============================] - 0s 5ms/step - loss: 0.4606 - accuracy: 0.8126\n",
      "Epoch 766/1000\n",
      "16/16 [==============================] - 0s 6ms/step - loss: 0.4509 - accuracy: 0.8065\n",
      "Epoch 767/1000\n",
      "16/16 [==============================] - 0s 6ms/step - loss: 0.4540 - accuracy: 0.8106\n",
      "Epoch 768/1000\n",
      "16/16 [==============================] - 0s 5ms/step - loss: 0.4597 - accuracy: 0.8045\n",
      "Epoch 769/1000\n",
      "16/16 [==============================] - 0s 6ms/step - loss: 0.4549 - accuracy: 0.8126\n",
      "Epoch 770/1000\n",
      "16/16 [==============================] - 0s 6ms/step - loss: 0.4540 - accuracy: 0.8147\n",
      "Epoch 771/1000\n",
      "16/16 [==============================] - 0s 7ms/step - loss: 0.4593 - accuracy: 0.8086\n",
      "Epoch 772/1000\n",
      "16/16 [==============================] - 0s 9ms/step - loss: 0.4578 - accuracy: 0.8045\n",
      "Epoch 773/1000\n",
      "16/16 [==============================] - 0s 8ms/step - loss: 0.4641 - accuracy: 0.8147\n",
      "Epoch 774/1000\n",
      "16/16 [==============================] - 0s 7ms/step - loss: 0.4569 - accuracy: 0.8086\n",
      "Epoch 775/1000\n",
      "16/16 [==============================] - 0s 7ms/step - loss: 0.4543 - accuracy: 0.8126\n",
      "Epoch 776/1000\n",
      "16/16 [==============================] - 0s 6ms/step - loss: 0.4556 - accuracy: 0.8065\n",
      "Epoch 777/1000\n",
      "16/16 [==============================] - 0s 6ms/step - loss: 0.4641 - accuracy: 0.8086\n",
      "Epoch 778/1000\n",
      "16/16 [==============================] - 0s 7ms/step - loss: 0.4575 - accuracy: 0.8024\n",
      "Epoch 779/1000\n",
      "16/16 [==============================] - 0s 6ms/step - loss: 0.4586 - accuracy: 0.8086\n",
      "Epoch 780/1000\n",
      "16/16 [==============================] - 0s 6ms/step - loss: 0.4537 - accuracy: 0.8045\n",
      "Epoch 781/1000\n",
      "16/16 [==============================] - 0s 7ms/step - loss: 0.4557 - accuracy: 0.8167\n",
      "Epoch 782/1000\n",
      "16/16 [==============================] - 0s 6ms/step - loss: 0.4595 - accuracy: 0.8106\n",
      "Epoch 783/1000\n",
      "16/16 [==============================] - 0s 7ms/step - loss: 0.4519 - accuracy: 0.8065\n",
      "Epoch 784/1000\n",
      "16/16 [==============================] - 0s 7ms/step - loss: 0.4585 - accuracy: 0.8106\n",
      "Epoch 785/1000\n",
      "16/16 [==============================] - 0s 7ms/step - loss: 0.4575 - accuracy: 0.8024\n",
      "Epoch 786/1000\n",
      "16/16 [==============================] - 0s 8ms/step - loss: 0.4530 - accuracy: 0.8065\n",
      "Epoch 787/1000\n",
      "16/16 [==============================] - 0s 9ms/step - loss: 0.4531 - accuracy: 0.8065\n",
      "Epoch 788/1000\n",
      "16/16 [==============================] - 0s 7ms/step - loss: 0.4635 - accuracy: 0.8065\n",
      "Epoch 789/1000\n",
      "16/16 [==============================] - 0s 6ms/step - loss: 0.4608 - accuracy: 0.8147\n",
      "Epoch 790/1000\n",
      "16/16 [==============================] - 0s 6ms/step - loss: 0.4518 - accuracy: 0.8065\n",
      "Epoch 791/1000\n",
      "16/16 [==============================] - 0s 7ms/step - loss: 0.4580 - accuracy: 0.8106\n",
      "Epoch 792/1000\n",
      "16/16 [==============================] - 0s 9ms/step - loss: 0.4639 - accuracy: 0.8045\n",
      "Epoch 793/1000\n",
      "16/16 [==============================] - 0s 6ms/step - loss: 0.4547 - accuracy: 0.8086\n",
      "Epoch 794/1000\n",
      "16/16 [==============================] - 0s 7ms/step - loss: 0.4524 - accuracy: 0.8065\n",
      "Epoch 795/1000\n",
      "16/16 [==============================] - 0s 7ms/step - loss: 0.4621 - accuracy: 0.8065\n",
      "Epoch 796/1000\n",
      "16/16 [==============================] - 0s 7ms/step - loss: 0.4554 - accuracy: 0.8086\n",
      "Epoch 797/1000\n",
      "16/16 [==============================] - 0s 7ms/step - loss: 0.4571 - accuracy: 0.8106\n",
      "Epoch 798/1000\n",
      "16/16 [==============================] - 0s 6ms/step - loss: 0.4568 - accuracy: 0.8045\n",
      "Epoch 799/1000\n",
      "16/16 [==============================] - 0s 6ms/step - loss: 0.4506 - accuracy: 0.8106\n",
      "Epoch 800/1000\n",
      "16/16 [==============================] - 0s 6ms/step - loss: 0.4594 - accuracy: 0.8086\n",
      "Epoch 801/1000\n",
      "16/16 [==============================] - 0s 7ms/step - loss: 0.4571 - accuracy: 0.8024\n",
      "Epoch 802/1000\n",
      "16/16 [==============================] - 0s 7ms/step - loss: 0.4588 - accuracy: 0.8106\n",
      "Epoch 803/1000\n",
      "16/16 [==============================] - 0s 7ms/step - loss: 0.4526 - accuracy: 0.8086\n",
      "Epoch 804/1000\n",
      "16/16 [==============================] - 0s 6ms/step - loss: 0.4589 - accuracy: 0.8126\n",
      "Epoch 805/1000\n",
      "16/16 [==============================] - 0s 6ms/step - loss: 0.4592 - accuracy: 0.8106\n",
      "Epoch 806/1000\n",
      "16/16 [==============================] - 0s 7ms/step - loss: 0.4589 - accuracy: 0.8106\n",
      "Epoch 807/1000\n",
      "16/16 [==============================] - 0s 6ms/step - loss: 0.4493 - accuracy: 0.8065\n",
      "Epoch 808/1000\n",
      "16/16 [==============================] - 0s 7ms/step - loss: 0.4570 - accuracy: 0.8065\n",
      "Epoch 809/1000\n",
      "16/16 [==============================] - 0s 7ms/step - loss: 0.4606 - accuracy: 0.8106\n",
      "Epoch 810/1000\n",
      "16/16 [==============================] - 0s 6ms/step - loss: 0.4578 - accuracy: 0.8167\n",
      "Epoch 811/1000\n",
      "16/16 [==============================] - 0s 5ms/step - loss: 0.4593 - accuracy: 0.8106\n",
      "Epoch 812/1000\n",
      "16/16 [==============================] - 0s 6ms/step - loss: 0.4586 - accuracy: 0.8045\n",
      "Epoch 813/1000\n",
      "16/16 [==============================] - 0s 6ms/step - loss: 0.4544 - accuracy: 0.8126\n",
      "Epoch 814/1000\n",
      "16/16 [==============================] - 0s 6ms/step - loss: 0.4589 - accuracy: 0.8086\n",
      "Epoch 815/1000\n",
      "16/16 [==============================] - 0s 6ms/step - loss: 0.4575 - accuracy: 0.8065\n",
      "Epoch 816/1000\n",
      "16/16 [==============================] - 0s 6ms/step - loss: 0.4626 - accuracy: 0.8106\n",
      "Epoch 817/1000\n",
      "16/16 [==============================] - 0s 6ms/step - loss: 0.4532 - accuracy: 0.8045\n",
      "Epoch 818/1000\n",
      "16/16 [==============================] - 0s 6ms/step - loss: 0.4564 - accuracy: 0.8106\n",
      "Epoch 819/1000\n",
      "16/16 [==============================] - 0s 6ms/step - loss: 0.4552 - accuracy: 0.8024\n",
      "Epoch 820/1000\n",
      "16/16 [==============================] - 0s 6ms/step - loss: 0.4530 - accuracy: 0.8106\n",
      "Epoch 821/1000\n",
      "16/16 [==============================] - 0s 7ms/step - loss: 0.4626 - accuracy: 0.8106\n",
      "Epoch 822/1000\n",
      "16/16 [==============================] - 0s 6ms/step - loss: 0.4533 - accuracy: 0.8086\n",
      "Epoch 823/1000\n",
      "16/16 [==============================] - 0s 6ms/step - loss: 0.4590 - accuracy: 0.8106\n",
      "Epoch 824/1000\n",
      "16/16 [==============================] - 0s 6ms/step - loss: 0.4586 - accuracy: 0.8086\n",
      "Epoch 825/1000\n",
      "16/16 [==============================] - 0s 5ms/step - loss: 0.4550 - accuracy: 0.8024\n",
      "Epoch 826/1000\n",
      "16/16 [==============================] - 0s 6ms/step - loss: 0.4528 - accuracy: 0.8106\n",
      "Epoch 827/1000\n",
      "16/16 [==============================] - 0s 6ms/step - loss: 0.4598 - accuracy: 0.8086\n",
      "Epoch 828/1000\n",
      "16/16 [==============================] - 0s 6ms/step - loss: 0.4566 - accuracy: 0.8065\n",
      "Epoch 829/1000\n",
      "16/16 [==============================] - 0s 6ms/step - loss: 0.4588 - accuracy: 0.8106\n",
      "Epoch 830/1000\n",
      "16/16 [==============================] - 0s 6ms/step - loss: 0.4540 - accuracy: 0.8126\n",
      "Epoch 831/1000\n",
      "16/16 [==============================] - 0s 6ms/step - loss: 0.4546 - accuracy: 0.8086\n",
      "Epoch 832/1000\n",
      "16/16 [==============================] - 0s 5ms/step - loss: 0.4598 - accuracy: 0.8126\n",
      "Epoch 833/1000\n",
      "16/16 [==============================] - 0s 6ms/step - loss: 0.4556 - accuracy: 0.8086\n",
      "Epoch 834/1000\n",
      "16/16 [==============================] - 0s 6ms/step - loss: 0.4522 - accuracy: 0.8106\n",
      "Epoch 835/1000\n",
      "16/16 [==============================] - 0s 5ms/step - loss: 0.4583 - accuracy: 0.8086\n",
      "Epoch 836/1000\n",
      "16/16 [==============================] - 0s 5ms/step - loss: 0.4570 - accuracy: 0.8086\n",
      "Epoch 837/1000\n",
      "16/16 [==============================] - 0s 6ms/step - loss: 0.4566 - accuracy: 0.8147\n",
      "Epoch 838/1000\n",
      "16/16 [==============================] - 0s 5ms/step - loss: 0.4589 - accuracy: 0.8106\n",
      "Epoch 839/1000\n",
      "16/16 [==============================] - 0s 5ms/step - loss: 0.4564 - accuracy: 0.8106\n",
      "Epoch 840/1000\n",
      "16/16 [==============================] - 0s 6ms/step - loss: 0.4502 - accuracy: 0.8126\n",
      "Epoch 841/1000\n",
      "16/16 [==============================] - 0s 6ms/step - loss: 0.4535 - accuracy: 0.8106\n",
      "Epoch 842/1000\n",
      "16/16 [==============================] - 0s 6ms/step - loss: 0.4597 - accuracy: 0.8086\n",
      "Epoch 843/1000\n",
      "16/16 [==============================] - 0s 5ms/step - loss: 0.4558 - accuracy: 0.8086\n",
      "Epoch 844/1000\n",
      "16/16 [==============================] - 0s 6ms/step - loss: 0.4563 - accuracy: 0.8065\n",
      "Epoch 845/1000\n",
      "16/16 [==============================] - 0s 6ms/step - loss: 0.4530 - accuracy: 0.8106\n",
      "Epoch 846/1000\n",
      "16/16 [==============================] - 0s 6ms/step - loss: 0.4548 - accuracy: 0.8065\n",
      "Epoch 847/1000\n",
      "16/16 [==============================] - 0s 6ms/step - loss: 0.4495 - accuracy: 0.8086\n",
      "Epoch 848/1000\n",
      "16/16 [==============================] - 0s 9ms/step - loss: 0.4577 - accuracy: 0.8045\n",
      "Epoch 849/1000\n",
      "16/16 [==============================] - 0s 6ms/step - loss: 0.4627 - accuracy: 0.8106\n",
      "Epoch 850/1000\n",
      "16/16 [==============================] - 0s 6ms/step - loss: 0.4511 - accuracy: 0.8126\n",
      "Epoch 851/1000\n",
      "16/16 [==============================] - 0s 7ms/step - loss: 0.4573 - accuracy: 0.8147\n",
      "Epoch 852/1000\n",
      "16/16 [==============================] - 0s 6ms/step - loss: 0.4618 - accuracy: 0.8126\n",
      "Epoch 853/1000\n",
      "16/16 [==============================] - 0s 5ms/step - loss: 0.4525 - accuracy: 0.8147\n",
      "Epoch 854/1000\n",
      "16/16 [==============================] - 0s 6ms/step - loss: 0.4583 - accuracy: 0.8024\n",
      "Epoch 855/1000\n",
      "16/16 [==============================] - 0s 7ms/step - loss: 0.4543 - accuracy: 0.8086\n",
      "Epoch 856/1000\n",
      "16/16 [==============================] - 0s 6ms/step - loss: 0.4589 - accuracy: 0.8065\n",
      "Epoch 857/1000\n",
      "16/16 [==============================] - 0s 6ms/step - loss: 0.4552 - accuracy: 0.8086\n",
      "Epoch 858/1000\n",
      "16/16 [==============================] - 0s 6ms/step - loss: 0.4558 - accuracy: 0.8167\n",
      "Epoch 859/1000\n",
      "16/16 [==============================] - 0s 6ms/step - loss: 0.4579 - accuracy: 0.8004\n",
      "Epoch 860/1000\n",
      "16/16 [==============================] - 0s 6ms/step - loss: 0.4537 - accuracy: 0.8065\n",
      "Epoch 861/1000\n",
      "16/16 [==============================] - 0s 6ms/step - loss: 0.4576 - accuracy: 0.8045\n",
      "Epoch 862/1000\n",
      "16/16 [==============================] - 0s 6ms/step - loss: 0.4591 - accuracy: 0.8086\n",
      "Epoch 863/1000\n",
      "16/16 [==============================] - 0s 6ms/step - loss: 0.4546 - accuracy: 0.8147\n",
      "Epoch 864/1000\n",
      "16/16 [==============================] - 0s 7ms/step - loss: 0.4521 - accuracy: 0.8147\n",
      "Epoch 865/1000\n",
      "16/16 [==============================] - 0s 6ms/step - loss: 0.4604 - accuracy: 0.8065\n",
      "Epoch 866/1000\n",
      "16/16 [==============================] - 0s 6ms/step - loss: 0.4593 - accuracy: 0.8126\n",
      "Epoch 867/1000\n",
      "16/16 [==============================] - 0s 6ms/step - loss: 0.4529 - accuracy: 0.8126\n",
      "Epoch 868/1000\n",
      "16/16 [==============================] - 0s 6ms/step - loss: 0.4622 - accuracy: 0.8106\n",
      "Epoch 869/1000\n",
      "16/16 [==============================] - 0s 6ms/step - loss: 0.4677 - accuracy: 0.8167\n",
      "Epoch 870/1000\n",
      "16/16 [==============================] - 0s 6ms/step - loss: 0.4606 - accuracy: 0.8106\n",
      "Epoch 871/1000\n",
      "16/16 [==============================] - 0s 6ms/step - loss: 0.4637 - accuracy: 0.8086\n",
      "Epoch 872/1000\n",
      "16/16 [==============================] - 0s 6ms/step - loss: 0.4598 - accuracy: 0.8086\n",
      "Epoch 873/1000\n",
      "16/16 [==============================] - 0s 6ms/step - loss: 0.4544 - accuracy: 0.8106\n",
      "Epoch 874/1000\n",
      "16/16 [==============================] - 0s 6ms/step - loss: 0.4577 - accuracy: 0.8126\n",
      "Epoch 875/1000\n",
      "16/16 [==============================] - 0s 6ms/step - loss: 0.4609 - accuracy: 0.8126\n",
      "Epoch 876/1000\n",
      "16/16 [==============================] - 0s 6ms/step - loss: 0.4601 - accuracy: 0.8126\n",
      "Epoch 877/1000\n",
      "16/16 [==============================] - 0s 6ms/step - loss: 0.4601 - accuracy: 0.8065\n",
      "Epoch 878/1000\n",
      "16/16 [==============================] - 0s 5ms/step - loss: 0.4562 - accuracy: 0.8126\n",
      "Epoch 879/1000\n",
      "16/16 [==============================] - 0s 5ms/step - loss: 0.4577 - accuracy: 0.8086\n",
      "Epoch 880/1000\n",
      "16/16 [==============================] - 0s 6ms/step - loss: 0.4560 - accuracy: 0.8147\n",
      "Epoch 881/1000\n",
      "16/16 [==============================] - 0s 6ms/step - loss: 0.4599 - accuracy: 0.8065\n",
      "Epoch 882/1000\n",
      "16/16 [==============================] - 0s 6ms/step - loss: 0.4605 - accuracy: 0.8086\n",
      "Epoch 883/1000\n",
      "16/16 [==============================] - 0s 5ms/step - loss: 0.4498 - accuracy: 0.8004\n",
      "Epoch 884/1000\n",
      "16/16 [==============================] - 0s 6ms/step - loss: 0.4594 - accuracy: 0.8086\n",
      "Epoch 885/1000\n",
      "16/16 [==============================] - 0s 6ms/step - loss: 0.4528 - accuracy: 0.8086\n",
      "Epoch 886/1000\n",
      "16/16 [==============================] - 0s 6ms/step - loss: 0.4604 - accuracy: 0.8086\n",
      "Epoch 887/1000\n",
      "16/16 [==============================] - 0s 8ms/step - loss: 0.4606 - accuracy: 0.8086\n",
      "Epoch 888/1000\n",
      "16/16 [==============================] - 0s 6ms/step - loss: 0.4534 - accuracy: 0.8106\n",
      "Epoch 889/1000\n",
      "16/16 [==============================] - 0s 6ms/step - loss: 0.4576 - accuracy: 0.8106\n",
      "Epoch 890/1000\n",
      "16/16 [==============================] - 0s 6ms/step - loss: 0.4602 - accuracy: 0.8126\n",
      "Epoch 891/1000\n",
      "16/16 [==============================] - 0s 8ms/step - loss: 0.4592 - accuracy: 0.8106\n",
      "Epoch 892/1000\n",
      "16/16 [==============================] - 0s 6ms/step - loss: 0.4586 - accuracy: 0.8126\n",
      "Epoch 893/1000\n",
      "16/16 [==============================] - 0s 6ms/step - loss: 0.4608 - accuracy: 0.8106\n",
      "Epoch 894/1000\n",
      "16/16 [==============================] - 0s 6ms/step - loss: 0.4548 - accuracy: 0.8106\n",
      "Epoch 895/1000\n",
      "16/16 [==============================] - 0s 9ms/step - loss: 0.4563 - accuracy: 0.8086\n",
      "Epoch 896/1000\n",
      "16/16 [==============================] - 0s 6ms/step - loss: 0.4559 - accuracy: 0.8147\n",
      "Epoch 897/1000\n",
      "16/16 [==============================] - 0s 8ms/step - loss: 0.4540 - accuracy: 0.8106\n",
      "Epoch 898/1000\n",
      "16/16 [==============================] - 0s 6ms/step - loss: 0.4574 - accuracy: 0.8086\n",
      "Epoch 899/1000\n",
      "16/16 [==============================] - 0s 5ms/step - loss: 0.4612 - accuracy: 0.8106\n",
      "Epoch 900/1000\n",
      "16/16 [==============================] - 0s 6ms/step - loss: 0.4587 - accuracy: 0.8126\n",
      "Epoch 901/1000\n",
      "16/16 [==============================] - 0s 6ms/step - loss: 0.4594 - accuracy: 0.8045\n",
      "Epoch 902/1000\n",
      "16/16 [==============================] - 0s 6ms/step - loss: 0.4556 - accuracy: 0.8106\n",
      "Epoch 903/1000\n",
      "16/16 [==============================] - 0s 6ms/step - loss: 0.4566 - accuracy: 0.8086\n",
      "Epoch 904/1000\n",
      "16/16 [==============================] - 0s 7ms/step - loss: 0.4579 - accuracy: 0.8106\n",
      "Epoch 905/1000\n",
      "16/16 [==============================] - 0s 6ms/step - loss: 0.4656 - accuracy: 0.8086\n",
      "Epoch 906/1000\n",
      "16/16 [==============================] - 0s 6ms/step - loss: 0.4591 - accuracy: 0.8065\n",
      "Epoch 907/1000\n",
      "16/16 [==============================] - 0s 5ms/step - loss: 0.4589 - accuracy: 0.8126\n",
      "Epoch 908/1000\n",
      "16/16 [==============================] - 0s 6ms/step - loss: 0.4598 - accuracy: 0.8065\n",
      "Epoch 909/1000\n",
      "16/16 [==============================] - 0s 5ms/step - loss: 0.4562 - accuracy: 0.8106\n",
      "Epoch 910/1000\n",
      "16/16 [==============================] - 0s 5ms/step - loss: 0.4618 - accuracy: 0.8086\n",
      "Epoch 911/1000\n",
      "16/16 [==============================] - 0s 6ms/step - loss: 0.4485 - accuracy: 0.8086\n",
      "Epoch 912/1000\n",
      "16/16 [==============================] - 0s 6ms/step - loss: 0.4636 - accuracy: 0.8065\n",
      "Epoch 913/1000\n",
      "16/16 [==============================] - 0s 6ms/step - loss: 0.4538 - accuracy: 0.8086\n",
      "Epoch 914/1000\n",
      "16/16 [==============================] - 0s 6ms/step - loss: 0.4569 - accuracy: 0.8106\n",
      "Epoch 915/1000\n",
      "16/16 [==============================] - 0s 5ms/step - loss: 0.4560 - accuracy: 0.8167\n",
      "Epoch 916/1000\n",
      "16/16 [==============================] - 0s 6ms/step - loss: 0.4549 - accuracy: 0.8126\n",
      "Epoch 917/1000\n",
      "16/16 [==============================] - 0s 6ms/step - loss: 0.4597 - accuracy: 0.8126\n",
      "Epoch 918/1000\n",
      "16/16 [==============================] - 0s 6ms/step - loss: 0.4553 - accuracy: 0.8086\n",
      "Epoch 919/1000\n",
      "16/16 [==============================] - 0s 6ms/step - loss: 0.4517 - accuracy: 0.8086\n",
      "Epoch 920/1000\n",
      "16/16 [==============================] - 0s 6ms/step - loss: 0.4616 - accuracy: 0.8086\n",
      "Epoch 921/1000\n",
      "16/16 [==============================] - 0s 6ms/step - loss: 0.4603 - accuracy: 0.8126\n",
      "Epoch 922/1000\n",
      "16/16 [==============================] - 0s 5ms/step - loss: 0.4580 - accuracy: 0.8086\n",
      "Epoch 923/1000\n",
      "16/16 [==============================] - 0s 6ms/step - loss: 0.4576 - accuracy: 0.8167\n",
      "Epoch 924/1000\n",
      "16/16 [==============================] - 0s 7ms/step - loss: 0.4573 - accuracy: 0.8065\n",
      "Epoch 925/1000\n",
      "16/16 [==============================] - 0s 8ms/step - loss: 0.4502 - accuracy: 0.8086\n",
      "Epoch 926/1000\n",
      "16/16 [==============================] - 0s 9ms/step - loss: 0.4595 - accuracy: 0.8065\n",
      "Epoch 927/1000\n",
      "16/16 [==============================] - 0s 8ms/step - loss: 0.4558 - accuracy: 0.7984\n",
      "Epoch 928/1000\n",
      "16/16 [==============================] - 0s 7ms/step - loss: 0.4537 - accuracy: 0.8086\n",
      "Epoch 929/1000\n",
      "16/16 [==============================] - 0s 7ms/step - loss: 0.4578 - accuracy: 0.8167\n",
      "Epoch 930/1000\n",
      "16/16 [==============================] - 0s 9ms/step - loss: 0.4545 - accuracy: 0.8024\n",
      "Epoch 931/1000\n",
      "16/16 [==============================] - 0s 8ms/step - loss: 0.4510 - accuracy: 0.8147\n",
      "Epoch 932/1000\n",
      "16/16 [==============================] - 0s 6ms/step - loss: 0.4591 - accuracy: 0.8086\n",
      "Epoch 933/1000\n",
      "16/16 [==============================] - 0s 7ms/step - loss: 0.4611 - accuracy: 0.8086\n",
      "Epoch 934/1000\n",
      "16/16 [==============================] - 0s 6ms/step - loss: 0.4553 - accuracy: 0.8147\n",
      "Epoch 935/1000\n",
      "16/16 [==============================] - 0s 7ms/step - loss: 0.4551 - accuracy: 0.8106\n",
      "Epoch 936/1000\n",
      "16/16 [==============================] - 0s 7ms/step - loss: 0.4558 - accuracy: 0.8147\n",
      "Epoch 937/1000\n",
      "16/16 [==============================] - 0s 7ms/step - loss: 0.4524 - accuracy: 0.8065\n",
      "Epoch 938/1000\n",
      "16/16 [==============================] - 0s 7ms/step - loss: 0.4586 - accuracy: 0.8106\n",
      "Epoch 939/1000\n",
      "16/16 [==============================] - 0s 7ms/step - loss: 0.4552 - accuracy: 0.8086\n",
      "Epoch 940/1000\n",
      "16/16 [==============================] - 0s 7ms/step - loss: 0.4692 - accuracy: 0.8065\n",
      "Epoch 941/1000\n",
      "16/16 [==============================] - 0s 7ms/step - loss: 0.4619 - accuracy: 0.8065\n",
      "Epoch 942/1000\n",
      "16/16 [==============================] - 0s 7ms/step - loss: 0.4527 - accuracy: 0.8147\n",
      "Epoch 943/1000\n",
      "16/16 [==============================] - 0s 8ms/step - loss: 0.4554 - accuracy: 0.8126\n",
      "Epoch 944/1000\n",
      "16/16 [==============================] - 0s 7ms/step - loss: 0.4633 - accuracy: 0.8065\n",
      "Epoch 945/1000\n",
      "16/16 [==============================] - 0s 6ms/step - loss: 0.4553 - accuracy: 0.8086\n",
      "Epoch 946/1000\n",
      "16/16 [==============================] - 0s 7ms/step - loss: 0.4636 - accuracy: 0.8086\n",
      "Epoch 947/1000\n",
      "16/16 [==============================] - 0s 7ms/step - loss: 0.4578 - accuracy: 0.8065\n",
      "Epoch 948/1000\n",
      "16/16 [==============================] - 0s 9ms/step - loss: 0.4531 - accuracy: 0.8147\n",
      "Epoch 949/1000\n",
      "16/16 [==============================] - 0s 7ms/step - loss: 0.4591 - accuracy: 0.8106\n",
      "Epoch 950/1000\n",
      "16/16 [==============================] - 0s 7ms/step - loss: 0.4598 - accuracy: 0.8126\n",
      "Epoch 951/1000\n",
      "16/16 [==============================] - 0s 7ms/step - loss: 0.4576 - accuracy: 0.8106\n",
      "Epoch 952/1000\n",
      "16/16 [==============================] - 0s 7ms/step - loss: 0.4566 - accuracy: 0.8126\n",
      "Epoch 953/1000\n",
      "16/16 [==============================] - 0s 7ms/step - loss: 0.4597 - accuracy: 0.8147\n",
      "Epoch 954/1000\n",
      "16/16 [==============================] - 0s 9ms/step - loss: 0.4621 - accuracy: 0.8086\n",
      "Epoch 955/1000\n",
      "16/16 [==============================] - 0s 12ms/step - loss: 0.4559 - accuracy: 0.8086\n",
      "Epoch 956/1000\n",
      "16/16 [==============================] - 0s 9ms/step - loss: 0.4556 - accuracy: 0.8086\n",
      "Epoch 957/1000\n",
      "16/16 [==============================] - 0s 7ms/step - loss: 0.4589 - accuracy: 0.8086\n",
      "Epoch 958/1000\n",
      "16/16 [==============================] - 0s 6ms/step - loss: 0.4520 - accuracy: 0.8106\n",
      "Epoch 959/1000\n",
      "16/16 [==============================] - 0s 5ms/step - loss: 0.4551 - accuracy: 0.8126\n",
      "Epoch 960/1000\n",
      "16/16 [==============================] - 0s 6ms/step - loss: 0.4594 - accuracy: 0.8106\n",
      "Epoch 961/1000\n",
      "16/16 [==============================] - 0s 7ms/step - loss: 0.4587 - accuracy: 0.8086\n",
      "Epoch 962/1000\n",
      "16/16 [==============================] - 0s 5ms/step - loss: 0.4606 - accuracy: 0.8086\n",
      "Epoch 963/1000\n",
      "16/16 [==============================] - 0s 5ms/step - loss: 0.4548 - accuracy: 0.8106\n",
      "Epoch 964/1000\n",
      "16/16 [==============================] - 0s 7ms/step - loss: 0.4518 - accuracy: 0.8147\n",
      "Epoch 965/1000\n",
      "16/16 [==============================] - 0s 5ms/step - loss: 0.4607 - accuracy: 0.8086\n",
      "Epoch 966/1000\n",
      "16/16 [==============================] - 0s 5ms/step - loss: 0.4522 - accuracy: 0.8065\n",
      "Epoch 967/1000\n",
      "16/16 [==============================] - 0s 5ms/step - loss: 0.4554 - accuracy: 0.8045\n",
      "Epoch 968/1000\n",
      "16/16 [==============================] - 0s 5ms/step - loss: 0.4558 - accuracy: 0.8065\n",
      "Epoch 969/1000\n",
      "16/16 [==============================] - 0s 5ms/step - loss: 0.4563 - accuracy: 0.8086\n",
      "Epoch 970/1000\n",
      "16/16 [==============================] - 0s 5ms/step - loss: 0.4583 - accuracy: 0.8086\n",
      "Epoch 971/1000\n",
      "16/16 [==============================] - 0s 5ms/step - loss: 0.4607 - accuracy: 0.8065\n",
      "Epoch 972/1000\n",
      "16/16 [==============================] - 0s 5ms/step - loss: 0.4534 - accuracy: 0.8065\n",
      "Epoch 973/1000\n",
      "16/16 [==============================] - 0s 5ms/step - loss: 0.4464 - accuracy: 0.8086\n",
      "Epoch 974/1000\n",
      "16/16 [==============================] - 0s 5ms/step - loss: 0.4555 - accuracy: 0.8045\n",
      "Epoch 975/1000\n",
      "16/16 [==============================] - 0s 5ms/step - loss: 0.4532 - accuracy: 0.8086\n",
      "Epoch 976/1000\n",
      "16/16 [==============================] - 0s 5ms/step - loss: 0.4532 - accuracy: 0.8065\n",
      "Epoch 977/1000\n",
      "16/16 [==============================] - 0s 5ms/step - loss: 0.4529 - accuracy: 0.8106\n",
      "Epoch 978/1000\n",
      "16/16 [==============================] - 0s 5ms/step - loss: 0.4595 - accuracy: 0.8086\n",
      "Epoch 979/1000\n",
      "16/16 [==============================] - 0s 5ms/step - loss: 0.4528 - accuracy: 0.8106\n",
      "Epoch 980/1000\n",
      "16/16 [==============================] - 0s 5ms/step - loss: 0.4598 - accuracy: 0.8106\n",
      "Epoch 981/1000\n",
      "16/16 [==============================] - 0s 5ms/step - loss: 0.4543 - accuracy: 0.8106\n",
      "Epoch 982/1000\n",
      "16/16 [==============================] - 0s 5ms/step - loss: 0.4640 - accuracy: 0.8126\n",
      "Epoch 983/1000\n",
      "16/16 [==============================] - 0s 5ms/step - loss: 0.4622 - accuracy: 0.8106\n",
      "Epoch 984/1000\n",
      "16/16 [==============================] - 0s 5ms/step - loss: 0.4579 - accuracy: 0.8106\n",
      "Epoch 985/1000\n",
      "16/16 [==============================] - 0s 5ms/step - loss: 0.4587 - accuracy: 0.8086\n",
      "Epoch 986/1000\n",
      "16/16 [==============================] - 0s 5ms/step - loss: 0.4556 - accuracy: 0.8086\n",
      "Epoch 987/1000\n",
      "16/16 [==============================] - 0s 5ms/step - loss: 0.4628 - accuracy: 0.8065\n",
      "Epoch 988/1000\n",
      "16/16 [==============================] - 0s 5ms/step - loss: 0.4517 - accuracy: 0.8126\n",
      "Epoch 989/1000\n",
      "16/16 [==============================] - 0s 5ms/step - loss: 0.4560 - accuracy: 0.8106\n",
      "Epoch 990/1000\n",
      "16/16 [==============================] - 0s 5ms/step - loss: 0.4555 - accuracy: 0.8147\n",
      "Epoch 991/1000\n",
      "16/16 [==============================] - 0s 5ms/step - loss: 0.4557 - accuracy: 0.8126\n",
      "Epoch 992/1000\n",
      "16/16 [==============================] - 0s 5ms/step - loss: 0.4569 - accuracy: 0.8126\n",
      "Epoch 993/1000\n",
      "16/16 [==============================] - 0s 5ms/step - loss: 0.4558 - accuracy: 0.8086\n",
      "Epoch 994/1000\n",
      "16/16 [==============================] - 0s 5ms/step - loss: 0.4608 - accuracy: 0.8086\n",
      "Epoch 995/1000\n",
      "16/16 [==============================] - 0s 5ms/step - loss: 0.4519 - accuracy: 0.8106\n",
      "Epoch 996/1000\n",
      "16/16 [==============================] - 0s 5ms/step - loss: 0.4597 - accuracy: 0.8086\n",
      "Epoch 997/1000\n",
      "16/16 [==============================] - 0s 5ms/step - loss: 0.4524 - accuracy: 0.8065\n",
      "Epoch 998/1000\n",
      "16/16 [==============================] - 0s 5ms/step - loss: 0.4542 - accuracy: 0.8126\n",
      "Epoch 999/1000\n",
      "16/16 [==============================] - 0s 5ms/step - loss: 0.4618 - accuracy: 0.8126\n",
      "Epoch 1000/1000\n",
      "16/16 [==============================] - 0s 5ms/step - loss: 0.4548 - accuracy: 0.8086\n"
     ]
    },
    {
     "data": {
      "text/plain": [
       "<keras.callbacks.History at 0x203856d7820>"
      ]
     },
     "execution_count": 113,
     "metadata": {},
     "output_type": "execute_result"
    }
   ],
   "source": [
    "nn.compile(loss=\"binary_crossentropy\",metrics=[\"accuracy\"])\n",
    "nn.fit(xtrain,ytrain,epochs=1000)"
   ]
  },
  {
   "cell_type": "markdown",
   "id": "f1edae7e",
   "metadata": {},
   "source": [
    "# Make predication on test data set using ANN model"
   ]
  },
  {
   "cell_type": "code",
   "execution_count": 115,
   "id": "8198c8b0",
   "metadata": {},
   "outputs": [],
   "source": [
    "Q = []\n",
    "for i in nn.predict(Test):\n",
    "    if(i[0] < 0.5):\n",
    "        Q.append(0)\n",
    "    else:\n",
    "        Q.append(1)"
   ]
  },
  {
   "cell_type": "code",
   "execution_count": 116,
   "id": "3fad64fc",
   "metadata": {},
   "outputs": [],
   "source": [
    "pred = le.inverse_transform(Q)"
   ]
  },
  {
   "cell_type": "code",
   "execution_count": 117,
   "id": "aa0160e9",
   "metadata": {},
   "outputs": [],
   "source": [
    "Predication[\"LoanStatus_ANN\"] = pred"
   ]
  },
  {
   "cell_type": "code",
   "execution_count": 118,
   "id": "24615361",
   "metadata": {},
   "outputs": [
    {
     "data": {
      "text/html": [
       "<div>\n",
       "<style scoped>\n",
       "    .dataframe tbody tr th:only-of-type {\n",
       "        vertical-align: middle;\n",
       "    }\n",
       "\n",
       "    .dataframe tbody tr th {\n",
       "        vertical-align: top;\n",
       "    }\n",
       "\n",
       "    .dataframe thead th {\n",
       "        text-align: right;\n",
       "    }\n",
       "</style>\n",
       "<table border=\"1\" class=\"dataframe\">\n",
       "  <thead>\n",
       "    <tr style=\"text-align: right;\">\n",
       "      <th></th>\n",
       "      <th>Loan_ID</th>\n",
       "      <th>Loan_Status_predication</th>\n",
       "      <th>LoanStatus_DecisionTree</th>\n",
       "      <th>LoanStatus_Randomforest</th>\n",
       "      <th>LoanStatus_ANN</th>\n",
       "    </tr>\n",
       "  </thead>\n",
       "  <tbody>\n",
       "    <tr>\n",
       "      <th>0</th>\n",
       "      <td>LP001015</td>\n",
       "      <td>Y</td>\n",
       "      <td>Y</td>\n",
       "      <td>Y</td>\n",
       "      <td>Y</td>\n",
       "    </tr>\n",
       "    <tr>\n",
       "      <th>1</th>\n",
       "      <td>LP001022</td>\n",
       "      <td>Y</td>\n",
       "      <td>Y</td>\n",
       "      <td>Y</td>\n",
       "      <td>Y</td>\n",
       "    </tr>\n",
       "    <tr>\n",
       "      <th>2</th>\n",
       "      <td>LP001031</td>\n",
       "      <td>Y</td>\n",
       "      <td>Y</td>\n",
       "      <td>Y</td>\n",
       "      <td>Y</td>\n",
       "    </tr>\n",
       "    <tr>\n",
       "      <th>3</th>\n",
       "      <td>LP001035</td>\n",
       "      <td>Y</td>\n",
       "      <td>Y</td>\n",
       "      <td>Y</td>\n",
       "      <td>Y</td>\n",
       "    </tr>\n",
       "    <tr>\n",
       "      <th>4</th>\n",
       "      <td>LP001051</td>\n",
       "      <td>Y</td>\n",
       "      <td>Y</td>\n",
       "      <td>Y</td>\n",
       "      <td>Y</td>\n",
       "    </tr>\n",
       "    <tr>\n",
       "      <th>...</th>\n",
       "      <td>...</td>\n",
       "      <td>...</td>\n",
       "      <td>...</td>\n",
       "      <td>...</td>\n",
       "      <td>...</td>\n",
       "    </tr>\n",
       "    <tr>\n",
       "      <th>362</th>\n",
       "      <td>LP002971</td>\n",
       "      <td>Y</td>\n",
       "      <td>Y</td>\n",
       "      <td>Y</td>\n",
       "      <td>Y</td>\n",
       "    </tr>\n",
       "    <tr>\n",
       "      <th>363</th>\n",
       "      <td>LP002975</td>\n",
       "      <td>Y</td>\n",
       "      <td>Y</td>\n",
       "      <td>Y</td>\n",
       "      <td>Y</td>\n",
       "    </tr>\n",
       "    <tr>\n",
       "      <th>364</th>\n",
       "      <td>LP002980</td>\n",
       "      <td>Y</td>\n",
       "      <td>Y</td>\n",
       "      <td>Y</td>\n",
       "      <td>Y</td>\n",
       "    </tr>\n",
       "    <tr>\n",
       "      <th>365</th>\n",
       "      <td>LP002986</td>\n",
       "      <td>Y</td>\n",
       "      <td>Y</td>\n",
       "      <td>Y</td>\n",
       "      <td>Y</td>\n",
       "    </tr>\n",
       "    <tr>\n",
       "      <th>366</th>\n",
       "      <td>LP002989</td>\n",
       "      <td>Y</td>\n",
       "      <td>Y</td>\n",
       "      <td>Y</td>\n",
       "      <td>Y</td>\n",
       "    </tr>\n",
       "  </tbody>\n",
       "</table>\n",
       "<p>367 rows × 5 columns</p>\n",
       "</div>"
      ],
      "text/plain": [
       "      Loan_ID Loan_Status_predication LoanStatus_DecisionTree  \\\n",
       "0    LP001015                       Y                       Y   \n",
       "1    LP001022                       Y                       Y   \n",
       "2    LP001031                       Y                       Y   \n",
       "3    LP001035                       Y                       Y   \n",
       "4    LP001051                       Y                       Y   \n",
       "..        ...                     ...                     ...   \n",
       "362  LP002971                       Y                       Y   \n",
       "363  LP002975                       Y                       Y   \n",
       "364  LP002980                       Y                       Y   \n",
       "365  LP002986                       Y                       Y   \n",
       "366  LP002989                       Y                       Y   \n",
       "\n",
       "    LoanStatus_Randomforest LoanStatus_ANN  \n",
       "0                         Y              Y  \n",
       "1                         Y              Y  \n",
       "2                         Y              Y  \n",
       "3                         Y              Y  \n",
       "4                         Y              Y  \n",
       "..                      ...            ...  \n",
       "362                       Y              Y  \n",
       "363                       Y              Y  \n",
       "364                       Y              Y  \n",
       "365                       Y              Y  \n",
       "366                       Y              Y  \n",
       "\n",
       "[367 rows x 5 columns]"
      ]
     },
     "execution_count": 118,
     "metadata": {},
     "output_type": "execute_result"
    }
   ],
   "source": [
    "Predication"
   ]
  },
  {
   "cell_type": "code",
   "execution_count": null,
   "id": "06dfbe18",
   "metadata": {},
   "outputs": [],
   "source": []
  }
 ],
 "metadata": {
  "kernelspec": {
   "display_name": "Python 3 (ipykernel)",
   "language": "python",
   "name": "python3"
  },
  "language_info": {
   "codemirror_mode": {
    "name": "ipython",
    "version": 3
   },
   "file_extension": ".py",
   "mimetype": "text/x-python",
   "name": "python",
   "nbconvert_exporter": "python",
   "pygments_lexer": "ipython3",
   "version": "3.8.12"
  }
 },
 "nbformat": 4,
 "nbformat_minor": 5
}
